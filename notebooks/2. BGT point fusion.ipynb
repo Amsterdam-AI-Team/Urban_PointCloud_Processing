{
 "cells": [
  {
   "cell_type": "code",
   "execution_count": null,
   "id": "32134cce-9eb9-4a0f-a7d1-412fda979aaa",
   "metadata": {},
   "outputs": [],
   "source": [
    "%config Completer.use_jedi = False"
   ]
  },
  {
   "cell_type": "code",
   "execution_count": null,
   "id": "f538d8e7-f542-47cb-ab0a-1b40c6675a0c",
   "metadata": {},
   "outputs": [],
   "source": [
    "# Add project src to path.\n",
    "import set_path\n",
    "\n",
    "# Import modules.\n",
    "import numpy as np\n",
    "import time\n",
    "\n",
    "%matplotlib widget\n",
    "import matplotlib.pyplot as plt\n",
    "import matplotlib.patches as patches\n",
    "\n",
    "import src.fusion as fusion\n",
    "import src.region_growing as growing\n",
    "import src.utils.las_utils as las_utils\n",
    "import src.utils.ahn_utils as ahn_utils\n",
    "import src.utils.clip_utils as clip_utils\n",
    "from src.utils.labels import Labels\n",
    "from src.utils.interpolation import FastGridInterpolator"
   ]
  },
  {
   "cell_type": "markdown",
   "id": "99c89a91-153d-4d34-985c-715b4eec9d63",
   "metadata": {},
   "source": [
    "## Set-up"
   ]
  },
  {
   "cell_type": "code",
   "execution_count": null,
   "id": "dcade098-c38f-4bae-a454-667d8596a417",
   "metadata": {},
   "outputs": [],
   "source": [
    "tilecode = '2386_9702'\n",
    "#tilecode = '2397_9705'\n",
    "\n",
    "bgt_data_file = '../datasets/bgt/custom_points_' + tilecode + '.csv'\n",
    "\n",
    "# Load elevation data.\n",
    "ahn_data_folder = '../datasets/ahn/'\n",
    "ahn_reader = ahn_utils.NPZReader(data_folder=ahn_data_folder)"
   ]
  },
  {
   "cell_type": "code",
   "execution_count": null,
   "id": "505e8c42-3352-4e6f-98a5-7e1d1f0ee8a1",
   "metadata": {},
   "outputs": [],
   "source": [
    "# Load labeled and grown LAS file.\n",
    "las_file = '../datasets/pointcloud/complete_' + tilecode + '.laz'\n",
    "las = las_utils.read_las(las_file)\n",
    "\n",
    "labels = las.label\n",
    "points = np.vstack((las.x, las.y, las.z)).T"
   ]
  },
  {
   "cell_type": "markdown",
   "id": "4ca170e6-9d85-4552-b995-828120ef3dc7",
   "metadata": {},
   "source": [
    "## Match point objects with clusters"
   ]
  },
  {
   "cell_type": "code",
   "execution_count": null,
   "id": "7293838a-be2f-47c8-98fc-0959ce9d8ee9",
   "metadata": {},
   "outputs": [],
   "source": [
    "# All possible parameters:\n",
    "# params = {'r_mult': 1.5,\n",
    "#           'search_pad': 1.5,\n",
    "#           'max_dist': 1.2,\n",
    "#           'voxel_res': 0.2,\n",
    "#           'seed_height': 1.75,\n",
    "#           'min_height': 2.,\n",
    "#           'max_r': 0.5,\n",
    "#           'min_points': 500,\n",
    "#           'z_min': 0.2,\n",
    "#           'z_max': 2.7,\n",
    "#           'label_height': 4.}\n",
    "\n",
    "tree_params = {'seed_height': 1.75, 'min_points': 500, 'max_r': 0.5, 'label_height': 5.}\n",
    "light_params = {'seed_height': 2.25, 'min_points': 400, 'max_r': 0.2, 'label_height': 5.}\n",
    "sign_params = {'seed_height': 1.75, 'min_points': 200, 'max_r': 0.2, 'min_height': 1.2, 'z_max': 2., 'label_height': 3.}\n",
    "\n",
    "# Fusers for BGT point data.\n",
    "tree_fuser = fusion.BGTPointFuser(Labels.TREE, bgt_type='boom', bgt_file=bgt_data_file, ahn_reader=ahn_reader, params=tree_params)\n",
    "light_fuser = fusion.BGTPointFuser(Labels.STREET_LIGHT, bgt_type='lichtmast', bgt_file=bgt_data_file, ahn_reader=ahn_reader, params=light_params)\n",
    "sign_fuser = fusion.BGTPointFuser(Labels.TRAFFIC_SIGN, bgt_type='verkeersbord', bgt_file=bgt_data_file, ahn_reader=ahn_reader, params=sign_params)"
   ]
  },
  {
   "cell_type": "code",
   "execution_count": null,
   "id": "3da03370-80a6-43b2-941a-a9f7db038f86",
   "metadata": {},
   "outputs": [],
   "source": [
    "mask = (labels != Labels.GROUND) & (labels != Labels.BUILDING) & (labels != Labels.CAR)\n",
    "\n",
    "start = time.time()\n",
    "tree_mask = tree_fuser.get_label_mask(points, labels, mask, tilecode)\n",
    "mask[tree_mask] = False\n",
    "end = time.time()\n",
    "print(f'Trees fused in {end-start:.2f} seconds.\\n')\n",
    "\n",
    "start = time.time()\n",
    "light_mask = light_fuser.get_label_mask(points, labels, mask, tilecode)\n",
    "mask[light_mask] = False\n",
    "end = time.time()\n",
    "print(f'Street lights fused in {end-start:.2f} seconds.\\n')\n",
    "\n",
    "start = time.time()\n",
    "sign_mask = sign_fuser.get_label_mask(points, labels, mask, tilecode)\n",
    "mask[sign_mask] = False\n",
    "end = time.time()\n",
    "print(f'Traffic signs fused in {end-start:.2f} seconds.')"
   ]
  },
  {
   "cell_type": "code",
   "execution_count": null,
   "id": "63184f00-dda5-478c-82cc-234af95ab5eb",
   "metadata": {},
   "outputs": [],
   "source": [
    "labels[tree_mask] = tree_fuser.get_label()\n",
    "labels[light_mask] = light_fuser.get_label()\n",
    "labels[sign_mask] = sign_fuser.get_label()"
   ]
  },
  {
   "cell_type": "markdown",
   "id": "9ad1a048-6541-4df8-a009-18d77e4695d9",
   "metadata": {},
   "source": [
    "## Extend point objects using LCC region growing"
   ]
  },
  {
   "cell_type": "code",
   "execution_count": null,
   "id": "9271db3b-aae4-4e1d-afeb-482184dfce39",
   "metadata": {},
   "outputs": [],
   "source": [
    "# All possible parameters:\n",
    "# params = {'plane_height': REQUIRED,\n",
    "#           'octree_level': 9,\n",
    "#           'min_comp_size': 100,\n",
    "#           'threshold': 0.5}\n",
    "\n",
    "light_top_params = {'plane_height': 3.25, 'threshold': 0.05}\n",
    "light_bottom_params = {'plane_height': 1.5, 'threshold': 0.5}\n",
    "\n",
    "sign_top_params = {'plane_height': 1.5, 'threshold': 0.05}\n",
    "sign_bottom_params = {'plane_height': 1.5, 'threshold': 0.5}\n",
    "\n",
    "light_lcc = growing.TopBottomLCC(Labels.STREET_LIGHT, ahn_reader, \n",
    "                                 top_params=light_top_params, \n",
    "                                 bottom_params=light_bottom_params)\n",
    "sign_lcc = growing.TopBottomLCC(Labels.TRAFFIC_SIGN, ahn_reader, \n",
    "                                top_params=sign_top_params, \n",
    "                                bottom_params=sign_bottom_params)"
   ]
  },
  {
   "cell_type": "code",
   "execution_count": null,
   "id": "4957dcc4-93ca-4a3c-a515-01ce7fc99f4e",
   "metadata": {},
   "outputs": [],
   "source": [
    "start = time.time()\n",
    "light_lcc_mask = light_lcc.get_label_mask(points, labels, mask, tilecode)\n",
    "labels[light_lcc_mask] = light_lcc.get_label()\n",
    "mask[light_lcc_mask] = False\n",
    "end = time.time()\n",
    "print(f'Street lights grown in {end-start:.2f} seconds.\\n')\n",
    "\n",
    "start = time.time()\n",
    "sign_lcc_mask = sign_lcc.get_label_mask(points, labels, mask, tilecode)\n",
    "labels[sign_lcc_mask] = sign_lcc.get_label()\n",
    "mask[sign_lcc_mask] = False\n",
    "end = time.time()\n",
    "print(f'Traffic signs grown in {end-start:.2f} seconds.')"
   ]
  },
  {
   "cell_type": "markdown",
   "id": "675000a2-f6c0-4af8-9a22-1c16844eb37e",
   "metadata": {},
   "source": [
    "### Trees, experimental"
   ]
  },
  {
   "cell_type": "code",
   "execution_count": null,
   "id": "c238f1a7-948d-457c-9b45-332a029c0b10",
   "metadata": {},
   "outputs": [],
   "source": [
    "tree_top_params = {'plane_height': 1.75, 'octree_level': 10, 'threshold': 0.01}\n",
    "tree_bottom_params = {'plane_height': 1.75, 'octree_level': 10, 'threshold': 0.8}\n",
    "\n",
    "tree_lcc = growing.TopBottomLCC(Labels.TREE, ahn_reader, \n",
    "                                top_params=tree_top_params, \n",
    "                                bottom_params=tree_bottom_params)\n",
    "\n",
    "start = time.time()\n",
    "tree_lcc_mask = tree_lcc.get_label_mask(points, labels, mask, tilecode)\n",
    "labels[tree_lcc_mask] = tree_lcc.get_label()\n",
    "mask[tree_lcc_mask] = False\n",
    "end = time.time()\n",
    "print(f'Trees grown in {end-start:.2f} seconds.')"
   ]
  },
  {
   "cell_type": "markdown",
   "id": "75d68680-387d-4dda-b47a-3d08516d6cfc",
   "metadata": {},
   "source": [
    "### Save LAS file"
   ]
  },
  {
   "cell_type": "code",
   "execution_count": null,
   "id": "e727bbb8-de66-432b-938a-5204ff0dd8a0",
   "metadata": {},
   "outputs": [],
   "source": [
    "# Save the result.\n",
    "out_file = '../datasets/pointcloud/poles_custom_' + tilecode + '.laz'\n",
    "las_utils.label_and_save_las(las, labels, out_file)"
   ]
  },
  {
   "cell_type": "markdown",
   "id": "4c4e60f4-fc18-4208-bec4-9ed76976f60c",
   "metadata": {},
   "source": [
    "## Visualize results"
   ]
  },
  {
   "cell_type": "code",
   "execution_count": null,
   "id": "9bdc5282-9cd0-48cb-8d28-daf31e6f0cfa",
   "metadata": {},
   "outputs": [],
   "source": [
    "# Visualize the resulting match.\n",
    "((x_min, y_max), (x_max, y_min)) = las_utils.get_bbox_from_tile_code(tilecode)\n",
    "\n",
    "ahn_tile = ahn_reader.filter_tile(tilecode)\n",
    "fast_z = FastGridInterpolator(ahn_tile['x'], ahn_tile['y'],\n",
    "                              ahn_tile['ground_surface'])\n",
    "points_z = fast_z(points[:, 0:2])\n",
    "\n",
    "plane_mask = (points[:, 2] >= points_z + 1.7) & (points[:, 2] <= points_z + 1.8)\n",
    "label_set = np.unique(labels[plane_mask])\n",
    "\n",
    "fig, ax = plt.subplots(1, constrained_layout=True)\n",
    "\n",
    "for label in label_set:\n",
    "    label_mask = plane_mask & (labels == label)\n",
    "    scatter = ax.scatter(points[label_mask, 0], points[label_mask, 1], marker='.', label=Labels.get_str(label))\n",
    "\n",
    "box = patches.Rectangle((x_min, y_min), x_max-x_min, y_max-y_min, linewidth=1, linestyle='--', edgecolor='grey', fill=False)\n",
    "\n",
    "ax.add_patch(box)\n",
    "ax.set_title(tilecode)\n",
    "ax.set_xlabel('X')\n",
    "ax.set_ylabel('Y')\n",
    "plt.axis('equal')\n",
    "ax.legend(loc='center left', bbox_to_anchor=(1, 0.5))\n",
    "plt.show()"
   ]
  },
  {
   "cell_type": "code",
   "execution_count": null,
   "id": "c76db512-d90a-4dc9-a30b-a780fb8fb8c0",
   "metadata": {},
   "outputs": [],
   "source": []
  }
 ],
 "metadata": {
  "kernelspec": {
   "display_name": "Python 3",
   "language": "python",
   "name": "python3"
  },
  "language_info": {
   "codemirror_mode": {
    "name": "ipython",
    "version": 3
   },
   "file_extension": ".py",
   "mimetype": "text/x-python",
   "name": "python",
   "nbconvert_exporter": "python",
   "pygments_lexer": "ipython3",
   "version": "3.7.10"
  }
 },
 "nbformat": 4,
 "nbformat_minor": 5
}
