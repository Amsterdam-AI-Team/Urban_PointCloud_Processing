{
 "cells": [
  {
   "cell_type": "markdown",
   "id": "d0e8f803-3c16-4f40-b6a4-4a5257bb33da",
   "metadata": {},
   "source": [
    "# Visualisation tools\n",
    "\n",
    "A demonstration of various visualisation tools to display AHN elevation surfaces, BGT data, and LAS point cloud labels."
   ]
  },
  {
   "cell_type": "code",
   "execution_count": null,
   "id": "d1c12d9f-131f-4e58-bb7e-69d8d2dff65b",
   "metadata": {},
   "outputs": [],
   "source": [
    "%matplotlib widget\n",
    "import matplotlib.pyplot as plt\n",
    "\n",
    "import set_path\n",
    "import src.utils.ahn_utils as ahn_utils\n",
    "import src.utils.plot_utils as plot_utils"
   ]
  },
  {
   "cell_type": "code",
   "execution_count": null,
   "id": "775c29b9-c767-45ca-8362-bd36a5e09b31",
   "metadata": {},
   "outputs": [],
   "source": [
    "# Load data.\n",
    "tilecode = '2386_9702'\n",
    "\n",
    "# Labelled LAS file (see Notebook 0).\n",
    "las_file = '../datasets/pointcloud/processed_' + tilecode + '.laz'\n",
    "\n",
    "# AHN data folder.\n",
    "ahn_data_folder = '../datasets/ahn/'\n",
    "# File with BGT building polygons.\n",
    "bgt_building_file = '../datasets/bgt/bgt_buildings.csv'\n",
    "# File with BGT road polygons.\n",
    "bgt_road_file = '../datasets/bgt/bgt_roads_demo.csv'\n",
    "# File with <x,y> coordinates of pole-like objects.\n",
    "bgt_point_file = '../datasets/bgt/custom_points_demo.csv'\n",
    "\n",
    "# AHNReader for elevation data.\n",
    "ahn_reader = ahn_utils.NPZReader(ahn_data_folder)"
   ]
  },
  {
   "cell_type": "markdown",
   "id": "c2dc1fb9-4ef7-4455-8af3-217e9f9f1b89",
   "metadata": {},
   "source": [
    "### Plot BGT data"
   ]
  },
  {
   "cell_type": "code",
   "execution_count": null,
   "id": "86766231-ab85-472c-aad7-75c6ba2ec492",
   "metadata": {},
   "outputs": [],
   "source": [
    "plot_utils.plot_bgt(tilecode, bgt_building_file, bgt_road_file, bgt_point_file)"
   ]
  },
  {
   "cell_type": "code",
   "execution_count": null,
   "id": "b6058148-d124-424b-9140-34ed9c55b43a",
   "metadata": {},
   "outputs": [],
   "source": [
    "plt.savefig(f'bgt_data_{tilecode}.png')"
   ]
  },
  {
   "cell_type": "markdown",
   "id": "f58b8cee-6552-4019-a92e-49271bce5b87",
   "metadata": {},
   "source": [
    "### Plot AHN ground and building surfaces together"
   ]
  },
  {
   "cell_type": "code",
   "execution_count": null,
   "id": "d512cb64-675d-4759-84e5-6a3a564a6e7f",
   "metadata": {},
   "outputs": [],
   "source": [
    "# Either side-by-side..\n",
    "plot_utils.plot_ahn_sidebyside(tilecode, ahn_reader)"
   ]
  },
  {
   "cell_type": "code",
   "execution_count": null,
   "id": "46f6cf49-ae03-43b7-8541-e06e947849b9",
   "metadata": {},
   "outputs": [],
   "source": [
    "# ..or together in one image.\n",
    "plot_utils.plot_ahn_merged(tilecode, ahn_reader)"
   ]
  },
  {
   "cell_type": "code",
   "execution_count": null,
   "id": "d66b9ab9-bf7d-4a85-915f-58588ce01d50",
   "metadata": {},
   "outputs": [],
   "source": [
    "plt.savefig(f'ahn_ground+building_{tilecode}.png')"
   ]
  },
  {
   "cell_type": "markdown",
   "id": "f42abe54-e6ae-4060-9d6e-427d97dea102",
   "metadata": {},
   "source": [
    "### Plot BGT building footprints and AHN building surface"
   ]
  },
  {
   "cell_type": "code",
   "execution_count": null,
   "id": "23111a97-e47c-4bcf-910b-b69548b3be25",
   "metadata": {},
   "outputs": [],
   "source": [
    "plot_utils.plot_buildings_ahn_bgt(tilecode, ahn_reader, bgt_building_file, offset=1, show_elevation=False, offset_only=False)"
   ]
  },
  {
   "cell_type": "code",
   "execution_count": null,
   "id": "a2251b75-e6e5-4f50-a474-2351520ea0df",
   "metadata": {},
   "outputs": [],
   "source": [
    "plt.savefig(f'building_ahn+bgt_{tilecode}.png')"
   ]
  },
  {
   "cell_type": "markdown",
   "id": "44d5e995-0205-4d9c-bcd3-a30f7e1a9f45",
   "metadata": {},
   "source": [
    "### Plot BGT data and LAS pointcloud labels side by side\n",
    "\n",
    "This also demonstrates how customized plots can be created by passing the target axes handle to the plotting functions."
   ]
  },
  {
   "cell_type": "code",
   "execution_count": null,
   "id": "3f7db407-a89b-4519-b6ae-cb3a42413164",
   "metadata": {},
   "outputs": [],
   "source": [
    "fig, (ax1, ax2) = plt.subplots(1, 2, figsize=(10, 5.5))\n",
    "plot_utils.plot_bgt(tilecode, bgt_building_file, bgt_road_file, bgt_point_file, title='BGT data', ax=ax1, legend_below=True)\n",
    "plot_utils.plot_cloud_slice(las_file, ahn_reader, plane_height=1.4, hide_noise=True, title='LAS labels', ax=ax2, legend_below=True)\n",
    "ax2.set_yticklabels([])\n",
    "ax2.yaxis.label.set_visible(False)\n",
    "fig.suptitle(f'Tile {tilecode}', fontsize=14)\n",
    "fig.subplots_adjust(top=0.95)\n",
    "plt.show()"
   ]
  },
  {
   "cell_type": "code",
   "execution_count": null,
   "id": "aa1994a0-c516-4f69-83fa-80b001857f54",
   "metadata": {},
   "outputs": [],
   "source": [
    "plt.savefig(f'bgt+labels_{tilecode}.png')"
   ]
  },
  {
   "cell_type": "code",
   "execution_count": null,
   "id": "f28740a9-ff30-4136-98e4-960a5933c517",
   "metadata": {},
   "outputs": [],
   "source": [
    "plt.close('all')"
   ]
  },
  {
   "cell_type": "code",
   "execution_count": null,
   "id": "397a34cc-f77b-4bf2-90d2-44e50eb46a67",
   "metadata": {},
   "outputs": [],
   "source": []
  }
 ],
 "metadata": {
  "kernelspec": {
   "display_name": "Python 3",
   "language": "python",
   "name": "python3"
  },
  "language_info": {
   "codemirror_mode": {
    "name": "ipython",
    "version": 3
   },
   "file_extension": ".py",
   "mimetype": "text/x-python",
   "name": "python",
   "nbconvert_exporter": "python",
   "pygments_lexer": "ipython3",
   "version": "3.7.10"
  }
 },
 "nbformat": 4,
 "nbformat_minor": 5
}
