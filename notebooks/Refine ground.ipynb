{
 "cells": [
  {
   "cell_type": "code",
   "execution_count": null,
   "id": "f0a59819-d0ee-4703-af44-0f97f601f7f4",
   "metadata": {},
   "outputs": [],
   "source": [
    "# Add project src to path.\n",
    "import set_path\n",
    "\n",
    "import numpy as np\n",
    "import logging\n",
    "\n",
    "import src.region_growing as growing\n",
    "import src.utils.ahn_utils as ahn_utils\n",
    "import src.utils.las_utils as las_utils\n",
    "import src.utils.log_utils as log_utils\n",
    "from src.labels import Labels\n",
    "from src.pipeline import Pipeline\n",
    "\n",
    "# INFO messages will be printed to console.\n",
    "log_utils.reset_logger()\n",
    "log_utils.add_console_logger(level=logging.DEBUG)"
   ]
  },
  {
   "cell_type": "code",
   "execution_count": null,
   "id": "2d303e9b-e638-4a08-a3bf-7bcbde9eee32",
   "metadata": {},
   "outputs": [],
   "source": [
    "tilecode = '2386_9702'\n",
    "# tilecode = '2397_9705'\n",
    "\n",
    "in_file = '../datasets/pointcloud/processed_' + tilecode + '.laz'\n",
    "out_file = '../datasets/pointcloud/refined_' + tilecode + '.laz'\n",
    "\n",
    "target_labels = [Labels.BUILDING, Labels.CAR, Labels.TREE, Labels.TRAFFIC_SIGN, Labels.STREET_LIGHT, Labels.CITY_BENCH, Labels.RUBBISH_BIN]\n",
    "exclude_labels = (Labels.NOISE,)\n",
    "\n",
    "ahn_data_folder = '../datasets/ahn/'\n",
    "npz_reader = ahn_utils.NPZReader(ahn_data_folder, caching=False)"
   ]
  },
  {
   "cell_type": "code",
   "execution_count": null,
   "id": "932d512c-0068-482e-aa62-eff750a002ac",
   "metadata": {},
   "outputs": [],
   "source": [
    "params = {'top': 1., 'grid_size': 0.4, 'min_comp_size': 100}\n",
    "\n",
    "refiner = growing.RefineGround(target_labels, npz_reader, params)"
   ]
  },
  {
   "cell_type": "markdown",
   "id": "18fe08ee-4b60-4567-b82a-07f0f48ec1b2",
   "metadata": {},
   "source": [
    "---\n",
    "\"Manual\" processing of the tile."
   ]
  },
  {
   "cell_type": "code",
   "execution_count": null,
   "id": "93f720b4-e5b5-4f9c-85af-567c56c6e755",
   "metadata": {},
   "outputs": [],
   "source": [
    "pointcloud = las_utils.read_las(in_file)\n",
    "points = np.vstack((pointcloud.x, pointcloud.y, pointcloud.z)).T\n",
    "labels = pointcloud.label"
   ]
  },
  {
   "cell_type": "code",
   "execution_count": null,
   "id": "57491d5c-7dc3-4e00-be80-6516546cce5f",
   "metadata": {},
   "outputs": [],
   "source": [
    "mask = np.ones((len(points),), dtype=bool)\n",
    "for l in exclude_labels:\n",
    "    mask = mask & (labels != l)"
   ]
  },
  {
   "cell_type": "code",
   "execution_count": null,
   "id": "d74ebf7c-3357-4537-b14a-22ed37df538b",
   "metadata": {},
   "outputs": [],
   "source": [
    "# TODO: why are no points added?"
   ]
  },
  {
   "cell_type": "code",
   "execution_count": null,
   "id": "b0f45f75-d041-4f74-af64-2c8f3893f405",
   "metadata": {},
   "outputs": [],
   "source": [
    "ref_mask = refiner.get_label_mask(points, labels, mask, tilecode)"
   ]
  },
  {
   "cell_type": "code",
   "execution_count": null,
   "id": "16d789cf-d28c-4d94-8154-18c5e8fca0dc",
   "metadata": {},
   "outputs": [],
   "source": [
    "for label, mask in zip(target_labels, ref_mask):\n",
    "    labels[mask] = label"
   ]
  },
  {
   "cell_type": "code",
   "execution_count": null,
   "id": "04bba67e-b980-4a9f-bcc7-dd1c93f2d98c",
   "metadata": {},
   "outputs": [],
   "source": [
    "las_utils.label_and_save_las(pointcloud, labels, out_file)"
   ]
  },
  {
   "cell_type": "markdown",
   "id": "bb5db1c0-bc58-4eb3-bf26-e392ef65ed88",
   "metadata": {},
   "source": [
    "---\n",
    "Add it to the pipeline.\n",
    "\n",
    "**DOESN'T WORK YET**"
   ]
  },
  {
   "cell_type": "code",
   "execution_count": null,
   "id": "44c646d8-93a2-4472-9e26-11f511db362a",
   "metadata": {},
   "outputs": [],
   "source": [
    "# Set-up region growing based on PCL pipeline.\n",
    "process_sequence = (refiner,)\n",
    "pipeline = Pipeline(processors=process_sequence, exclude_labels=exclude_labels, caching=False)"
   ]
  },
  {
   "cell_type": "code",
   "execution_count": null,
   "id": "1578e7b0-745f-46bd-9340-8ff9e0d504d7",
   "metadata": {},
   "outputs": [],
   "source": [
    "pipeline.process_file(in_file, out_file=out_file)"
   ]
  }
 ],
 "metadata": {
  "kernelspec": {
   "display_name": "Python 3 (ipykernel)",
   "language": "python",
   "name": "python3"
  },
  "language_info": {
   "codemirror_mode": {
    "name": "ipython",
    "version": 3
   },
   "file_extension": ".py",
   "mimetype": "text/x-python",
   "name": "python",
   "nbconvert_exporter": "python",
   "pygments_lexer": "ipython3",
   "version": "3.8.12"
  }
 },
 "nbformat": 4,
 "nbformat_minor": 5
}
