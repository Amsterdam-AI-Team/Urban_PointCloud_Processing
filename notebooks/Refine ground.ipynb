{
 "cells": [
  {
   "cell_type": "code",
   "execution_count": null,
   "id": "f0a59819-d0ee-4703-af44-0f97f601f7f4",
   "metadata": {},
   "outputs": [],
   "source": [
    "# Add project src to path.\n",
    "import set_path\n",
    "\n",
    "import numpy as np\n",
    "import logging\n",
    "\n",
    "import src.region_growing as growing\n",
    "import src.utils.ahn_utils as ahn_utils\n",
    "import src.utils.las_utils as las_utils\n",
    "import src.utils.log_utils as log_utils\n",
    "from src.labels import Labels\n",
    "from src.pipeline import Pipeline\n",
    "\n",
    "# INFO messages will be printed to console.\n",
    "log_utils.reset_logger()\n",
    "log_utils.add_console_logger(level=logging.DEBUG)"
   ]
  },
  {
   "cell_type": "raw",
   "id": "d5a627c0-9607-41c1-80fa-dcdaf81edc35",
   "metadata": {},
   "source": [
    "tilecode = '2386_9702'\n",
    "\n",
    "in_file = '../datasets/pointcloud/processed_' + tilecode + '.laz'\n",
    "out_file = '../datasets/pointcloud/refined_' + tilecode + '.laz'\n",
    "\n",
    "target_labels = [Labels.BUILDING, Labels.CAR, Labels.TREE, Labels.TRAFFIC_SIGN, Labels.STREET_LIGHT, Labels.CITY_BENCH, Labels.RUBBISH_BIN]\n",
    "exclude_labels = (Labels.NOISE,)\n",
    "\n",
    "ahn_data_folder = '../datasets/ahn/'\n",
    "npz_reader = ahn_utils.NPZReader(ahn_data_folder, caching=False)"
   ]
  },
  {
   "cell_type": "code",
   "execution_count": null,
   "id": "2d303e9b-e638-4a08-a3bf-7bcbde9eee32",
   "metadata": {},
   "outputs": [],
   "source": [
    "tilecode = '2623_9621'\n",
    "# tilecode = '2397_9705'\n",
    "\n",
    "in_folder = '../../datasets/Weesp_train/new_10_classes/'\n",
    "in_prefix = 'processed_'\n",
    "out_folder = '../../datasets/Weesp_train/new_10_classes_refined/'\n",
    "out_prefix = 'refined_'\n",
    "\n",
    "in_file = f'{in_folder}{in_prefix}{tilecode}.laz'\n",
    "out_file = f'{out_folder}{out_prefix}{tilecode}.laz'\n",
    "\n",
    "target_labels = growing.RefineGround.TARGET_LABELS\n",
    "exclude_labels = (Labels.NOISE,)\n",
    "\n",
    "ahn_data_folder = '../../datasets/Weesp/ahn4_tiles/'\n",
    "npz_reader = ahn_utils.NPZReader(ahn_data_folder, caching=False)"
   ]
  },
  {
   "cell_type": "code",
   "execution_count": null,
   "id": "932d512c-0068-482e-aa62-eff750a002ac",
   "metadata": {},
   "outputs": [],
   "source": [
    "params = {'top': 1., 'grid_size': 0.4, 'min_comp_size': 100}\n",
    "\n",
    "refiner = growing.RefineGround(target_labels, npz_reader, params)"
   ]
  },
  {
   "cell_type": "markdown",
   "id": "18fe08ee-4b60-4567-b82a-07f0f48ec1b2",
   "metadata": {},
   "source": [
    "---\n",
    "\"Manual\" processing of the tile."
   ]
  },
  {
   "cell_type": "code",
   "execution_count": null,
   "id": "93f720b4-e5b5-4f9c-85af-567c56c6e755",
   "metadata": {},
   "outputs": [],
   "source": [
    "pointcloud = las_utils.read_las(in_file)\n",
    "points = np.vstack((pointcloud.x, pointcloud.y, pointcloud.z)).T\n",
    "labels = pointcloud.label"
   ]
  },
  {
   "cell_type": "code",
   "execution_count": null,
   "id": "57491d5c-7dc3-4e00-be80-6516546cce5f",
   "metadata": {},
   "outputs": [],
   "source": [
    "mask = np.ones((len(points),), dtype=bool)\n",
    "for l in exclude_labels:\n",
    "    mask = mask & (labels != l)"
   ]
  },
  {
   "cell_type": "code",
   "execution_count": null,
   "id": "b0f45f75-d041-4f74-af64-2c8f3893f405",
   "metadata": {},
   "outputs": [],
   "source": [
    "ref_mask = refiner.get_label_mask(points, labels, mask, tilecode)"
   ]
  },
  {
   "cell_type": "code",
   "execution_count": null,
   "id": "16d789cf-d28c-4d94-8154-18c5e8fca0dc",
   "metadata": {},
   "outputs": [],
   "source": [
    "for label, mask in zip(target_labels, ref_mask):\n",
    "    labels[mask] = label"
   ]
  },
  {
   "cell_type": "code",
   "execution_count": null,
   "id": "04bba67e-b980-4a9f-bcc7-dd1c93f2d98c",
   "metadata": {},
   "outputs": [],
   "source": [
    "las_utils.label_and_save_las(pointcloud, labels, out_file)"
   ]
  },
  {
   "cell_type": "code",
   "execution_count": null,
   "id": "4083cd57-67a3-42f7-82b0-d9a124b8b5b9",
   "metadata": {},
   "outputs": [],
   "source": [
    "type(ref_mask) == list"
   ]
  },
  {
   "cell_type": "markdown",
   "id": "bb5db1c0-bc58-4eb3-bf26-e392ef65ed88",
   "metadata": {},
   "source": [
    "---\n",
    "Add it to the pipeline."
   ]
  },
  {
   "cell_type": "code",
   "execution_count": null,
   "id": "44c646d8-93a2-4472-9e26-11f511db362a",
   "metadata": {},
   "outputs": [],
   "source": [
    "# Set-up region growing based on PCL pipeline.\n",
    "process_sequence = (refiner,)\n",
    "pipeline = Pipeline(processors=process_sequence, exclude_labels=exclude_labels, caching=False)"
   ]
  },
  {
   "cell_type": "code",
   "execution_count": null,
   "id": "1578e7b0-745f-46bd-9340-8ff9e0d504d7",
   "metadata": {},
   "outputs": [],
   "source": [
    "pipeline.process_file(in_file, out_file=out_file)"
   ]
  },
  {
   "cell_type": "code",
   "execution_count": null,
   "id": "f4153766-1356-43fb-9663-2ba63ab322f9",
   "metadata": {},
   "outputs": [],
   "source": [
    "log_file = 'refine.log'\n",
    "# Re-set logging to suppress console output.\n",
    "log_utils.reset_logger()\n",
    "# Only ERROR messages will be printed to console.\n",
    "log_utils.add_console_logger(level=logging.ERROR)\n",
    "# All messages will be printed to a file. Use `clear_log` flag to clear the log file, if desired.\n",
    "log_utils.add_file_logger(log_file, clear_log=True)"
   ]
  },
  {
   "cell_type": "code",
   "execution_count": null,
   "id": "b994c932-91b4-4533-b7f5-e0c2fd339310",
   "metadata": {},
   "outputs": [],
   "source": [
    "pipeline.process_folder(in_folder=in_folder, out_folder=out_folder, in_prefix=in_prefix, out_prefix=out_prefix)"
   ]
  },
  {
   "cell_type": "markdown",
   "id": "82c9c503-4800-4376-af12-b8398bbf892e",
   "metadata": {},
   "source": [
    "---"
   ]
  },
  {
   "cell_type": "code",
   "execution_count": null,
   "id": "488c9f0c-a4a9-4b37-958d-f17222a44185",
   "metadata": {},
   "outputs": [],
   "source": [
    "tilecode = '2630_9603'\n",
    "in_file = f'{in_folder}{in_prefix}{tilecode}.laz'\n",
    "out_file = f'{out_folder}{out_prefix}{tilecode}.laz'"
   ]
  },
  {
   "cell_type": "code",
   "execution_count": null,
   "id": "78a26af7-9186-4e02-9ac1-2ee5ec0105d8",
   "metadata": {},
   "outputs": [],
   "source": [
    "import numpy as np\n",
    "import laspy\n",
    "\n",
    "def clean_las(in_file, out_file):\n",
    "    pc = laspy.read(in_file)\n",
    "    points = np.vstack((pc.x, pc.y, pc.z)).T\n",
    "    rgb = np.vstack((pc.red, pc.green, pc.blue)).T\n",
    "    \n",
    "    header = laspy.LasHeader(point_format=3, version=\"1.2\")\n",
    "    header.add_extra_dim(laspy.ExtraBytesParams(name=\"label\", type=np.uint8,\n",
    "                                                description=\"Labels\"))\n",
    "    header.offsets = pc.header.offsets\n",
    "    header.scales = pc.header.scales\n",
    "\n",
    "    clean_pc = laspy.LasData(header)\n",
    "    clean_pc.x = points[:, 0]\n",
    "    clean_pc.y = points[:, 1]\n",
    "    clean_pc.z = points[:, 2]\n",
    "    max_c = np.max(rgb)\n",
    "    if max_c <= 1.:\n",
    "        rgb = (rgb * 2**8).astype('uint8')\n",
    "    elif max_c <= 2**8:\n",
    "        pass\n",
    "    elif max_c <= 2**16:\n",
    "        rgb = (rgb / 2**8).astype('uint8')\n",
    "    else:\n",
    "        print(f'Something weird is going on in {in_file}.')\n",
    "    clean_pc.red = rgb[:, 0]\n",
    "    clean_pc.green = rgb[:, 1]\n",
    "    clean_pc.blue = rgb[:, 2]\n",
    "    clean_pc.intensity = pc.intensity\n",
    "    clean_pc.gps_time = pc.gps_time\n",
    "    clean_pc.return_number = pc.return_number\n",
    "    clean_pc.number_of_returns = pc.number_of_returns\n",
    "    clean_pc.label = pc.label.astype('uint8')\n",
    "    clean_pc.write(out_file)"
   ]
  },
  {
   "cell_type": "code",
   "execution_count": null,
   "id": "5ab173ec-8348-4d5b-818e-cb44adaa94e3",
   "metadata": {},
   "outputs": [],
   "source": [
    "tilecode = '2630_9603'\n",
    "in_folder = '../../datasets/Weesp_train/new_10_classes/'\n",
    "in_prefix = 'processed_'\n",
    "out_folder = '../../datasets/Weesp_train/new_10_classes_refined/'\n",
    "out_prefix = 'refined_'\n",
    "\n",
    "# in_file = f'{out_folder}{out_prefix}{tilecode}.laz'\n",
    "in_file = f'{in_folder}{in_prefix}{tilecode}.laz'\n",
    "out_file = '../../datasets/Weesp_train/processed_2630_9603.laz'"
   ]
  },
  {
   "cell_type": "code",
   "execution_count": null,
   "id": "1d8a2dc9-2f5e-4b33-9679-253dd43e138f",
   "metadata": {},
   "outputs": [],
   "source": [
    "import pathlib\n",
    "in_folder = '../../datasets/Weesp_train/new_10_classes_refined/'\n",
    "in_prefix = 'refined_'\n",
    "\n",
    "files = list(pathlib.Path(in_folder).glob(f'{in_prefix}*.laz'))\n",
    "for f in files:\n",
    "    tilecode = las_utils.get_tilecode_from_filename(f.as_posix())\n",
    "    las = laspy.read(f)\n",
    "    print(f'{tilecode}: {las.label.dtype}')"
   ]
  },
  {
   "cell_type": "code",
   "execution_count": null,
   "id": "170acfc0-4e4d-4129-9816-55955642d378",
   "metadata": {},
   "outputs": [],
   "source": []
  }
 ],
 "metadata": {
  "kernelspec": {
   "display_name": "Python 3 (ipykernel)",
   "language": "python",
   "name": "python3"
  },
  "language_info": {
   "codemirror_mode": {
    "name": "ipython",
    "version": 3
   },
   "file_extension": ".py",
   "mimetype": "text/x-python",
   "name": "python",
   "nbconvert_exporter": "python",
   "pygments_lexer": "ipython3",
   "version": "3.8.12"
  }
 },
 "nbformat": 4,
 "nbformat_minor": 5
}
