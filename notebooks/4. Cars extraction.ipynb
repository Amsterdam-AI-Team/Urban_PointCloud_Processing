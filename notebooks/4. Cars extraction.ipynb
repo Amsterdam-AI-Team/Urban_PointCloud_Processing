{
 "cells": [
  {
   "cell_type": "code",
   "execution_count": 1,
   "metadata": {},
   "outputs": [],
   "source": [
    "# Add project src to path.\n",
    "import set_path\n",
    "\n",
    "import numpy as np\n",
    "\n",
    "from src.utils.clip_utils import cylinder_clip\n",
    "from src.utils.las_utils import get_bbox_from_las_file, read_las, label_and_save_las"
   ]
  },
  {
   "cell_type": "code",
   "execution_count": 7,
   "metadata": {},
   "outputs": [],
   "source": [
    "in_file = '../datasets/pointcloud/grown_2397_9705.las'\n",
    "out_file = '../datasets/pointcloud/cars_2397_9705.laz'"
   ]
  },
  {
   "cell_type": "code",
   "execution_count": 3,
   "metadata": {},
   "outputs": [],
   "source": [
    "tilecode = get_bbox_from_las_file(in_file)"
   ]
  },
  {
   "cell_type": "code",
   "execution_count": 4,
   "metadata": {},
   "outputs": [
    {
     "name": "stdout",
     "output_type": "stream",
     "text": [
      "((119300, 485150), (119350, 485100))\n"
     ]
    }
   ],
   "source": [
    "print(tilecode)"
   ]
  },
  {
   "cell_type": "code",
   "execution_count": 5,
   "metadata": {},
   "outputs": [],
   "source": [
    "center_point = (119320.032,485101.222)"
   ]
  },
  {
   "cell_type": "code",
   "execution_count": 8,
   "metadata": {},
   "outputs": [],
   "source": [
    "pointcloud = read_las(in_file)\n",
    "las_labels = pointcloud.label\n",
    "points = np.vstack((pointcloud.x, pointcloud.y, pointcloud.z)).T"
   ]
  },
  {
   "cell_type": "code",
   "execution_count": 11,
   "metadata": {},
   "outputs": [],
   "source": [
    "from src.utils.labels import Labels\n",
    "import numpy as np"
   ]
  },
  {
   "cell_type": "code",
   "execution_count": 17,
   "metadata": {},
   "outputs": [
    {
     "name": "stdout",
     "output_type": "stream",
     "text": [
      "0.4967587400971777\n"
     ]
    }
   ],
   "source": [
    "mask = las_labels == Labels.GROUND\n",
    "len(pointcloud.z[mask])\n",
    "\n",
    "print(np.average(pointcloud.z[mask]))"
   ]
  },
  {
   "cell_type": "code",
   "execution_count": 20,
   "metadata": {},
   "outputs": [],
   "source": [
    "exclude_labels = (1,2)"
   ]
  },
  {
   "cell_type": "code",
   "execution_count": 21,
   "metadata": {},
   "outputs": [],
   "source": [
    "mask = np.full(len(las_labels), True)\n",
    "\n",
    "for exclude_label in exclude_labels:\n",
    "    mask = mask & (las_labels != exclude_label)"
   ]
  },
  {
   "cell_type": "code",
   "execution_count": 22,
   "metadata": {},
   "outputs": [],
   "source": [
    "labeltje = cylinder_clip(points[mask, :], center_point, 0.6)"
   ]
  },
  {
   "cell_type": "code",
   "execution_count": 23,
   "metadata": {},
   "outputs": [],
   "source": [
    "mask_indices = np.where(mask)[0]\n",
    "label_mask = np.zeros(len(mask), dtype=bool)"
   ]
  },
  {
   "cell_type": "code",
   "execution_count": 24,
   "metadata": {},
   "outputs": [],
   "source": [
    "label_mask[mask_indices[labeltje]] = True"
   ]
  },
  {
   "cell_type": "code",
   "execution_count": 25,
   "metadata": {},
   "outputs": [],
   "source": [
    "las_labels[label_mask] = 5\n"
   ]
  },
  {
   "cell_type": "code",
   "execution_count": 26,
   "metadata": {},
   "outputs": [],
   "source": [
    "label_and_save_las(pointcloud, las_labels, out_file)"
   ]
  },
  {
   "cell_type": "markdown",
   "metadata": {},
   "source": [
    "# Region Growing\n",
    "\n",
    "Starting from seed points, the region-growing algorithm is used to decide whether a point should be included in a region or not. Two different implementations are explained in this notebook:\n",
    "- Region growing based on the Point Cloud Library (PCL) implementation\n",
    "- Clustering based region growing using \"Label Connected Components\"\n"
   ]
  },
  {
   "cell_type": "code",
   "execution_count": null,
   "metadata": {},
   "outputs": [],
   "source": [
    "# Add project src to path.\n",
    "import set_path\n",
    "\n",
    "import numpy as np\n",
    "import pylas\n",
    "import time\n",
    "\n",
    "from src.utils.las_utils import label_and_save_las\n",
    "from src.utils.labels import Labels\n",
    "import src.region_growing as growing\n",
    "from src.fusion_pipeline import FusionPipeline"
   ]
  },
  {
   "cell_type": "code",
   "execution_count": null,
   "metadata": {},
   "outputs": [],
   "source": [
    "# In this example we want to grow the building points, the initial seed points.\n",
    "# The ground points must be removed to fast and properly cluster the cloud.\n",
    "seed_point_label = Labels.BUILDING\n",
    "exclude_labels = (Labels.GROUND,)"
   ]
  },
  {
   "cell_type": "markdown",
   "metadata": {},
   "source": [
    "## Region growing segmentation based on PCL\n",
    "\n",
    "### Algorithm explained\n",
    "Based on: https://pcl.readthedocs.io/projects/tutorials/en/latest/region_growing_segmentation.html\n",
    "\n",
    "With the PCL implementation, a point is picked with minimum curvature value and the region growth process is started. In our implementation, we start from initial seed points that are considered to be inside the object to be segmented. \n",
    "\n",
    "For every point in the seed list, the algorithm finds neighboring points. Every neighbor is tested for the angle between its normal and normal of the current seed point. If the angle is less than the threshold value then current point is added to the current region."
   ]
  },
  {
   "cell_type": "code",
   "execution_count": null,
   "metadata": {},
   "outputs": [],
   "source": [
    "# Region growing with building points as initial seed points. \n",
    "region_growing_pcl = growing.RegionGrowing(Labels.BUILDING, exclude_labels)"
   ]
  },
  {
   "cell_type": "markdown",
   "metadata": {},
   "source": [
    "## Clustering based region growing segmentation\n",
    "\n",
    "### Algorithm explained\n",
    "This code performs clustering based region growing segmentation. The main tasks include: \n",
    "- The [Label Connected Components Segmentation](https://www.cloudcompare.org/doc/wiki/index.php?title=Label_Connected_Components) algorithm clusters the selected cloud(s) in smaller parts separated by a minimum distance.\n",
    "- Next, our code grows regions, or in this case all points inside a clusters, based on a percentage of initial seed points inside a cluster. \n",
    "\n",
    "### Installation instructions\n",
    "A Python wrapper provided for CloudCompare allows to use “Label Connected Components”. The Python wrapper works on **linux only**. This wrapper and all the dependencies can be installed using the build and installation instructions in the README at [CloudCompare-PythonPlugin.](https://github.com/tmontaigu/CloudCompare-PythonPlugin.git)"
   ]
  },
  {
   "cell_type": "code",
   "execution_count": null,
   "metadata": {},
   "outputs": [],
   "source": [
    "# Region growing with building points as initial seed points. \n",
    "region_growing_clustering = growing.LabelConnectedComp(Labels.BUILDING, exclude_labels,\n",
    "                                                       octree_level=10, min_component_size=100)"
   ]
  },
  {
   "cell_type": "markdown",
   "metadata": {},
   "source": [
    "## Process point clouds and save the results"
   ]
  },
  {
   "cell_type": "code",
   "execution_count": null,
   "metadata": {},
   "outputs": [],
   "source": [
    "# Set-up region growing based on PCL pipeline.\n",
    "growers = (region_growing_pcl,)\n",
    "pipeline = FusionPipeline(region_growing=growers)"
   ]
  },
  {
   "cell_type": "code",
   "execution_count": null,
   "metadata": {},
   "outputs": [],
   "source": [
    "# Set-up clustering based region growing pipeline.\n",
    "growers = (region_growing_clustering,)\n",
    "pipeline = FusionPipeline(region_growing=growers)"
   ]
  },
  {
   "cell_type": "markdown",
   "metadata": {},
   "source": [
    "### Process a single file"
   ]
  },
  {
   "cell_type": "code",
   "execution_count": null,
   "metadata": {},
   "outputs": [],
   "source": [
    "# Select the file to process. The outfile can be set to 'None' to overwrite the file.\n",
    "in_file = '../datasets/pointcloud/labelled_2386_9702.laz'\n",
    "out_file = '../datasets/pointcloud/grown_2386_9702.laz'\n",
    "\n",
    "# Process the file.\n",
    "start = time.time()\n",
    "pipeline.process_file(in_file, out_file=out_file)\n",
    "end = time.time()\n",
    "print(f'Tile labelled in {end-start:.2f} seconds.')"
   ]
  },
  {
   "cell_type": "markdown",
   "metadata": {},
   "source": [
    "### Process a folder"
   ]
  },
  {
   "cell_type": "code",
   "execution_count": null,
   "metadata": {},
   "outputs": [],
   "source": [
    "# Select the folder to process. \n",
    "in_folder = '../datasets/pointcloud/'\n",
    "# Output folder. 'None' uses the input folder.\n",
    "out_folder = None\n",
    "# Suffix to add to the filename of processed files. An empty string indicates \n",
    "# that the same filename is kept; when out_folder=None this means overwriting.\n",
    "suffix = '_grown'\n",
    "\n",
    "# Process the folder.\n",
    "pipeline.process_folder(in_folder, out_folder=out_folder, suffix=suffix)"
   ]
  },
  {
   "cell_type": "code",
   "execution_count": null,
   "metadata": {},
   "outputs": [],
   "source": []
  }
 ],
 "metadata": {
  "kernelspec": {
   "display_name": "Python 3",
   "language": "python",
   "name": "python3"
  },
  "language_info": {
   "codemirror_mode": {
    "name": "ipython",
    "version": 3
   },
   "file_extension": ".py",
   "mimetype": "text/x-python",
   "name": "python",
   "nbconvert_exporter": "python",
   "pygments_lexer": "ipython3",
   "version": "3.8.5"
  }
 },
 "nbformat": 4,
 "nbformat_minor": 4
}
