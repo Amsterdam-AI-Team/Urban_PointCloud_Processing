{
 "cells": [
  {
   "cell_type": "code",
   "execution_count": null,
   "id": "e471e61b",
   "metadata": {},
   "outputs": [],
   "source": [
    "# Add project src to path.\n",
    "import set_path\n",
    "\n",
    "import time\n",
    "import numpy as np\n",
    "import glob\n",
    "\n",
    "from src.region_growing.label_connected_comp import LabelConnectedComp\n",
    "from src.utils.las_utils import read_las, label_and_save_las\n",
    "from src.utils.labels import Labels"
   ]
  },
  {
   "cell_type": "code",
   "execution_count": null,
   "id": "66058a30",
   "metadata": {},
   "outputs": [],
   "source": [
    "min_component_size = 500\n",
    "max_component_size = 10000\n",
    "min_component_height = 4\n",
    "\n",
    "def get_cluster_dim(point_components, mask, points):\n",
    "    mask_indices = np.where(mask)[0]\n",
    "\n",
    "    cc_labels, counts = np.unique(point_components,\n",
    "                                  return_counts=True)\n",
    "\n",
    "    cc_labels_filtered = cc_labels[(counts >= min_component_size) & (counts <= max_component_size)]\n",
    "\n",
    "    for cc in cc_labels_filtered:\n",
    "        # select points that belong to the cluster\n",
    "        cc_mask = (point_components == cc)\n",
    "\n",
    "        xyz = points[mask_indices[cc_mask]]\n",
    "        x_points = xyz[:,0]\n",
    "        y_points = xyz[:,1]\n",
    "        z_points = xyz[:,2]\n",
    "        z_min, z_max = np.min(z_points), np.max(z_points)\n",
    "\n",
    "        if (z_max - z_min) > min_component_height:\n",
    "            # Calculate the centroid of the cluster\n",
    "            centroid = (round(sum(x_points) / len(xyz),2), round(sum(y_points) / len(xyz),2))\n",
    "            print(centroid)"
   ]
  },
  {
   "cell_type": "code",
   "execution_count": null,
   "id": "b7631620",
   "metadata": {},
   "outputs": [],
   "source": [
    "save = True\n",
    "for tile in glob.glob(\"../datasets/pointcloud/*.laz\"):\n",
    "    tilename = tile.split(\"/\")[-1]\n",
    "    pointcloud = read_las(tile)\n",
    "    pointcloud_pred = read_las(\"../datasets/pointcloud/pred/\" + tilename)\n",
    "    points = np.vstack((pointcloud.x, pointcloud.y, pointcloud.z)).T\n",
    "    labels = pointcloud_pred.label   \n",
    "\n",
    "    mask = labels == Labels.STREET_LIGHT\n",
    "    \n",
    "    lcc = LabelConnectedComp(Labels.STREET_LIGHT)\n",
    "    point_components = lcc.get_components(points[mask])\n",
    "    \n",
    "    get_cluster_dim(point_components, mask, points)\n",
    "    \n",
    "    if save:\n",
    "        label_and_save_las(pointcloud, pointcloud_pred.label, \"../datasets/pointcloud/merged/\" + tilename)"
   ]
  },
  {
   "cell_type": "code",
   "execution_count": null,
   "id": "7f79c96b",
   "metadata": {},
   "outputs": [],
   "source": []
  }
 ],
 "metadata": {
  "kernelspec": {
   "display_name": "Python 3 (ipykernel)",
   "language": "python",
   "name": "python3"
  },
  "language_info": {
   "codemirror_mode": {
    "name": "ipython",
    "version": 3
   },
   "file_extension": ".py",
   "mimetype": "text/x-python",
   "name": "python",
   "nbconvert_exporter": "python",
   "pygments_lexer": "ipython3",
   "version": "3.8.10"
  }
 },
 "nbformat": 4,
 "nbformat_minor": 5
}
