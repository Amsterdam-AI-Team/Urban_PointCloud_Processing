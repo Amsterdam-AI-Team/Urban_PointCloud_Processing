{
 "cells": [
  {
   "cell_type": "code",
   "execution_count": null,
   "id": "e471e61b",
   "metadata": {},
   "outputs": [],
   "source": [
    "# Add project src to path.\n",
    "import set_path\n",
    "\n",
    "import time\n",
    "import numpy as np\n",
    "\n",
    "from src.region_growing.label_connected_comp import LabelConnectedComp\n",
    "from src.utils.las_utils import read_las\n",
    "from src.utils.labels import Labels"
   ]
  },
  {
   "cell_type": "code",
   "execution_count": null,
   "id": "b2f2e781",
   "metadata": {},
   "outputs": [],
   "source": [
    "tilecode = '2386_9702'\n",
    "\n",
    "in_file = '../datasets/pointcloud/processed_' + tilecode + '.laz'"
   ]
  },
  {
   "cell_type": "code",
   "execution_count": null,
   "id": "3aec2518",
   "metadata": {},
   "outputs": [],
   "source": [
    "pointcloud = read_las(in_file)\n",
    "points = np.vstack((pointcloud.x, pointcloud.y, pointcloud.z)).T\n",
    "labels = pointcloud.label"
   ]
  },
  {
   "cell_type": "code",
   "execution_count": null,
   "id": "d9255089",
   "metadata": {},
   "outputs": [],
   "source": [
    "mask = labels == Labels.STREET_LIGHT"
   ]
  },
  {
   "cell_type": "code",
   "execution_count": null,
   "id": "565cd2f2",
   "metadata": {},
   "outputs": [],
   "source": [
    "lcc = LabelConnectedComp(Labels.STREET_LIGHT)\n",
    "point_components = lcc.get_components(points[mask])"
   ]
  },
  {
   "cell_type": "code",
   "execution_count": null,
   "id": "017d4ec6",
   "metadata": {},
   "outputs": [],
   "source": [
    "min_component_size = 500\n",
    "max_component_size = 10000\n",
    "\n",
    "mask_indices = np.where(mask)[0]\n",
    "    \n",
    "cc_labels, counts = np.unique(point_components,\n",
    "                              return_counts=True)\n",
    "\n",
    "cc_labels_filtered = cc_labels[(counts >= min_component_size) & (counts <= max_component_size)]\n",
    "\n",
    "for cc in cc_labels_filtered:\n",
    "    # select points that belong to the cluster\n",
    "    cc_mask = (point_components == cc)\n",
    "    \n",
    "    xyz = points[mask_indices[cc_mask]]\n",
    "    x_points = xyz[:,0]\n",
    "    y_points = xyz[:,1]\n",
    "    \n",
    "    # Calculate the centroid of the cluster\n",
    "    centroid = (round(sum(x_points) / len(xyz),2), round(sum(y_points) / len(xyz),2))\n",
    "    print(centroid)\n",
    "    \n",
    "    plt.scatter(x_points, y_points, alpha=0.5)\n",
    "plt.show()"
   ]
  },
  {
   "cell_type": "code",
   "execution_count": null,
   "id": "7f79c96b",
   "metadata": {},
   "outputs": [],
   "source": []
  }
 ],
 "metadata": {
  "kernelspec": {
   "display_name": "Python 3 (ipykernel)",
   "language": "python",
   "name": "python3"
  },
  "language_info": {
   "codemirror_mode": {
    "name": "ipython",
    "version": 3
   },
   "file_extension": ".py",
   "mimetype": "text/x-python",
   "name": "python",
   "nbconvert_exporter": "python",
   "pygments_lexer": "ipython3",
   "version": "3.8.10"
  }
 },
 "nbformat": 4,
 "nbformat_minor": 5
}
