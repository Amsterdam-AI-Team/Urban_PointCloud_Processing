{
 "cells": [
  {
   "cell_type": "code",
   "execution_count": null,
   "id": "e471e61b",
   "metadata": {},
   "outputs": [],
   "source": [
    "# Add project src to path.\n",
    "import set_path\n",
    "\n",
    "import time\n",
    "import numpy as np\n",
    "import glob\n",
    "\n",
    "from src.region_growing.label_connected_comp import LabelConnectedComp\n",
    "from src.utils.las_utils import read_las\n",
    "from src.utils.labels import Labels\n",
    "from src.utils.csv_utils import write_csv"
   ]
  },
  {
   "cell_type": "code",
   "execution_count": null,
   "id": "218546c0",
   "metadata": {},
   "outputs": [],
   "source": [
    "# Original pointcloud data folder.\n",
    "orig_pc_folder = '../datasets/pointcloud/'\n",
    "# Predicted pointcloud labels data folder.\n",
    "pred_pc_folder = '../datasets/pointcloud/pred/'\n",
    "# Predicted pointcloud labels data folder.\n",
    "pole_locations_path = '../datasets/lamp_post_locations.csv'"
   ]
  },
  {
   "cell_type": "code",
   "execution_count": null,
   "id": "2c2c289e",
   "metadata": {},
   "outputs": [],
   "source": [
    "# We try to ignore the false positive lamp posts using these settings\n",
    "min_component_size = 500\n",
    "max_component_size = 10000\n",
    "min_component_height = 4\n",
    "\n",
    "def get_cluster_dim(point_components, mask, points):\n",
    "    \"\"\"\n",
    "    Get the dimensions of a cluster and return the coordinates\n",
    "    of the middlepoint.\n",
    "    \"\"\"\n",
    "    mask_indices = np.where(mask)[0]\n",
    "\n",
    "    cc_labels, counts = np.unique(point_components,\n",
    "                                  return_counts=True)\n",
    "\n",
    "    cc_labels_filtered = cc_labels[(counts >= min_component_size) \n",
    "                                   & (counts <= max_component_size)]\n",
    "\n",
    "    xy_locations_per_tile = []\n",
    "    for cc in cc_labels_filtered:\n",
    "        # select points that belong to the cluster\n",
    "        cc_mask = (point_components == cc)\n",
    "\n",
    "        xyz = points[mask_indices[cc_mask]]\n",
    "        x_points = xyz[:,0]\n",
    "        y_points = xyz[:,1]\n",
    "        z_points = xyz[:,2]\n",
    "        z_min, z_max = np.min(z_points), np.max(z_points)\n",
    "\n",
    "        if (z_max - z_min) > min_component_height:\n",
    "            # Calculate the centroid of the cluster\n",
    "            centroid = (round(sum(x_points) / len(xyz),2), \n",
    "                        round(sum(y_points) / len(xyz),2))\n",
    "            xy_locations_per_tile.append(centroid)\n",
    "    \n",
    "    return xy_locations_per_tile"
   ]
  },
  {
   "cell_type": "code",
   "execution_count": null,
   "id": "655606d7",
   "metadata": {},
   "outputs": [],
   "source": [
    "xy_locations = []\n",
    "\n",
    "for tile in glob.glob(orig_pc_folder + \"*.laz\"):\n",
    "    tilename = tile.split(\"/\")[-1]\n",
    "    pointcloud = read_las(tile)\n",
    "    pointcloud_pred = read_las(pred_pc_folder + tilename)\n",
    "    points = np.vstack((pointcloud.x, pointcloud.y, pointcloud.z)).T\n",
    "    labels = pointcloud_pred.label   \n",
    "\n",
    "    mask = labels == Labels.STREET_LIGHT\n",
    "    \n",
    "    lcc = LabelConnectedComp(Labels.STREET_LIGHT)\n",
    "    point_components = lcc.get_components(points[mask])\n",
    "    \n",
    "    xy_locations_per_tile = get_cluster_dim(point_components, mask, points)\n",
    "    \n",
    "    xy_locations.extend(xy_locations_per_tile)\n",
    "    \n",
    "write_csv(pole_locations_path, xy_locations, csv_headers=['rd_x', 'rd_y'])"
   ]
  },
  {
   "cell_type": "code",
   "execution_count": null,
   "id": "bae9b4e8",
   "metadata": {},
   "outputs": [],
   "source": []
  }
 ],
 "metadata": {
  "kernelspec": {
   "display_name": "Python 3 (ipykernel)",
   "language": "python",
   "name": "python3"
  },
  "language_info": {
   "codemirror_mode": {
    "name": "ipython",
    "version": 3
   },
   "file_extension": ".py",
   "mimetype": "text/x-python",
   "name": "python",
   "nbconvert_exporter": "python",
   "pygments_lexer": "ipython3",
   "version": "3.8.10"
  }
 },
 "nbformat": 4,
 "nbformat_minor": 5
}
