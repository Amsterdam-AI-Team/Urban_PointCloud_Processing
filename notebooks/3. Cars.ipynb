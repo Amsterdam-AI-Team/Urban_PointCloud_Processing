{
 "cells": [
  {
   "cell_type": "code",
   "execution_count": null,
   "id": "f6d01928",
   "metadata": {},
   "outputs": [],
   "source": [
    "# Add project src to path.\n",
    "import set_path\n",
    "\n",
    "# Import modules.\n",
    "import numpy as np\n",
    "import time\n",
    "\n",
    "import src.utils.las_utils as las_utils\n",
    "import src.utils.csv_utils as csv_utils\n",
    "import src.utils.ahn_utils as ahn_utils\n",
    "import src.fusion as fusion\n",
    "from src.utils.labels import Labels\n",
    "from src.pipeline import Pipeline"
   ]
  },
  {
   "cell_type": "markdown",
   "id": "bdbe7291",
   "metadata": {},
   "source": [
    "## Car fuser based on cluster dimensions and BGT information\n",
    "First, download and parse the required BGT data in notebook [1. Generate reference data](1.%20Generate%20reference%20data.ipynb)."
   ]
  },
  {
   "cell_type": "code",
   "execution_count": null,
   "id": "89a24ba1",
   "metadata": {},
   "outputs": [],
   "source": [
    "# The already labelled ground and building points must be removed.\n",
    "exclude_labels = (Labels.GROUND, Labels.BUILDING)"
   ]
  },
  {
   "cell_type": "code",
   "execution_count": null,
   "id": "c181f794",
   "metadata": {},
   "outputs": [],
   "source": [
    "# Select the file to process.\n",
    "tilecode = '2386_9702'\n",
    "\n",
    "in_file = '../datasets/pointcloud/labelled_' + tilecode + '.laz'\n",
    "out_file = '../datasets/pointcloud/labelled_' + tilecode + '.laz'\n",
    "\n",
    "# Data folder for the fusers.\n",
    "ahn_data_folder = '../datasets/ahn/'\n",
    "pc_data_folder = '../datasets/pointcloud/'\n",
    "bgt_data_file = '../datasets/bgt/bgt_roads_demo.csv'"
   ]
  },
  {
   "cell_type": "code",
   "execution_count": null,
   "id": "48b39c75",
   "metadata": {
    "scrolled": true
   },
   "outputs": [],
   "source": [
    "# Read NPZ file\n",
    "ahn_reader = ahn_utils.NPZReader(ahn_data_folder)\n",
    "\n",
    "# Car fuser using a clustering algorithm and BGT road data.\n",
    "# To find appropriate dimension ranges, see e.g. https://nl.automobiledimension.com/.\n",
    "car_fuser = fusion.CarFuser(Labels.CAR, ahn_reader, bgt_file=bgt_data_file,\n",
    "                            grid_size=0.05, min_component_size=5000,\n",
    "                            min_height=1.2, max_height=2.4,\n",
    "                            min_width=1.4, max_width=2.4,\n",
    "                            min_length=3.0, max_length=6.0)"
   ]
  },
  {
   "cell_type": "markdown",
   "id": "6b96cd6f",
   "metadata": {},
   "source": [
    "## Process point clouds and save the results\n",
    "The pipeline can now be used to process point clouds. Labels will be written to the LAS file as a new extended field called label."
   ]
  },
  {
   "cell_type": "code",
   "execution_count": null,
   "id": "e9c5e2ab",
   "metadata": {},
   "outputs": [],
   "source": [
    "# Set-up the order in how we want to label.\n",
    "process_sequence = (car_fuser,)\n",
    "pipeline = Pipeline(processors=process_sequence, exclude_labels=exclude_labels, caching=False)"
   ]
  },
  {
   "cell_type": "markdown",
   "id": "a38e12ad",
   "metadata": {},
   "source": [
    "## Process a single file"
   ]
  },
  {
   "cell_type": "code",
   "execution_count": null,
   "id": "448516f0",
   "metadata": {},
   "outputs": [],
   "source": [
    "# Process the file.\n",
    "start = time.time()\n",
    "pipeline.process_file(in_file, out_file=out_file)\n",
    "end = time.time()\n",
    "print(f'Tile labelled in {end-start:.2f} seconds.')"
   ]
  },
  {
   "cell_type": "code",
   "execution_count": null,
   "id": "f41fb3fe",
   "metadata": {},
   "outputs": [],
   "source": []
  }
 ],
 "metadata": {
  "kernelspec": {
   "display_name": "Python 3 (ipykernel)",
   "language": "python",
   "name": "python3"
  },
  "language_info": {
   "codemirror_mode": {
    "name": "ipython",
    "version": 3
   },
   "file_extension": ".py",
   "mimetype": "text/x-python",
   "name": "python",
   "nbconvert_exporter": "python",
   "pygments_lexer": "ipython3",
   "version": "3.8.11"
  }
 },
 "nbformat": 4,
 "nbformat_minor": 5
}
