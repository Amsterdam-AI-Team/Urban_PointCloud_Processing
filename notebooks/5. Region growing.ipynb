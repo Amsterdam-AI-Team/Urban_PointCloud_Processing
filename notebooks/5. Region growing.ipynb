{
 "cells": [
  {
   "cell_type": "markdown",
   "metadata": {},
   "source": [
    "# Region Growing\n",
    "\n",
    "Starting from seed points, the region-growing algorithm is used to decide whether a point should be included in a region or not. Two different implementations are explained in this notebook:\n",
    "- Region growing based on the Point Cloud Library (PCL) implementation\n",
    "- Clustering based region growing using \"Label Connected Components\"\n"
   ]
  },
  {
   "cell_type": "code",
   "execution_count": null,
   "metadata": {},
   "outputs": [],
   "source": [
    "# Add project src to path.\n",
    "import set_path\n",
    "\n",
    "import numpy as np\n",
    "\n",
    "import src.region_growing as growing\n",
    "import src.utils.ahn_utils as ahn_utils\n",
    "import src.utils.las_utils as las_utils\n",
    "import src.utils.math_utils as math_utils\n",
    "from src.region_growing.region_growing import RegionGrowing\n",
    "from src.utils.labels import Labels\n",
    "from src.pipeline import Pipeline"
   ]
  },
  {
   "cell_type": "code",
   "execution_count": null,
   "metadata": {},
   "outputs": [],
   "source": [
    "# Select the file to process. The outfile can be set to 'None' to overwrite the file.\n",
    "tilecode = '2386_9702'\n",
    "\n",
    "in_file = '../datasets/pointcloud/labelled_' + tilecode + '.laz'\n",
    "out_file = '../datasets/pointcloud/labelled_' + tilecode + '.laz'\n",
    "\n",
    "# In this example we want to grow the building points, the initial seed points.\n",
    "# The ground points must be removed to fast and properly cluster the cloud.\n",
    "exclude_labels = (Labels.GROUND,)"
   ]
  },
  {
   "cell_type": "markdown",
   "metadata": {},
   "source": [
    "## Region growing segmentation based on PCL\n",
    "\n",
    "### Algorithm explained\n",
    "Based on: https://pcl.readthedocs.io/projects/tutorials/en/latest/region_growing_segmentation.html\n",
    "\n",
    "With the PCL implementation, a point is picked with minimum curvature value and the region growth process is started. In our implementation, we start from initial seed points that are considered to be inside the object to be segmented. \n",
    "\n",
    "For every point in the seed list, the algorithm finds neighboring points. Every neighbor is tested for the angle between its normal and normal of the current seed point. If the angle is less than the threshold value then current point is added to the current region."
   ]
  },
  {
   "cell_type": "code",
   "execution_count": null,
   "metadata": {},
   "outputs": [],
   "source": [
    "# Region growing with building points as initial seed points. \n",
    "region_growing_pcl = RegionGrowing(label=Labels.BUILDING, exclude_labels=exclude_labels)"
   ]
  },
  {
   "cell_type": "markdown",
   "metadata": {},
   "source": [
    "## Clustering based region growing segmentation\n",
    "\n",
    "### Algorithm explained\n",
    "This code performs clustering based region growing segmentation. The main tasks include: \n",
    "- The [Label Connected Components Segmentation](https://www.cloudcompare.org/doc/wiki/index.php?title=Label_Connected_Components) algorithm clusters the selected cloud(s) in smaller parts separated by a minimum distance.\n",
    "- Next, our code grows regions, or in this case all points inside a clusters, based on a percentage of initial seed points inside a cluster. \n",
    "\n",
    "### Installation instructions\n",
    "A Python wrapper provided for CloudCompare allows to use “Label Connected Components”. The Python wrapper works on **linux only**. This wrapper and all the dependencies can be installed using the build and installation instructions in the README at [CloudCompare-PythonPlugin.](https://github.com/tmontaigu/CloudCompare-PythonPlugin.git)"
   ]
  },
  {
   "cell_type": "code",
   "execution_count": null,
   "metadata": {},
   "outputs": [],
   "source": [
    "# Region growing with building points as initial seed points. \n",
    "region_growing_clustering = growing.LabelConnectedComp(label=Labels.BUILDING,\n",
    "                                                       grid_size=0.05,\n",
    "                                                       min_component_size=100)"
   ]
  },
  {
   "cell_type": "markdown",
   "metadata": {},
   "source": [
    "### Layered LCC region growing\n",
    "\n",
    "Sometimes we want to use different parameters for region growing, depending on the height above ground level. For example, close to the ground we expect more clutter, so a more fine-grained approach might be needed, while higher up we can use coarsed clusters.\n",
    "\n",
    "For this, we can use a LayerLCC region grower, which accepts different parameters for different 'layers' of the point cloud. Each layer has the following (default) parameters:\n",
    "\n",
    "```\n",
    "params = {'bottom': -inf,        # Height above ground at which the layer starts.\n",
    "          'top': inf,            # Height above ground at which the layer stops.\n",
    "          'grid_size': 0.1       # Octree grid size for LCC method, in meters. Lower means a more fine-grained clustering.\n",
    "          'min_comp_size': 100,  # Minimum number of points for a component to be considered.\n",
    "          'threshold': 0.5}      # Minimum fraction of points in a component that are already \n",
    "                                 # labelled initially for the component to be added.\n",
    "```"
   ]
  },
  {
   "cell_type": "code",
   "execution_count": null,
   "metadata": {},
   "outputs": [],
   "source": [
    "building_top = {'bottom': 12., 'grid_size': 0.1, 'threshold': 0.5}\n",
    "building_bottom = {'bottom': 0.5, 'top': 12., 'grid_size': 0.05, 'threshold': 0.5}\n",
    "\n",
    "# We need AHN elevation data to determine the height above ground.\n",
    "ahn_data_folder = '../datasets/ahn/'\n",
    "ahn_reader = ahn_utils.NPZReader(ahn_data_folder)\n",
    "\n",
    "layered_region_growing = growing.LayerLCC(Labels.BUILDING, ahn_reader, \n",
    "                                          params=[building_top, building_bottom])"
   ]
  },
  {
   "cell_type": "markdown",
   "metadata": {},
   "source": [
    "## Set-up pipeline"
   ]
  },
  {
   "cell_type": "code",
   "execution_count": null,
   "metadata": {},
   "outputs": [],
   "source": [
    "# Set-up region growing based on PCL pipeline.\n",
    "process_sequence = (region_growing_pcl,)\n",
    "pipeline = Pipeline(processors=process_sequence, exclude_labels=exclude_labels, caching=False)"
   ]
  },
  {
   "cell_type": "code",
   "execution_count": null,
   "metadata": {},
   "outputs": [],
   "source": [
    "# Set-up clustering based region growing pipeline.\n",
    "process_sequence = (region_growing_clustering,)\n",
    "pipeline = Pipeline(processors=process_sequence, exclude_labels=exclude_labels, caching=False)"
   ]
  },
  {
   "cell_type": "code",
   "execution_count": null,
   "metadata": {},
   "outputs": [],
   "source": [
    "# Set-up layer based region growing pipeline.\n",
    "process_sequence = (layered_region_growing,)\n",
    "pipeline = Pipeline(processors=process_sequence, exclude_labels=exclude_labels, caching=False)"
   ]
  },
  {
   "cell_type": "markdown",
   "metadata": {},
   "source": [
    "### Process the LAS file"
   ]
  },
  {
   "cell_type": "code",
   "execution_count": null,
   "metadata": {},
   "outputs": [],
   "source": [
    "pipeline.process_file(in_file, out_file=out_file)"
   ]
  }
 ],
 "metadata": {
  "kernelspec": {
   "display_name": "Python 3 (ipykernel)",
   "language": "python",
   "name": "python3"
  },
  "language_info": {
   "codemirror_mode": {
    "name": "ipython",
    "version": 3
   },
   "file_extension": ".py",
   "mimetype": "text/x-python",
   "name": "python",
   "nbconvert_exporter": "python",
   "pygments_lexer": "ipython3",
   "version": "3.8.2"
  }
 },
 "nbformat": 4,
 "nbformat_minor": 4
}
