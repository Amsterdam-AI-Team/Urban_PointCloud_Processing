{
 "cells": [
  {
   "cell_type": "code",
   "execution_count": null,
   "id": "32134cce-9eb9-4a0f-a7d1-412fda979aaa",
   "metadata": {},
   "outputs": [],
   "source": [
    "%config Completer.use_jedi = False"
   ]
  },
  {
   "cell_type": "code",
   "execution_count": null,
   "id": "f538d8e7-f542-47cb-ab0a-1b40c6675a0c",
   "metadata": {},
   "outputs": [],
   "source": [
    "# Add project src to path.\n",
    "import set_path\n",
    "\n",
    "# Import modules.\n",
    "import numpy as np\n",
    "import time\n",
    "from sklearn.cluster import DBSCAN\n",
    "\n",
    "import src.fusion as fusion\n",
    "import src.utils.clip_utils as clip_utils\n",
    "import src.utils.las_utils as las_utils\n",
    "from src.utils.labels import Labels\n",
    "from src.region_growing import LabelConnectedComp"
   ]
  },
  {
   "cell_type": "markdown",
   "id": "99c89a91-153d-4d34-985c-715b4eec9d63",
   "metadata": {},
   "source": [
    "## Set-up"
   ]
  },
  {
   "cell_type": "code",
   "execution_count": null,
   "id": "1b1ff323-ca41-4c14-95a8-2ece8f90a666",
   "metadata": {},
   "outputs": [],
   "source": [
    "# Data folder for the BGT fuser.\n",
    "bgt_data_folder = '../datasets/bgt/'\n",
    "bgt_data_file = '../datasets/bgt/bgt_points.csv'\n",
    "tile_code = '2386_9702'\n",
    "#tile_code = '2397_9705'\n",
    "\n",
    "# Building fuser using BGT building footprint data.\n",
    "bgt_point_fuser = fusion.BGTPointFuser(Labels.TREE, bgt_file=bgt_data_file)"
   ]
  },
  {
   "cell_type": "code",
   "execution_count": null,
   "id": "6d216d1e-fa31-4939-bfa9-017151f87267",
   "metadata": {},
   "outputs": [],
   "source": [
    "# Extract pole objects from tile.\n",
    "bgt_points = bgt_point_fuser._filter_tile(tile_code)\n",
    "trees = [[x, y] for (t, x, y) in bgt_points if t == 'boom']\n",
    "lights = [[x, y] for (t, x, y) in bgt_points if t == 'lichtmast']\n",
    "signs = [[x, y] for (t, x, y) in bgt_points if t == 'verkeersbord']"
   ]
  },
  {
   "cell_type": "code",
   "execution_count": null,
   "id": "796dd951-f7ab-45f5-a45a-2959e970adf6",
   "metadata": {},
   "outputs": [],
   "source": [
    "# Load labeled and grown LAS file.\n",
    "las_file = '../datasets/pointcloud/grown_' + tile_code + '.laz'\n",
    "las = las_utils.read_las(las_file)"
   ]
  },
  {
   "cell_type": "code",
   "execution_count": null,
   "id": "c2213f31-3309-4c28-afd7-18ecf1e2d69b",
   "metadata": {},
   "outputs": [],
   "source": [
    "# Remove ground and building points.\n",
    "mask = (las.label != Labels.GROUND) & (las.label != Labels.BUILDING)\n",
    "mask_ids = np.where(mask)[0]\n",
    "points = np.vstack((las.x[mask], las.y[mask], las.z[mask])).T\n",
    "n_points = len(points)\n",
    "\n",
    "# Compute average ground elevation.\n",
    "ground_mask = las.label == Labels.GROUND\n",
    "avg_ground_height = np.mean(las.z[ground_mask])"
   ]
  },
  {
   "cell_type": "markdown",
   "id": "e1e0f2fc-e9ae-4ea7-80de-7f0fa35d9190",
   "metadata": {},
   "source": [
    "## Clustering"
   ]
  },
  {
   "cell_type": "code",
   "execution_count": null,
   "id": "27152d32-ea88-48e2-bd32-e1356e298c0a",
   "metadata": {},
   "outputs": [],
   "source": [
    "# Define a plane to search for seed points.\n",
    "plane_height = 2.\n",
    "plane_buffer = 0.25\n",
    "seed_plane_mask = (((avg_ground_height + plane_height - plane_buffer) < points[:,2]) \n",
    "                   & (points[:,2] < (avg_ground_height + plane_height + plane_buffer)))\n",
    "\n",
    "print(f'We have {np.count_nonzero(seed_plane_mask)} potential seed points')"
   ]
  },
  {
   "cell_type": "code",
   "execution_count": null,
   "id": "b15f3ce6-e813-4881-8554-9feb82adb84c",
   "metadata": {},
   "outputs": [],
   "source": [
    "# Get <X, Y> of potential seed points.\n",
    "points_xy = points[seed_plane_mask, 0:2]"
   ]
  },
  {
   "cell_type": "code",
   "execution_count": null,
   "id": "2931a2c2-e8ee-42a5-bb4e-974bcaae5e3c",
   "metadata": {},
   "outputs": [],
   "source": [
    "# Cluster the potential seed points.\n",
    "clustering = DBSCAN(eps=0.05, min_samples=15, p=2).fit(points_xy)\n",
    "#clustering = OPTICS(max_eps=0.1, min_samples=5, p=2, min_cluster_size=50).fit(points_xy)\n",
    "\n",
    "# Remove noise points.\n",
    "noise_mask = clustering.labels_ != -1"
   ]
  },
  {
   "cell_type": "code",
   "execution_count": null,
   "id": "14850fc5-da0f-4543-b00d-8f15b7447594",
   "metadata": {},
   "outputs": [],
   "source": [
    "# Optional: filter clusters by size.\n",
    "\n",
    "# Get cluster labels and sizes.\n",
    "cc_labels, counts = np.unique(clustering.labels_, return_counts=True)\n",
    "\n",
    "# Only keep clusters with size between N_min and N_max.\n",
    "N_min = 100\n",
    "N_max = 5000\n",
    "count_valid = np.where((counts >= N_min) & (counts <= N_max))\n",
    "\n",
    "# Update noise mask.\n",
    "noise_mask = noise_mask & [l in set(cc_labels[count_valid]) for l in clustering.labels_]"
   ]
  },
  {
   "cell_type": "code",
   "execution_count": null,
   "id": "8232fe89-eb5c-4e70-8694-82929138acb1",
   "metadata": {},
   "outputs": [],
   "source": [
    "# Filter points based on noise mask.\n",
    "points_xy_filter = points_xy[noise_mask,:]\n",
    "print(f'We have {np.count_nonzero(noise_mask)} seed points left after noise filtering.')"
   ]
  },
  {
   "cell_type": "code",
   "execution_count": null,
   "id": "31046229-9ef6-4c5d-b87f-f3f38a8dbd03",
   "metadata": {},
   "outputs": [],
   "source": [
    "# Visualize the results.\n",
    "%matplotlib widget\n",
    "import matplotlib.pyplot as plt\n",
    "import matplotlib.patches as patches\n",
    "\n",
    "bbox = las_utils.get_bbox_from_tile_code(tile_code)\n",
    "\n",
    "fig, ax = plt.subplots(1)\n",
    "ax.scatter(points_xy_filter[:,0], points_xy_filter[:,1], c=clustering.labels_[noise_mask], marker='.')\n",
    "\n",
    "for tree in trees:\n",
    "    plt.scatter(tree[0], tree[1], c='green', marker='x')\n",
    "\n",
    "for light in lights:\n",
    "    plt.scatter(light[0], light[1], c='purple', marker='x')\n",
    "    \n",
    "for sign in signs:\n",
    "    plt.scatter(sign[0], sign[1], c='red', marker='x')\n",
    "\n",
    "((x_min, y_max), (x_max, y_min)) = bbox\n",
    "box = patches.Rectangle((x_min, y_min), x_max-x_min, y_max-y_min, linewidth=1, linestyle='--', edgecolor='grey', fill=False)\n",
    "ax.add_patch(box)\n",
    "\n",
    "ax.set_xlabel('X')\n",
    "ax.set_ylabel('Y')\n",
    "plt.axis('equal')\n",
    "plt.show()"
   ]
  },
  {
   "cell_type": "markdown",
   "id": "4226135f-82a0-4bf8-8027-6a67f3d2bfd6",
   "metadata": {},
   "source": [
    "## Cluster matching"
   ]
  },
  {
   "cell_type": "code",
   "execution_count": null,
   "id": "584e0394-4e18-4279-ac21-9e69136a7de9",
   "metadata": {},
   "outputs": [],
   "source": [
    "# Create a list of cluster centers (x,y) and radius r.\n",
    "c_xyr_list = []\n",
    "for cl in cc_labels[count_valid]:\n",
    "    c_mask = clustering.labels_ == cl\n",
    "    (cx, cy) = np.mean(points_xy[c_mask,:], axis=0)\n",
    "    cr = np.max(np.max(points_xy[c_mask,:], axis=0) - np.min(points_xy[c_mask,:], axis=0)) / 2\n",
    "    c_xyr_list.append([cx, cy, cr])\n",
    "c_xyr_list = np.array(c_xyr_list)"
   ]
  },
  {
   "cell_type": "code",
   "execution_count": null,
   "id": "a24b2280-6656-4e46-8311-38a3f84b9a43",
   "metadata": {},
   "outputs": [],
   "source": [
    "# Match BGT point objects to nearby clusters.\n",
    "max_dist = 1.5\n",
    "\n",
    "tree_points = []\n",
    "light_points = []\n",
    "sign_points = []\n",
    "\n",
    "for tree in trees:\n",
    "    dist = [np.linalg.norm(np.array(tree) - np.array([cxy])) for cxy in c_xyr_list[:,0:2]]\n",
    "    if np.min(dist) < max_dist:\n",
    "        tree_points.append(c_xyr_list[np.argmin(dist)])\n",
    "\n",
    "for light in lights:\n",
    "    dist = [np.linalg.norm(np.array(light) - np.array([cxy])) for cxy in c_xyr_list[:,0:2]]\n",
    "    if np.min(dist) < max_dist:\n",
    "        light_points.append(c_xyr_list[np.argmin(dist)])\n",
    "\n",
    "for sign in signs:\n",
    "    dist = [np.linalg.norm(np.array(sign) - np.array([cxy])) for cxy in c_xyr_list[:,0:2]]\n",
    "    if np.min(dist) < max_dist:\n",
    "        sign_points.append(c_xyr_list[np.argmin(dist)])"
   ]
  },
  {
   "cell_type": "code",
   "execution_count": null,
   "id": "778862f3-6491-4ae7-a4d8-0d12a7c5d665",
   "metadata": {},
   "outputs": [],
   "source": [
    "# Visualize the resulting match.\n",
    "\n",
    "fig, ax = plt.subplots(1)\n",
    "ax.scatter(points_xy_filter[:,0], points_xy_filter[:,1], c='lightgrey', marker='.')\n",
    "\n",
    "for tree in tree_points:\n",
    "    circle = patches.Circle((tree[0], tree[1]), tree[2], linewidth=2, linestyle='-', edgecolor='green', fill=False)\n",
    "    ax.add_patch(circle)\n",
    "\n",
    "for light in light_points:\n",
    "    circle = patches.Circle((light[0], light[1]), light[2], linewidth=2, linestyle='-', edgecolor='purple', fill=False)\n",
    "    ax.add_patch(circle)\n",
    "\n",
    "for sign in sign_points:\n",
    "    circle = patches.Circle((sign[0], sign[1]), sign[2], linewidth=2, linestyle='-', edgecolor='red', fill=False)\n",
    "    ax.add_patch(circle)\n",
    "\n",
    "((x_min, y_max), (x_max, y_min)) = bbox\n",
    "box = patches.Rectangle((x_min, y_min), x_max-x_min, y_max-y_min, linewidth=1, linestyle='--', edgecolor='grey', fill=False)\n",
    "ax.add_patch(box)\n",
    "\n",
    "ax.set_xlabel('X')\n",
    "ax.set_ylabel('Y')\n",
    "plt.axis('equal')\n",
    "plt.show()"
   ]
  },
  {
   "cell_type": "markdown",
   "id": "ebabe527-3ad3-41e4-aed3-8512bfd38c8c",
   "metadata": {},
   "source": [
    "## Labelling"
   ]
  },
  {
   "cell_type": "code",
   "execution_count": null,
   "id": "2290710d-066e-49e4-83fb-e3ae6385d4f5",
   "metadata": {},
   "outputs": [],
   "source": [
    "# Optional: re-load labeled and grown LAS file.\n",
    "# E.g. to try out different settings.\n",
    "las_file = '../datasets/pointcloud/grown_' + tile_code + '.laz'\n",
    "las = las_utils.read_las(las_file)"
   ]
  },
  {
   "cell_type": "code",
   "execution_count": null,
   "id": "a1119495-aabd-42d6-9bfc-a9dde04e918f",
   "metadata": {},
   "outputs": [],
   "source": [
    "# Do the actual labelling.\n",
    "# Cluster radius tends to be too small (although sometimes it isn't) so we multiply.\n",
    "r_mult = 2\n",
    "\n",
    "tree_mask = np.zeros((n_points,), dtype=bool)\n",
    "light_mask = np.zeros((n_points,), dtype=bool)\n",
    "sign_mask = np.zeros((n_points,), dtype=bool)\n",
    "\n",
    "for tree in tree_points:\n",
    "    clip_mask = clip_utils.circle_clip(points, tree[0:2], r_mult*tree[2])\n",
    "    tree_mask = tree_mask | clip_mask\n",
    "\n",
    "for light in light_points:\n",
    "    clip_mask = clip_utils.circle_clip(points, light[0:2], r_mult*light[2])\n",
    "    light_mask = light_mask | clip_mask\n",
    "\n",
    "for sign in sign_points:\n",
    "    clip_mask = clip_utils.circle_clip(points, sign[0:2], r_mult*sign[2])\n",
    "    sign_mask = sign_mask | clip_mask"
   ]
  },
  {
   "cell_type": "code",
   "execution_count": null,
   "id": "7ff82f99-92d5-49bf-b3d9-14896ba56b83",
   "metadata": {},
   "outputs": [],
   "source": [
    "# Create labels.\n",
    "labels = las.label\n",
    "labels[mask_ids[tree_mask]] = Labels.TREE\n",
    "labels[mask_ids[light_mask]] = Labels.STREET_LIGHT\n",
    "labels[mask_ids[sign_mask]] = Labels.TRAFFIC_SIGN"
   ]
  },
  {
   "cell_type": "code",
   "execution_count": null,
   "id": "db761d23-79f3-4a9e-8a77-4967c2973506",
   "metadata": {},
   "outputs": [],
   "source": [
    "# Cluster based region growing.\n",
    "# Not for trees yet.\n",
    "lcc_light = LabelConnectedComp(Labels.STREET_LIGHT, exclude_labels=(Labels.TREE, Labels.TRAFFIC_SIGN),\n",
    "                               octree_level=9, min_component_size=100, threshold=0.4)\n",
    "lcc_sign = LabelConnectedComp(Labels.TRAFFIC_SIGN, exclude_labels=(Labels.TREE, Labels.STREET_LIGHT),\n",
    "                              octree_level=9, min_component_size=100, threshold=0.4)\n",
    "\n",
    "lcc_light_mask = lcc_light.get_label_mask(points=points, las_labels=las.label[mask])\n",
    "lcc_sign_mask = lcc_sign.get_label_mask(points=points, las_labels=las.label[mask])\n",
    "\n",
    "# Update labels.\n",
    "labels[mask_ids[lcc_light_mask]] = lcc_light.get_label()\n",
    "labels[mask_ids[lcc_sign_mask]] = lcc_sign.get_label()"
   ]
  },
  {
   "cell_type": "code",
   "execution_count": null,
   "id": "5d31b4e0-7311-4d71-ba91-bdbc0d19de7c",
   "metadata": {},
   "outputs": [],
   "source": [
    "# Save the result.\n",
    "out_file = '../datasets/pointcloud/poles_' + tile_code + '.laz'\n",
    "las_utils.label_and_save_las(las, labels, out_file)"
   ]
  },
  {
   "cell_type": "code",
   "execution_count": null,
   "id": "0a3e1bac-dc77-473d-8b81-57bb530f7538",
   "metadata": {},
   "outputs": [],
   "source": []
  }
 ],
 "metadata": {
  "kernelspec": {
   "display_name": "Python 3",
   "language": "python",
   "name": "python3"
  },
  "language_info": {
   "codemirror_mode": {
    "name": "ipython",
    "version": 3
   },
   "file_extension": ".py",
   "mimetype": "text/x-python",
   "name": "python",
   "nbconvert_exporter": "python",
   "pygments_lexer": "ipython3",
   "version": "3.7.10"
  }
 },
 "nbformat": 4,
 "nbformat_minor": 5
}
