{
 "cells": [
  {
   "cell_type": "code",
   "execution_count": null,
   "id": "32134cce-9eb9-4a0f-a7d1-412fda979aaa",
   "metadata": {},
   "outputs": [],
   "source": [
    "%config Completer.use_jedi = False"
   ]
  },
  {
   "cell_type": "code",
   "execution_count": null,
   "id": "f538d8e7-f542-47cb-ab0a-1b40c6675a0c",
   "metadata": {},
   "outputs": [],
   "source": [
    "# Add project src to path.\n",
    "import set_path\n",
    "\n",
    "# Import modules.\n",
    "import numpy as np\n",
    "from numba import jit\n",
    "import time\n",
    "from sklearn.cluster import DBSCAN\n",
    "from scipy.stats import binned_statistic_2d\n",
    "\n",
    "%matplotlib widget\n",
    "import matplotlib.pyplot as plt\n",
    "import matplotlib.patches as patches\n",
    "\n",
    "import src.fusion as fusion\n",
    "import src.utils.clip_utils as clip_utils\n",
    "import src.utils.las_utils as las_utils\n",
    "import src.utils.ahn_utils as ahn_utils\n",
    "from src.utils.labels import Labels\n",
    "from src.region_growing import LabelConnectedComp\n",
    "from src.utils.interpolation import FastGridInterpolator"
   ]
  },
  {
   "cell_type": "markdown",
   "id": "99c89a91-153d-4d34-985c-715b4eec9d63",
   "metadata": {},
   "source": [
    "## Set-up"
   ]
  },
  {
   "cell_type": "code",
   "execution_count": null,
   "id": "1b1ff323-ca41-4c14-95a8-2ece8f90a666",
   "metadata": {},
   "outputs": [],
   "source": [
    "# Data folder for the BGT fuser.\n",
    "bgt_data_folder = '../datasets/bgt/'\n",
    "#bgt_data_file = '../datasets/bgt/bgt_points.csv'\n",
    "bgt_data_file = '../datasets/bgt/custom_points_demo.csv'\n",
    "tile_code = '2386_9702'\n",
    "#tile_code = '2397_9705'\n",
    "\n",
    "# Building fuser using BGT building footprint data.\n",
    "bgt_point_fuser = fusion.BGTPointFuser(Labels.TREE, bgt_file=bgt_data_file)"
   ]
  },
  {
   "cell_type": "code",
   "execution_count": null,
   "id": "6d216d1e-fa31-4939-bfa9-017151f87267",
   "metadata": {},
   "outputs": [],
   "source": [
    "# Extract pole objects from tile.\n",
    "bgt_points = bgt_point_fuser._filter_tile(tile_code)\n",
    "trees = [(x, y) for (t, x, y) in bgt_points if t == 'boom']\n",
    "lights = [(x, y) for (t, x, y) in bgt_points if t == 'lichtmast']\n",
    "signs = [(x, y) for (t, x, y) in bgt_points if t == 'verkeersbord']"
   ]
  },
  {
   "cell_type": "code",
   "execution_count": null,
   "id": "1695067c-33d4-4623-802d-a00a31f74f7e",
   "metadata": {},
   "outputs": [],
   "source": [
    "# Load elevation data.\n",
    "ahn_data_file = '../datasets/ahn/ahn_' + tile_code + '.npz'\n",
    "ahn_tile = ahn_utils.load_ahn_tile(ahn_data_file)\n",
    "\n",
    "grid_z = ahn_tile['ground_surface']\n",
    "avg_ground_height = np.nanmean(grid_z)\n",
    "#grid_z[grid_z == np.nan] = avg_ground_height\n",
    "\n",
    "# Create interpolator.\n",
    "fast_z = FastGridInterpolator(ahn_tile['x'], ahn_tile['y'], grid_z)"
   ]
  },
  {
   "cell_type": "code",
   "execution_count": null,
   "id": "796dd951-f7ab-45f5-a45a-2959e970adf6",
   "metadata": {},
   "outputs": [],
   "source": [
    "# Load labeled and grown LAS file.\n",
    "las_file = '../datasets/pointcloud/grown_' + tile_code + '.laz'\n",
    "las = las_utils.read_las(las_file)"
   ]
  },
  {
   "cell_type": "code",
   "execution_count": null,
   "id": "f98b9ccb-d9fd-4e3b-b1c6-4e9c3be44adf",
   "metadata": {
    "tags": []
   },
   "outputs": [],
   "source": [
    "# Remove ground and building points.\n",
    "PRE_MASK = (las.label != Labels.GROUND) & (las.label != Labels.BUILDING)\n",
    "PRE_MASK_IDS = np.where(PRE_MASK)[0]\n",
    "points = np.vstack((las.x[PRE_MASK], las.y[PRE_MASK], las.z[PRE_MASK])).T"
   ]
  },
  {
   "cell_type": "markdown",
   "id": "712dffae-47d4-4a10-b9d6-338cf6c1cfbd",
   "metadata": {},
   "source": [
    "## Voxel approach"
   ]
  },
  {
   "cell_type": "code",
   "execution_count": null,
   "id": "b613fb4a-820d-4955-bd47-6ebc80559acc",
   "metadata": {},
   "outputs": [],
   "source": [
    "def find_point_cluster(points, point, plane_height, plane_buffer=0.1, search_radius=1, max_dist=0.1, min_points=1):\n",
    "    search_ids = np.where(clip_utils.cylinder_clip(points, point, search_radius, bottom=plane_height-plane_buffer, top=plane_height+plane_buffer))[0]\n",
    "    if len(search_ids) < min_points:\n",
    "        return np.empty((0, 3))\n",
    "    # Cluster the potential seed points.\n",
    "    clustering = DBSCAN(eps=0.05, min_samples=5, p=2).fit(points[search_ids])\n",
    "    # Remove noise points.\n",
    "    noise_mask = clustering.labels_ != -1\n",
    "    # Get cluster labels and sizes.\n",
    "    cc_labels, counts = np.unique(clustering.labels_, return_counts=True)\n",
    "    if min_points > 1:\n",
    "        # Only keep clusters with size at least min_points.\n",
    "        cc_labels = cc_labels[counts >= min_points]\n",
    "        noise_mask = noise_mask & [l in set(cc_labels) for l in clustering.labels_]\n",
    "    # Create a list of cluster centers (x,y) and radius r.\n",
    "    c_xyr_list = []\n",
    "    for cl in set(cc_labels).difference((-1,)):\n",
    "        c_mask = clustering.labels_ == cl\n",
    "        (cx, cy) = np.mean(points[search_ids[c_mask], 0:2], axis=0)\n",
    "        cr = np.max(np.max(points[search_ids[c_mask], 0:2], axis=0) - np.min(points[search_ids[c_mask], 0:2], axis=0)) / 2\n",
    "        if (point[0] - cx)**2 + (point[1] - cy)**2 < (cr + max_dist)**2:\n",
    "            c_xyr_list.append([cx, cy, cr])\n",
    "    return np.array(c_xyr_list)"
   ]
  },
  {
   "cell_type": "code",
   "execution_count": null,
   "id": "9b60aa26-28c9-4fff-bae7-1101042b3d8b",
   "metadata": {},
   "outputs": [],
   "source": [
    "def find_seeds_for_point_objects(points, point_objects, fast_z, search_pad=1.5, voxel_res=0.1, seed_height=1.5, min_height=2, min_points=500, z_min=0, z_max=2.5):\n",
    "    seeds = []\n",
    "    for ind, obj in enumerate(point_objects):\n",
    "        # Assume obj = [x, y].\n",
    "        ground_z = fast_z(np.array([obj]))\n",
    "        search_box = (obj[0]-search_pad, obj[1]-search_pad, obj[0]+search_pad, obj[1]+search_pad)\n",
    "        box_ids = np.where(clip_utils.box_clip(points, search_box, bottom=ground_z+z_min, top=ground_z+z_max))[0]\n",
    "        if len(box_ids) == 0:\n",
    "            print(f'Empty search box for object {ind}.')\n",
    "            continue\n",
    "        x_edge = np.arange(search_box[0], search_box[2] + 0.01, voxel_res)\n",
    "        y_edge = np.arange(search_box[1], search_box[3] + 0.01, voxel_res)\n",
    "        min_z_bin = binned_statistic_2d(points[box_ids, 0], points[box_ids, 1], points[box_ids, 2], bins=[x_edge, y_edge], statistic='min')\n",
    "        max_z_bin = binned_statistic_2d(points[box_ids, 0], points[box_ids, 1], points[box_ids, 2], bins=[x_edge, y_edge], statistic='max')\n",
    "        #med_z_bin = binned_statistic_2d(points[box_ids, 0], points[box_ids, 1], points[box_ids, 2], bins=[x_edge, y_edge], statistic='median')\n",
    "        count_z_bin = binned_statistic_2d(points[box_ids, 0], points[box_ids, 1], points[box_ids, 2], bins=[x_edge, y_edge], statistic='count')\n",
    "\n",
    "        midpoint = ground_z + (z_min + z_max) / 2\n",
    "        #med_mid = np.abs(med_z_bin.statistic - midpoint) < 0.25\n",
    "        diff = max_z_bin.statistic - min_z_bin.statistic\n",
    "        #x_loc, y_loc = np.where((diff > min_height) & (count_z_bin.statistic > min_points) & med_mid)\n",
    "        x_loc, y_loc = np.where((diff > min_height) & (count_z_bin.statistic > min_points))\n",
    "        if len(x_loc) == 0:\n",
    "            print(f'No candidates found for object {ind}.')\n",
    "            continue\n",
    "        candidates = np.stack((x_edge[x_loc] + voxel_res/2, y_edge[y_loc] + voxel_res/2)).T\n",
    "        dist = [np.linalg.norm(np.array(obj) - np.array([c])) for c in candidates]\n",
    "        c_prime = candidates[np.argmin(dist), :]\n",
    "        clusters = find_point_cluster(points, c_prime, seed_height)\n",
    "        if len(clusters) > 0:\n",
    "            seeds.append(clusters[0])\n",
    "        else:\n",
    "            print(f'No cluster found for object {ind}, using default.')\n",
    "            seeds.append([c_prime[0], c_prime[1], voxel_res])\n",
    "    return seeds"
   ]
  },
  {
   "cell_type": "markdown",
   "id": "4ca170e6-9d85-4552-b995-828120ef3dc7",
   "metadata": {},
   "source": [
    "## Match point objects with clusters"
   ]
  },
  {
   "cell_type": "code",
   "execution_count": null,
   "id": "2290710d-066e-49e4-83fb-e3ae6385d4f5",
   "metadata": {},
   "outputs": [],
   "source": [
    "# Optional: re-load labeled and grown LAS file.\n",
    "# E.g. to try out different settings.\n",
    "las_file = '../datasets/pointcloud/grown_' + tile_code + '.laz'\n",
    "las = las_utils.read_las(las_file)"
   ]
  },
  {
   "cell_type": "code",
   "execution_count": null,
   "id": "3da03370-80a6-43b2-941a-a9f7db038f86",
   "metadata": {},
   "outputs": [],
   "source": [
    "# Cluster radius tends to be too small (although sometimes it isn't) so we multiply.\n",
    "r_mult = 1.5\n",
    "\n",
    "label_mask = np.ones((len(points),), dtype=bool)\n",
    "\n",
    "tree_mask = np.zeros((len(points),), dtype=bool)\n",
    "light_mask = np.zeros((len(points),), dtype=bool)\n",
    "sign_mask = np.zeros((len(points),), dtype=bool)\n",
    "\n",
    "# Match and label trees.\n",
    "tree_points = find_seeds_for_point_objects(points[label_mask], trees, fast_z, voxel_res=0.2, seed_height=1.75, min_points=500)\n",
    "for tree in tree_points:\n",
    "    clip_mask = clip_utils.cylinder_clip(points, tree[0:2], r_mult*tree[2], top=fast_z(np.array([tree[0:2]]))+4)\n",
    "    tree_mask = tree_mask | clip_mask\n",
    "\n",
    "label_mask[tree_mask] = False"
   ]
  },
  {
   "cell_type": "code",
   "execution_count": null,
   "id": "e0b365f1-0952-46fe-9b36-eaf56be1dd05",
   "metadata": {},
   "outputs": [],
   "source": [
    "mask_ids = np.where(label_mask)[0]\n",
    "light_points = find_seeds_for_point_objects(points[label_mask], lights, fast_z, voxel_res=0.2, seed_height=2.25, min_points=400)\n",
    "for light in light_points:\n",
    "    clip_mask = clip_utils.cylinder_clip(points, light[0:2], r_mult*light[2], top=fast_z(np.array([light[0:2]]))+4)\n",
    "    light_mask = light_mask | clip_mask\n",
    "\n",
    "label_mask[light_mask] = False"
   ]
  },
  {
   "cell_type": "code",
   "execution_count": null,
   "id": "3a0dc3fd-6a11-4789-b524-c80b169b91ca",
   "metadata": {},
   "outputs": [],
   "source": [
    "mask_ids = np.where(label_mask)[0]\n",
    "sign_points = find_seeds_for_point_objects(points[label_mask], signs, fast_z, voxel_res=0.2, seed_height=1.5, min_points=400)\n",
    "for sign in sign_points:\n",
    "    clip_mask = clip_utils.cylinder_clip(points, sign[0:2], r_mult*sign[2], top=fast_z(np.array([sign[0:2]]))+3)\n",
    "    sign_mask = sign_mask | clip_mask"
   ]
  },
  {
   "cell_type": "code",
   "execution_count": null,
   "id": "63184f00-dda5-478c-82cc-234af95ab5eb",
   "metadata": {},
   "outputs": [],
   "source": [
    "# Create labels.\n",
    "labels = las.label\n",
    "labels[PRE_MASK_IDS[tree_mask]] = Labels.TREE\n",
    "labels[PRE_MASK_IDS[light_mask]] = Labels.STREET_LIGHT\n",
    "labels[PRE_MASK_IDS[sign_mask]] = Labels.TRAFFIC_SIGN"
   ]
  },
  {
   "cell_type": "code",
   "execution_count": null,
   "id": "e727bbb8-de66-432b-938a-5204ff0dd8a0",
   "metadata": {},
   "outputs": [],
   "source": [
    "# Save the result.\n",
    "out_file = '../datasets/pointcloud/poles_custom_' + tile_code + '.laz'\n",
    "las_utils.label_and_save_las(las, labels, out_file)"
   ]
  },
  {
   "cell_type": "markdown",
   "id": "4c4e60f4-fc18-4208-bec4-9ed76976f60c",
   "metadata": {},
   "source": [
    "## Visualize results"
   ]
  },
  {
   "cell_type": "code",
   "execution_count": null,
   "id": "778862f3-6491-4ae7-a4d8-0d12a7c5d665",
   "metadata": {},
   "outputs": [],
   "source": [
    "# Visualize the resulting match.\n",
    "((x_min, y_max), (x_max, y_min)) = las_utils.get_bbox_from_tile_code(tile_code)\n",
    "viz_mask = clip_utils.box_clip(points, np.array([x_min, y_min, x_max, y_max]), bottom=avg_ground_height+1.7, top=avg_ground_height+1.8)\n",
    "\n",
    "fig, ax = plt.subplots(1)\n",
    "ax.scatter(points[viz_mask, 0], points[viz_mask, 1], c='lightgrey', marker='.')\n",
    "\n",
    "for tree in tree_points:\n",
    "    circle = patches.Circle((tree[0], tree[1]), tree[2], linewidth=2, linestyle='-', edgecolor='green', fill=False)\n",
    "    ax.add_patch(circle)\n",
    "\n",
    "for light in light_points:\n",
    "    circle = patches.Circle((light[0], light[1]), light[2], linewidth=2, linestyle='-', edgecolor='purple', fill=False)\n",
    "    ax.add_patch(circle)\n",
    "\n",
    "for sign in sign_points:\n",
    "    circle = patches.Circle((sign[0], sign[1]), sign[2], linewidth=2, linestyle='-', edgecolor='red', fill=False)\n",
    "    ax.add_patch(circle)\n",
    "\n",
    "box = patches.Rectangle((x_min, y_min), x_max-x_min, y_max-y_min, linewidth=1, linestyle='--', edgecolor='grey', fill=False)\n",
    "ax.add_patch(box)\n",
    "\n",
    "ax.set_xlabel('X')\n",
    "ax.set_ylabel('Y')\n",
    "plt.axis('equal')\n",
    "plt.show()"
   ]
  },
  {
   "cell_type": "markdown",
   "id": "f53ad703-a37c-4491-83b6-4429f45af9a5",
   "metadata": {},
   "source": [
    "## TODO Cluster Growing"
   ]
  },
  {
   "cell_type": "code",
   "execution_count": null,
   "id": "d8090cac-fc89-4d7a-9620-464969665138",
   "metadata": {},
   "outputs": [],
   "source": [
    "plane_height = 1.25\n",
    "\n",
    "height_mask_ids = np.where(points[:,2] > avg_ground_height + plane_height)[0]"
   ]
  },
  {
   "cell_type": "code",
   "execution_count": null,
   "id": "db761d23-79f3-4a9e-8a77-4967c2973506",
   "metadata": {},
   "outputs": [],
   "source": [
    "# Cluster based region growing.\n",
    "# Not for trees yet.\n",
    "lcc_light = LabelConnectedComp(Labels.STREET_LIGHT, exclude_labels=(Labels.TREE, Labels.TRAFFIC_SIGN),\n",
    "                               octree_level=9, min_component_size=100, threshold=0.1)\n",
    "lcc_sign = LabelConnectedComp(Labels.TRAFFIC_SIGN, exclude_labels=(Labels.TREE, Labels.STREET_LIGHT),\n",
    "                              octree_level=9, min_component_size=100, threshold=0.05)\n",
    "\n",
    "lcc_light_mask = lcc_light.get_label_mask(points=points[height_mask_ids], las_labels=las.label[mask][height_mask_ids])\n",
    "lcc_sign_mask = lcc_sign.get_label_mask(points=points[height_mask_ids], las_labels=las.label[mask][height_mask_ids])\n",
    "\n",
    "# Update labels.\n",
    "labels[mask_ids[height_mask_ids[lcc_light_mask]]] = lcc_light.get_label()\n",
    "labels[mask_ids[height_mask_ids[lcc_sign_mask]]] = lcc_sign.get_label()"
   ]
  },
  {
   "cell_type": "code",
   "execution_count": null,
   "id": "0a3e1bac-dc77-473d-8b81-57bb530f7538",
   "metadata": {},
   "outputs": [],
   "source": []
  }
 ],
 "metadata": {
  "kernelspec": {
   "display_name": "Python 3",
   "language": "python",
   "name": "python3"
  },
  "language_info": {
   "codemirror_mode": {
    "name": "ipython",
    "version": 3
   },
   "file_extension": ".py",
   "mimetype": "text/x-python",
   "name": "python",
   "nbconvert_exporter": "python",
   "pygments_lexer": "ipython3",
   "version": "3.7.10"
  }
 },
 "nbformat": 4,
 "nbformat_minor": 5
}
