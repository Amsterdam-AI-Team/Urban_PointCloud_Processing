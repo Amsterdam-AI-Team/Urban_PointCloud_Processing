{
 "cells": [
  {
   "cell_type": "code",
   "execution_count": null,
   "id": "f538d8e7-f542-47cb-ab0a-1b40c6675a0c",
   "metadata": {},
   "outputs": [],
   "source": [
    "# Add project src to path.\n",
    "import set_path\n",
    "\n",
    "# Import modules.\n",
    "import numpy as np\n",
    "import time\n",
    "import pylas\n",
    "from sklearn.cluster import DBSCAN\n",
    "\n",
    "import src.fusion as fusion\n",
    "import src.utils.las_utils as las_utils\n",
    "from src.utils.labels import Labels"
   ]
  },
  {
   "cell_type": "code",
   "execution_count": null,
   "id": "1b1ff323-ca41-4c14-95a8-2ece8f90a666",
   "metadata": {},
   "outputs": [],
   "source": [
    "# Data folder for the BGT fuser.\n",
    "bgt_data_folder = '../datasets/bgt/'\n",
    "tile_code = '2386_9702'\n",
    "\n",
    "# Building fuser using BGT building footprint data.\n",
    "bgt_point_fuser = fusion.BGTPointFuser(Labels.TREE, bgt_folder=bgt_data_folder)"
   ]
  },
  {
   "cell_type": "code",
   "execution_count": null,
   "id": "6d216d1e-fa31-4939-bfa9-017151f87267",
   "metadata": {},
   "outputs": [],
   "source": [
    "# Extract pole objects from tile.\n",
    "bgt_points = bgt_point_fuser._filter_tile(tile_code)\n",
    "trees = [(x, y) for (t, x, y) in bgt_points if t == 'boom']\n",
    "poles = [(x, y) for (t, x, y) in bgt_points if t == 'lichtmast']"
   ]
  },
  {
   "cell_type": "code",
   "execution_count": null,
   "id": "796dd951-f7ab-45f5-a45a-2959e970adf6",
   "metadata": {},
   "outputs": [],
   "source": [
    "# Load labeled and grown LAS file.\n",
    "las_file = '../datasets/pointcloud/grown_' + tile_code + '.laz'\n",
    "las = pylas.read(las_file)"
   ]
  },
  {
   "cell_type": "code",
   "execution_count": null,
   "id": "c2213f31-3309-4c28-afd7-18ecf1e2d69b",
   "metadata": {},
   "outputs": [],
   "source": [
    "# Remove ground and building points.\n",
    "mask = (las.label != Labels.GROUND) & (las.label != Labels.BUILDING)\n",
    "points = {'x': las.x[mask], 'y': las.y[mask], 'z': las.z[mask]}\n",
    "\n",
    "# Compute average ground elevation.\n",
    "ground_mask = las.label == Labels.GROUND\n",
    "avg_ground_height = np.mean(las.z[ground_mask])"
   ]
  },
  {
   "cell_type": "code",
   "execution_count": null,
   "id": "27152d32-ea88-48e2-bd32-e1356e298c0a",
   "metadata": {},
   "outputs": [],
   "source": [
    "# Define a plane to search for seed points.\n",
    "plane_height = 2\n",
    "plane_buffer = 0.2\n",
    "seed_plane_mask = (((avg_ground_height + plane_height - plane_buffer) < points['z']) \n",
    "                   & (points['z'] < (avg_ground_height + plane_height + plane_buffer)))\n",
    "\n",
    "print(f'We have {np.count_nonzero(seed_plane_mask)} potential seed points')"
   ]
  },
  {
   "cell_type": "code",
   "execution_count": null,
   "id": "b15f3ce6-e813-4881-8554-9feb82adb84c",
   "metadata": {},
   "outputs": [],
   "source": [
    "# Get <X, Y> of potential seed points.\n",
    "points_xy = np.vstack((points['x'][seed_plane_mask], points['y'][seed_plane_mask])).T"
   ]
  },
  {
   "cell_type": "code",
   "execution_count": null,
   "id": "2931a2c2-e8ee-42a5-bb4e-974bcaae5e3c",
   "metadata": {},
   "outputs": [],
   "source": [
    "# Cluster the potential seed points.\n",
    "clustering = DBSCAN(eps=0.5, min_samples=5, p=2).fit(points_xy)\n",
    "\n",
    "# Remove noise points.\n",
    "noise_mask = clustering.labels_ != -1"
   ]
  },
  {
   "cell_type": "code",
   "execution_count": null,
   "id": "42ac2ef7-ced8-4fc8-8654-96195aa8ca2c",
   "metadata": {},
   "outputs": [],
   "source": [
    "# Optional: filter clusters by size.\n",
    "\n",
    "# Get cluster labels and sizes.\n",
    "cc_labels, counts = np.unique(clustering.labels_, return_counts=True)\n",
    "\n",
    "# Only keep clusters with size between N_min and N_max.\n",
    "N_min = 10\n",
    "N_max = 5000\n",
    "count_valid = np.where((counts >= N_min) & (counts <= N_max))\n",
    "\n",
    "# Update noise mask.\n",
    "noise_mask = noise_mask & [l in set(cc_labels[count_valid]) for l in clustering.labels_]"
   ]
  },
  {
   "cell_type": "code",
   "execution_count": null,
   "id": "8232fe89-eb5c-4e70-8694-82929138acb1",
   "metadata": {},
   "outputs": [],
   "source": [
    "# Filter points based on noise mask.\n",
    "points_xy_filter = points_xy[noise_mask,:]"
   ]
  },
  {
   "cell_type": "code",
   "execution_count": null,
   "id": "31046229-9ef6-4c5d-b87f-f3f38a8dbd03",
   "metadata": {},
   "outputs": [],
   "source": [
    "# Visualize the results.\n",
    "%matplotlib widget\n",
    "import matplotlib.pyplot as plt\n",
    "import matplotlib.patches as patches\n",
    "\n",
    "bbox = las_utils.get_bbox_from_tile_code('2386_9702')\n",
    "\n",
    "fig, ax = plt.subplots(1)\n",
    "ax.scatter(points_xy_filter[:,0], points_xy_filter[:,1], c='lightgrey', marker='.')\n",
    "\n",
    "for tree in trees:\n",
    "    plt.scatter(tree[0], tree[1], c='green', marker='x')\n",
    "\n",
    "for pole in poles:\n",
    "    plt.scatter(pole[0], pole[1], c='purple', marker='x')\n",
    "\n",
    "((x_min, y_max), (x_max, y_min)) = bbox\n",
    "box = patches.Rectangle((x_min, y_min), x_max-x_min, y_max-y_min, linewidth=1, linestyle='--', edgecolor='grey', fill=False)\n",
    "ax.add_patch(box)\n",
    "\n",
    "ax.set_xlabel('X')\n",
    "ax.set_ylabel('Y')\n",
    "plt.axis('equal')\n",
    "plt.show()"
   ]
  },
  {
   "cell_type": "code",
   "execution_count": null,
   "id": "38ae4303-c395-4cef-b6a5-3cb7cd90a3d0",
   "metadata": {},
   "outputs": [],
   "source": []
  }
 ],
 "metadata": {
  "kernelspec": {
   "display_name": "Python 3",
   "language": "python",
   "name": "python3"
  },
  "language_info": {
   "codemirror_mode": {
    "name": "ipython",
    "version": 3
   },
   "file_extension": ".py",
   "mimetype": "text/x-python",
   "name": "python",
   "nbconvert_exporter": "python",
   "pygments_lexer": "ipython3",
   "version": "3.7.10"
  }
 },
 "nbformat": 4,
 "nbformat_minor": 5
}
