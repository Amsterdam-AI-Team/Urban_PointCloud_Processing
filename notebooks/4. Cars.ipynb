{
 "cells": [
  {
   "cell_type": "markdown",
   "id": "d70114bf-67b2-4a07-80c9-a518609ed99c",
   "metadata": {},
   "source": [
    "# Labelling of cars\n",
    "\n",
    "We label cars by locating 'car-shaped' clusters above roads and parking bays."
   ]
  },
  {
   "cell_type": "code",
   "execution_count": null,
   "id": "989afa0d-3b10-4b71-a3c2-38f85e4df708",
   "metadata": {},
   "outputs": [],
   "source": [
    "# Uncomment to load the local package rather than the pip-installed version.\n",
    "# Add project src to path.\n",
    "import set_path"
   ]
  },
  {
   "cell_type": "code",
   "execution_count": null,
   "id": "f6d01928",
   "metadata": {},
   "outputs": [],
   "source": [
    "# Import modules.\n",
    "import numpy as np\n",
    "import time\n",
    "import logging\n",
    "\n",
    "import upcp.utils.log_utils as log_utils\n",
    "import upcp.utils.las_utils as las_utils\n",
    "import upcp.utils.csv_utils as csv_utils\n",
    "import upcp.utils.ahn_utils as ahn_utils\n",
    "import upcp.utils.bgt_utils as bgt_utils\n",
    "import upcp.fusion as fusion\n",
    "from upcp.labels import Labels\n",
    "from upcp.pipeline import Pipeline\n",
    "\n",
    "# INFO messages will be printed to console.\n",
    "log_utils.reset_logger()\n",
    "log_utils.add_console_logger(level=logging.DEBUG)"
   ]
  },
  {
   "cell_type": "markdown",
   "id": "bdbe7291",
   "metadata": {},
   "source": [
    "## Car fuser based on cluster dimensions and BGT information\n",
    "First, download and parse the required BGT data in notebook [1. Generate reference data](1.%20Generate%20reference%20data.ipynb)."
   ]
  },
  {
   "cell_type": "code",
   "execution_count": null,
   "id": "89a24ba1",
   "metadata": {},
   "outputs": [],
   "source": [
    "# The already labelled ground and building points must be removed.\n",
    "exclude_labels = (Labels.GROUND, Labels.ROAD, Labels.BUILDING)"
   ]
  },
  {
   "cell_type": "code",
   "execution_count": null,
   "id": "c181f794",
   "metadata": {},
   "outputs": [],
   "source": [
    "# Select the file to process.\n",
    "tilecode = '2386_9702'\n",
    "\n",
    "in_file = '../datasets/pointcloud/labelled_' + tilecode + '.laz'\n",
    "out_file = '../datasets/pointcloud/labelled_' + tilecode + '.laz'\n",
    "\n",
    "# Data folder for the fusers.\n",
    "ahn_data_folder = '../datasets/ahn/'\n",
    "pc_data_folder = '../datasets/pointcloud/'\n",
    "bgt_data_file = '../datasets/bgt/bgt_roads_demo.csv'\n",
    "\n",
    "# We need elevation data to determine object height above ground.\n",
    "ahn_reader = ahn_utils.NPZReader(ahn_data_folder)\n",
    "\n",
    "# Create reader for BGT road part polygons.\n",
    "bgt_road_reader = bgt_utils.BGTPolyReader(bgt_file=bgt_data_file)"
   ]
  },
  {
   "cell_type": "code",
   "execution_count": null,
   "id": "3cfde1e2-7cd4-4be6-8299-b9fdeeb25b35",
   "metadata": {},
   "outputs": [],
   "source": [
    "# To find appropriate dimension ranges, see e.g. https://nl.automobiledimension.com/.\n",
    "car_params = {'min_height': 1.2, 'max_height': 2.4, 'min_width': 1.4, 'max_width': 2.4, 'min_length': 3.0, 'max_length': 6.0}\n",
    "\n",
    "# Car fuser using a clustering algorithm and BGT road data.\n",
    "car_fuser = fusion.CarFuser(Labels.CAR, ahn_reader, bgt_reader=bgt_road_reader, grid_size=0.05,\n",
    "                            min_component_size=5000, params=car_params)"
   ]
  },
  {
   "cell_type": "markdown",
   "id": "6b96cd6f",
   "metadata": {},
   "source": [
    "## Process point clouds and save the results\n",
    "The pipeline can now be used to process point clouds. Labels will be written to the LAS file as a new extended field called label."
   ]
  },
  {
   "cell_type": "code",
   "execution_count": null,
   "id": "e9c5e2ab",
   "metadata": {},
   "outputs": [],
   "source": [
    "# Set-up the order in how we want to label.\n",
    "process_sequence = (car_fuser,)\n",
    "pipeline = Pipeline(processors=process_sequence, exclude_labels=exclude_labels, caching=False)"
   ]
  },
  {
   "cell_type": "markdown",
   "id": "a38e12ad",
   "metadata": {},
   "source": [
    "## Process a single file"
   ]
  },
  {
   "cell_type": "code",
   "execution_count": null,
   "id": "448516f0",
   "metadata": {},
   "outputs": [],
   "source": [
    "# Process the file.\n",
    "pipeline.process_file(in_file, out_file=out_file)"
   ]
  },
  {
   "cell_type": "code",
   "execution_count": null,
   "id": "f41fb3fe",
   "metadata": {},
   "outputs": [],
   "source": []
  }
 ],
 "metadata": {
  "kernelspec": {
   "display_name": "upcp_env",
   "language": "python",
   "name": "upcp_env"
  },
  "language_info": {
   "codemirror_mode": {
    "name": "ipython",
    "version": 3
   },
   "file_extension": ".py",
   "mimetype": "text/x-python",
   "name": "python",
   "nbconvert_exporter": "python",
   "pygments_lexer": "ipython3",
   "version": "3.10.7"
  },
  "vscode": {
   "interpreter": {
    "hash": "aee8b7b246df8f9039afb4144a1f6fd8d2ca17a180786b69acc140d282b71a49"
   }
  }
 },
 "nbformat": 4,
 "nbformat_minor": 5
}
