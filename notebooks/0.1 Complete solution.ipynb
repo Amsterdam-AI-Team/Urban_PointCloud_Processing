{
 "cells": [
  {
   "cell_type": "markdown",
   "id": "f6ce9fc9-dd10-4725-8dc3-d363f4b3ef74",
   "metadata": {},
   "source": [
    "# Urban PointCloud Processing\n",
    "\n",
    "This notebook shows a \"complete solution\" in which a single point cloud file is automatically labeled using the various tools available in this repository. For clarity we skip [preprocessing of AHN data](1.%20AHN%20preprocessing.ipynb) and assume all necassary data files are already available."
   ]
  },
  {
   "cell_type": "code",
   "execution_count": null,
   "id": "ac229113-5968-4f88-a818-38fa0a297f78",
   "metadata": {},
   "outputs": [],
   "source": [
    "# Add project src to path.\n",
    "import set_path\n",
    "\n",
    "# Import modules.\n",
    "import time\n",
    "\n",
    "import src.fusion as fusion\n",
    "import src.utils.ahn_utils as ahn_utils\n",
    "import src.utils.las_utils as las_utils\n",
    "from src.utils.labels import Labels"
   ]
  },
  {
   "cell_type": "code",
   "execution_count": null,
   "id": "b25ce935-0e9b-4fbd-bd35-a08db3bdf05b",
   "metadata": {},
   "outputs": [],
   "source": [
    "# Select the file to process.\n",
    "in_file = '../datasets/pointcloud/filtered_2386_9702.laz'\n",
    "out_file = '../datasets/pointcloud/labelled_2386_9702.laz'"
   ]
  },
  {
   "cell_type": "markdown",
   "id": "2a09887e-7688-413a-ba18-29865789653c",
   "metadata": {},
   "source": [
    "## Data Fusion\n",
    "\n",
    "First, we use data fusion to automatically label ground and building points.\n",
    "\n",
    "For details and more options, see [2. Data fusion](2.%20Data%20fusion.ipynb)."
   ]
  },
  {
   "cell_type": "code",
   "execution_count": null,
   "id": "2f7eb47f-7a5d-4fce-a5aa-6e9030eabea4",
   "metadata": {},
   "outputs": [],
   "source": [
    "# Data folder for the fusers.\n",
    "ahn_data_folder = '../datasets/ahn/'\n",
    "\n",
    "# Ground fuser using pre-processed AHN data.\n",
    "npz_ground_fuser = fusion.AHNFuser(Labels.GROUND, ahn_data_folder,\n",
    "                                   method='npz', target='ground', epsilon=0.2)\n",
    "# Building fuser using pre-processed AHN data.\n",
    "npz_building_fuser = fusion.AHNFuser(Labels.BUILDING, ahn_data_folder,\n",
    "                                     method='npz', target='building', epsilon=0.2)\n",
    "# Region growing\n",
    "building_region_growing_fuser = fusion.RegionGrowingFuser(Labels.BUILDING)\n",
    "\n",
    "# Set-up pipeline.\n",
    "fusers = (npz_ground_fuser, npz_building_fuser)\n",
    "region_growing = (building_region_growing_fuser,)\n",
    "pipeline = fusion.FusionPipeline(fusers, region_growing)"
   ]
  },
  {
   "cell_type": "code",
   "execution_count": null,
   "id": "dde56738-2f73-43be-b913-3fd4d4401a30",
   "metadata": {},
   "outputs": [],
   "source": [
    "start = time.time()\n",
    "# Process the file.\n",
    "pipeline.process_file(in_file, out_file)\n",
    "end = time.time()\n",
    "print(f'Tile labelled in {end-start:.2f} seconds.')"
   ]
  },
  {
   "cell_type": "markdown",
   "id": "0138a703-17a8-46ef-8549-3cc585f53bd6",
   "metadata": {},
   "source": [
    "## Region Growing\n",
    "\n",
    "Then, we use region growing to refine the buildings. This will make sure that protruding elements such as balconies are labelled correctly.\n",
    "\n",
    "For details, installation instructions and more options, see [3. Region growing](3.%20Region%20growing.ipynb)."
   ]
  },
  {
   "cell_type": "code",
   "execution_count": null,
   "id": "consolidated-light",
   "metadata": {},
   "outputs": [],
   "source": [
    "from src.region_growing.region_growing import RegionGrowing"
   ]
  },
  {
   "cell_type": "code",
   "execution_count": null,
   "id": "dbb7b29c-f000-4bec-8975-55c7ea5020fb",
   "metadata": {},
   "outputs": [],
   "source": [
    "start = time.time()\n",
    "\n",
    "# Create a mask that excludes ground points from being added to buildings.\n",
    "mask = (las_labels != Labels.GROUND)\n",
    "\n",
    "# Initialize region growing class\n",
    "reg = RegionGrowing()\n",
    "# Process the file\n",
    "reg.set_input_cloud(las, las_labels, Labels.BUILDING, mask)\n",
    "las_labels = reg.region_growing()\n",
    "\n",
    "# Save the refined labels.\n",
    "las_utils.label_and_save_las(las, las_labels, out_file)\n",
    "\n",
    "end = time.time()\n",
    "print(f'Finished in {end-start:.2f} seconds.')"
   ]
  },
  {
   "cell_type": "markdown",
   "id": "a99c4260-e3f9-460f-9941-965f2a438d6b",
   "metadata": {},
   "source": [
    "## View the result (e.g. in CloudCompare)\n",
    "\n",
    "The final result can be viewed in CloudCompare. Open the out_file (e.g. datasets/pointcloud/labelled_2386_9702.laz) and change `Colors` from \"RGB\" to \"Scalar field\".\n",
    "\n",
    "The result should look like this:\n",
    "![Demo result](https://github.com/Amsterdam-AI-Team/Urban_PointCloud_Processing/blob/main/media/examples/demo_result.png)"
   ]
  }
 ],
 "metadata": {
  "kernelspec": {
   "display_name": "Python 3",
   "language": "python",
   "name": "python3"
  },
  "language_info": {
   "codemirror_mode": {
    "name": "ipython",
    "version": 3
   },
   "file_extension": ".py",
   "mimetype": "text/x-python",
   "name": "python",
   "nbconvert_exporter": "python",
   "pygments_lexer": "ipython3",
   "version": "3.8.5"
  }
 },
 "nbformat": 4,
 "nbformat_minor": 5
}
