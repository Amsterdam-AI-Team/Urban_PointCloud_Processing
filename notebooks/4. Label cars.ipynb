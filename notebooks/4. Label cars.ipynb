{
 "cells": [
  {
   "cell_type": "code",
   "execution_count": null,
   "id": "f6d01928",
   "metadata": {},
   "outputs": [],
   "source": [
    "# Add project src to path.\n",
    "import set_path\n",
    "\n",
    "# Import modules.\n",
    "import numpy as np\n",
    "\n",
    "from src.utils.labels import Labels\n",
    "from src.scrapers.ams_bgt_scraper import scrape_amsterdam_bgt, parse_polygons\n",
    "from src.utils.las_utils import read_las, label_and_save_las, get_bbox_from_las_file\n",
    "from src.region_growing.label_connected_comp import LabelConnectedComp"
   ]
  },
  {
   "cell_type": "code",
   "execution_count": null,
   "id": "c181f794",
   "metadata": {},
   "outputs": [],
   "source": [
    "# Select the file to process.\n",
    "in_file = '../datasets/pointcloud/grown_2397_9705.las'\n",
    "out_file = '../datasets/pointcloud/cars_2397_9705.las'\n",
    "ahn_data_file = '../datasets/ahn/ahn_2397_9705.npz'"
   ]
  },
  {
   "cell_type": "code",
   "execution_count": null,
   "id": "cbd66c9c",
   "metadata": {},
   "outputs": [],
   "source": [
    "pointcloud = read_las(in_file)\n",
    "las_labels = pointcloud.label\n",
    "points = np.vstack((pointcloud.x, pointcloud.y, pointcloud.z)).T"
   ]
  },
  {
   "cell_type": "code",
   "execution_count": null,
   "id": "b94d3878",
   "metadata": {},
   "outputs": [],
   "source": [
    "from src.utils.ahn_utils import load_ahn_tile\n",
    "ahn_tile = load_ahn_tile(ahn_data_file)"
   ]
  },
  {
   "cell_type": "code",
   "execution_count": null,
   "id": "89a24ba1",
   "metadata": {},
   "outputs": [],
   "source": [
    "exclude_labels = (Labels.GROUND, Labels.BUILDING)"
   ]
  },
  {
   "cell_type": "code",
   "execution_count": null,
   "id": "5519acf0",
   "metadata": {},
   "outputs": [],
   "source": [
    "bbox = get_bbox_from_las_file(in_file)"
   ]
  },
  {
   "cell_type": "code",
   "execution_count": null,
   "id": "6fad302c",
   "metadata": {},
   "outputs": [],
   "source": [
    "bgt_road_polygons = []\n",
    "for layer in [\"BGT_WGL_rijbaan_lokale_weg\", \"BGT_WGL_parkeervlak\"]:\n",
    "    json_content = scrape_amsterdam_bgt(layer, bbox=bbox)\n",
    "    road_polygons, _ = parse_polygons(json_content, offset_meter=-0.3)\n",
    "    bgt_road_polygons += road_polygons"
   ]
  },
  {
   "cell_type": "code",
   "execution_count": null,
   "id": "48b39c75",
   "metadata": {
    "scrolled": true
   },
   "outputs": [],
   "source": [
    "# TODO dit verwerken in de pipeline?\n",
    "lcc = LabelConnectedComp(Labels.CAR, exclude_labels, octree_level=10,\n",
    "                         min_component_size=100, max_above_ground=3,\n",
    "                         min_area_thresh=6, max_area_thresh=16)\n",
    "lcc._set_mask(las_labels)\n",
    "lcc._convert_input_cloud(points)\n",
    "lcc._label_connected_comp()\n",
    "las_labels = lcc._fill_car_like_components(bgt_road_polygons, ahn_tile)"
   ]
  },
  {
   "cell_type": "code",
   "execution_count": null,
   "id": "202a7ddb",
   "metadata": {},
   "outputs": [],
   "source": [
    "label_and_save_las(pointcloud, las_labels, out_file)"
   ]
  },
  {
   "cell_type": "code",
   "execution_count": null,
   "id": "6b88072b",
   "metadata": {},
   "outputs": [],
   "source": []
  }
 ],
 "metadata": {
  "kernelspec": {
   "display_name": "Python 3",
   "language": "python",
   "name": "python3"
  },
  "language_info": {
   "codemirror_mode": {
    "name": "ipython",
    "version": 3
   },
   "file_extension": ".py",
   "mimetype": "text/x-python",
   "name": "python",
   "nbconvert_exporter": "python",
   "pygments_lexer": "ipython3",
   "version": "3.9.4"
  }
 },
 "nbformat": 4,
 "nbformat_minor": 5
}
