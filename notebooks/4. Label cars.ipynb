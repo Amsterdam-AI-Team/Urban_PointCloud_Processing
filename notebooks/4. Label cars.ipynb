{
 "cells": [
  {
   "cell_type": "code",
   "execution_count": null,
   "id": "f6d01928",
   "metadata": {},
   "outputs": [],
   "source": [
    "# Add project src to path.\n",
    "import set_path\n",
    "\n",
    "# Import modules.\n",
    "import numpy as np\n",
    "import time\n",
    "\n",
    "from src.utils.labels import Labels\n",
    "import src.utils.las_utils as las_utils\n",
    "import src.scrapers.ams_bgt_scraper as ams_bgt_scraper\n",
    "from src.utils.csv_utils import write_csv\n",
    "from src.pipeline import Pipeline\n",
    "from src.fusion.car_fuser import CarFuser"
   ]
  },
  {
   "cell_type": "markdown",
   "id": "bdbe7291",
   "metadata": {},
   "source": [
    "## Car fuser based on cluster dimensions and BGT information\n"
   ]
  },
  {
   "cell_type": "code",
   "execution_count": null,
   "id": "89a24ba1",
   "metadata": {},
   "outputs": [],
   "source": [
    "# The already labelled ground and building points must be removed.\n",
    "exclude_labels = (Labels.GROUND, Labels.BUILDING)"
   ]
  },
  {
   "cell_type": "code",
   "execution_count": null,
   "id": "c181f794",
   "metadata": {},
   "outputs": [],
   "source": [
    "# Select the file to process.\n",
    "in_file = '../datasets/pointcloud/grown_2397_9705.las'\n",
    "out_file = '../datasets/pointcloud/cars_2397_9705.las'\n",
    "\n",
    "# Data folder for the fusers.\n",
    "ahn_data_folder = '../datasets/ahn/'\n",
    "pc_data_folder = '../datasets/pointcloud/'"
   ]
  },
  {
   "cell_type": "code",
   "execution_count": null,
   "id": "5519acf0",
   "metadata": {
    "scrolled": false
   },
   "outputs": [],
   "source": [
    "# Specify the bounding box of the area we want to scrape.\n",
    "bbox = las_utils.get_bbox_from_las_folder(pc_data_folder)\n",
    "\n",
    "# Road parking spots layers in BGT\n",
    "bgt_layers = [\"BGT_WGL_rijbaan_lokale_weg\", \"BGT_WGL_parkeervlak\",\n",
    "             \"BGT_WGL_rijbaan_autoweg\", \"BGT_WGL_rijbaan_autosnelweg\",\n",
    "             \"BGT_WGL_rijbaan_regionale_weg\"]"
   ]
  },
  {
   "cell_type": "code",
   "execution_count": null,
   "id": "8c1eb025",
   "metadata": {},
   "outputs": [],
   "source": [
    "# Scrape data from the Amsterdam WFS and parse the json.\n",
    "bgt_road_polygons_csv = []\n",
    "for layer in bgt_layers:\n",
    "    # Scrape data from the Amsterdam WFS, this will return a json response.\n",
    "    json_content = ams_bgt_scraper.scrape_amsterdam_bgt(layer, bbox=bbox)\n",
    "    \n",
    "    # Parse the downloaded json response.\n",
    "    parsed_content, csv_headers = ams_bgt_scraper.parse_polygons(json_content,\n",
    "                                                                 offset_meter=-0.3, \n",
    "                                                                 prepare_csv=True)\n",
    "    bgt_road_polygons_csv += parsed_content\n",
    "\n",
    "# Write the csv\n",
    "bgt_data_file = '../datasets/bgt/bgt_roads.csv'\n",
    "write_csv(bgt_data_file, bgt_road_polygons_csv, csv_headers)"
   ]
  },
  {
   "cell_type": "code",
   "execution_count": null,
   "id": "48b39c75",
   "metadata": {
    "scrolled": true
   },
   "outputs": [],
   "source": [
    "# Car fuser using a clustering algorithm and BGT road data.\n",
    "car_fuser = CarFuser(Labels.CAR, exclude_labels, ahn_data_folder, \n",
    "                     bgt_file=bgt_data_file, octree_level=10,\n",
    "                     min_component_size=100, max_above_ground=3,\n",
    "                     min_width_thresh=1.5, max_width_thresh=2.55,\n",
    "                     min_length_thresh=2.0, max_length_thresh=7.0)"
   ]
  },
  {
   "cell_type": "markdown",
   "id": "6b96cd6f",
   "metadata": {},
   "source": [
    "## Process point clouds and save the results\n",
    "The pipeline can now be used to process point clouds. Labels will be written to the LAS file as a new extended field called label."
   ]
  },
  {
   "cell_type": "code",
   "execution_count": null,
   "id": "e9c5e2ab",
   "metadata": {},
   "outputs": [],
   "source": [
    "# Set-up the order in how we want to label.\n",
    "process_sequence = (car_fuser,)\n",
    "pipeline = Pipeline(process_sequence=process_sequence)"
   ]
  },
  {
   "cell_type": "markdown",
   "id": "a38e12ad",
   "metadata": {},
   "source": [
    "## Process a single file"
   ]
  },
  {
   "cell_type": "code",
   "execution_count": null,
   "id": "448516f0",
   "metadata": {},
   "outputs": [],
   "source": [
    "# Process the file.\n",
    "start = time.time()\n",
    "pipeline.process_file(in_file, out_file=out_file)\n",
    "end = time.time()\n",
    "print(f'Tile labelled in {end-start:.2f} seconds.')"
   ]
  },
  {
   "cell_type": "code",
   "execution_count": null,
   "id": "f41fb3fe",
   "metadata": {},
   "outputs": [],
   "source": []
  }
 ],
 "metadata": {
  "kernelspec": {
   "display_name": "Python 3",
   "language": "python",
   "name": "python3"
  },
  "language_info": {
   "codemirror_mode": {
    "name": "ipython",
    "version": 3
   },
   "file_extension": ".py",
   "mimetype": "text/x-python",
   "name": "python",
   "nbconvert_exporter": "python",
   "pygments_lexer": "ipython3",
   "version": "3.9.4"
  }
 },
 "nbformat": 4,
 "nbformat_minor": 5
}
