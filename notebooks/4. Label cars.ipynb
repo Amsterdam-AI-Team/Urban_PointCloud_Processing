{
 "cells": [
  {
   "cell_type": "code",
   "execution_count": null,
   "id": "f6d01928",
   "metadata": {},
   "outputs": [],
   "source": [
    "# Add project src to path.\n",
    "import set_path\n",
    "\n",
    "# Import modules.\n",
    "import numpy as np\n",
    "\n",
    "from src.utils.labels import Labels\n",
    "from src.utils.las_utils import read_las, label_and_save_las, get_bbox_from_las_file, get_tilecode_from_filename\n",
    "from src.scrapers.ams_bgt_scraper import scrape_amsterdam_bgt, parse_polygons\n",
    "from src.fusion.car_fuser import CarFuser"
   ]
  },
  {
   "cell_type": "code",
   "execution_count": null,
   "id": "89a24ba1",
   "metadata": {},
   "outputs": [],
   "source": [
    "# The already labelled ground and building points must be removed.\n",
    "exclude_labels = (Labels.GROUND, Labels.BUILDING)"
   ]
  },
  {
   "cell_type": "code",
   "execution_count": null,
   "id": "c181f794",
   "metadata": {},
   "outputs": [],
   "source": [
    "# Select the file to process.\n",
    "in_file = '../datasets/pointcloud/grown_2397_9705.las'\n",
    "out_file = '../datasets/pointcloud/cars_2397_9705.las'\n",
    "\n",
    "# Data folder for the fusers.\n",
    "ahn_data_folder = '../datasets/ahn/'\n",
    "\n",
    "# Read the point cloud\n",
    "tilecode = get_tilecode_from_filename(in_file)\n",
    "pointcloud = read_las(in_file)\n",
    "points = np.vstack((pointcloud.x, pointcloud.y, pointcloud.z)).T"
   ]
  },
  {
   "cell_type": "code",
   "execution_count": null,
   "id": "5519acf0",
   "metadata": {
    "scrolled": false
   },
   "outputs": [],
   "source": [
    "# Specify the bounding box of the area we want to scrape.\n",
    "bbox = get_bbox_from_las_file(in_file)\n",
    "\n",
    "# Road parking spots layers in BGT\n",
    "bgt_layers = [\"BGT_WGL_rijbaan_lokale_weg\", \"BGT_WGL_parkeervlak\",\n",
    "             \"BGT_WGL_rijbaan_autoweg\", \"BGT_WGL_rijbaan_autosnelweg\",\n",
    "             \"BGT_WGL_rijbaan_regionale_weg\"]\n",
    "\n",
    "# Scrape data from the Amsterdam WFS and parse the json.\n",
    "bgt_road_polygons = []\n",
    "for layer in bgt_layers:\n",
    "    # Scrape data from the Amsterdam WFS, this will return a json response.\n",
    "    json_content = scrape_amsterdam_bgt(layer, bbox=bbox)\n",
    "    \n",
    "    # Parse the downloaded json response.\n",
    "    parsed_content, _ = parse_polygons(json_content, offset_meter=-0.3)\n",
    "    bgt_road_polygons += parsed_content"
   ]
  },
  {
   "cell_type": "code",
   "execution_count": null,
   "id": "48b39c75",
   "metadata": {
    "scrolled": true
   },
   "outputs": [],
   "source": [
    "car_fuser = CarFuser(Labels.CAR, exclude_labels, ahn_data_folder, \n",
    "                     bgt_road_polygons=bgt_road_polygons, \n",
    "                     octree_level=10, min_component_size=100,\n",
    "                     max_above_ground=3, min_width_thresh=1.5,\n",
    "                     max_width_thresh=2.55, min_length_thresh=2.0,\n",
    "                     max_length_thresh=7.0)"
   ]
  },
  {
   "cell_type": "code",
   "execution_count": null,
   "id": "db4b85ab",
   "metadata": {},
   "outputs": [],
   "source": [
    "las_labels = car_fuser.get_label_mask(tilecode, points, pointcloud.label)"
   ]
  },
  {
   "cell_type": "code",
   "execution_count": null,
   "id": "202a7ddb",
   "metadata": {},
   "outputs": [],
   "source": [
    "label_and_save_las(pointcloud, las_labels, out_file)"
   ]
  },
  {
   "cell_type": "code",
   "execution_count": null,
   "id": "f41fb3fe",
   "metadata": {},
   "outputs": [],
   "source": []
  }
 ],
 "metadata": {
  "kernelspec": {
   "display_name": "Python 3",
   "language": "python",
   "name": "python3"
  },
  "language_info": {
   "codemirror_mode": {
    "name": "ipython",
    "version": 3
   },
   "file_extension": ".py",
   "mimetype": "text/x-python",
   "name": "python",
   "nbconvert_exporter": "python",
   "pygments_lexer": "ipython3",
   "version": "3.9.4"
  }
 },
 "nbformat": 4,
 "nbformat_minor": 5
}
