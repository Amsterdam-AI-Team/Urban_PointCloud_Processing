{
 "cells": [
  {
   "cell_type": "code",
   "execution_count": null,
   "id": "f6d01928",
   "metadata": {},
   "outputs": [],
   "source": [
    "# Add project src to path.\n",
    "import set_path\n",
    "\n",
    "import numpy as np\n",
    "\n",
    "from src.utils.labels import Labels\n",
    "from src.scrapers.ams_bgt_scraper import scrape_amsterdam_bgt, parse_polygons\n",
    "from src.utils.las_utils import read_las, label_and_save_las, get_bbox_from_las_file\n",
    "from src.region_growing.label_connected_comp import LabelConnectedComp"
   ]
  },
  {
   "cell_type": "code",
   "execution_count": null,
   "id": "c181f794",
   "metadata": {},
   "outputs": [],
   "source": [
    "in_file = '../datasets/pointcloud/grown_2397_9705.las'\n",
    "out_file = '../datasets/pointcloud/cars_2397_9705.las'"
   ]
  },
  {
   "cell_type": "code",
   "execution_count": null,
   "id": "cbd66c9c",
   "metadata": {},
   "outputs": [],
   "source": [
    "pointcloud = read_las(in_file)\n",
    "las_labels = pointcloud.label\n",
    "points = np.vstack((pointcloud.x, pointcloud.y, pointcloud.z)).T"
   ]
  },
  {
   "cell_type": "code",
   "execution_count": null,
   "id": "c29a6fcb",
   "metadata": {},
   "outputs": [],
   "source": [
    "# TODO dit gaat alleen werken voor een tegel met weinig heuvels\n",
    "avg_ground_height = np.average(pointcloud.z[las_labels == Labels.GROUND])\n",
    "max_z_thresh = avg_ground_height + 3"
   ]
  },
  {
   "cell_type": "code",
   "execution_count": null,
   "id": "89a24ba1",
   "metadata": {},
   "outputs": [],
   "source": [
    "exclude_labels = (Labels.GROUND, Labels.BUILDING)"
   ]
  },
  {
   "cell_type": "code",
   "execution_count": null,
   "id": "fdec5ca0",
   "metadata": {},
   "outputs": [],
   "source": [
    "bbox = get_bbox_from_las_file(in_file)"
   ]
  },
  {
   "cell_type": "code",
   "execution_count": null,
   "id": "78c39284",
   "metadata": {},
   "outputs": [],
   "source": [
    "# TODO parse_polygons moeten we als CSV opslaan\n",
    "joined_road_polygons = []\n",
    "for layer in [\"BGT_WGL_rijbaan_lokale_weg\", \"BGT_WGL_parkeervlak\"]:\n",
    "    json_content = scrape_amsterdam_bgt(layer, bbox=bbox)\n",
    "    road_polygons = parse_polygons(json_content)\n",
    "    joined_road_polygons += road_polygons"
   ]
  },
  {
   "cell_type": "code",
   "execution_count": null,
   "id": "48b39c75",
   "metadata": {},
   "outputs": [],
   "source": [
    "lcc = LabelConnectedComp(Labels.CAR, exclude_labels, octree_level=10,\n",
    "                         min_component_size=100)\n",
    "lcc._set_mask(las_labels)\n",
    "lcc._convert_input_cloud(points)\n",
    "lcc._label_connected_comp()\n",
    "las_labels = lcc._overlapping_components(joined_road_polygons, max_z_thresh, \n",
    "                                         min_area_thresh=6, max_area_thresh=16)"
   ]
  },
  {
   "cell_type": "code",
   "execution_count": null,
   "id": "202a7ddb",
   "metadata": {},
   "outputs": [],
   "source": [
    "label_and_save_las(pointcloud, las_labels, out_file)"
   ]
  },
  {
   "cell_type": "code",
   "execution_count": null,
   "id": "19422b1b",
   "metadata": {},
   "outputs": [],
   "source": []
  }
 ],
 "metadata": {
  "kernelspec": {
   "display_name": "Python 3",
   "language": "python",
   "name": "python3"
  },
  "language_info": {
   "codemirror_mode": {
    "name": "ipython",
    "version": 3
   },
   "file_extension": ".py",
   "mimetype": "text/x-python",
   "name": "python",
   "nbconvert_exporter": "python",
   "pygments_lexer": "ipython3",
   "version": "3.9.4"
  }
 },
 "nbformat": 4,
 "nbformat_minor": 5
}
