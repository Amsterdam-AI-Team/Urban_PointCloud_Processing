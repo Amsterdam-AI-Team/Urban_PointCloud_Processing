{
 "cells": [
  {
   "cell_type": "code",
   "execution_count": 1,
   "id": "incident-comfort",
   "metadata": {},
   "outputs": [],
   "source": [
    "# Add project src to path.\n",
    "import set_path\n",
    "\n",
    "import src.scrapers.ams_bgt_scraper as ams_bgt_scraper\n",
    "import src.scrapers.ndw_scraper as ndw_scraper\n",
    "import src.utils.las_utils as las_utils"
   ]
  },
  {
   "cell_type": "markdown",
   "id": "prepared-cisco",
   "metadata": {},
   "source": [
    "## Specify the bounding box of the area we want to scrape"
   ]
  },
  {
   "cell_type": "code",
   "execution_count": 2,
   "id": "micro-democracy",
   "metadata": {},
   "outputs": [],
   "source": [
    "# Single file\n",
    "tilecode = '2386_9702'\n",
    "bbox = las_utils.get_bbox_from_tile_code(tilecode)"
   ]
  },
  {
   "cell_type": "code",
   "execution_count": 3,
   "id": "overall-supply",
   "metadata": {},
   "outputs": [],
   "source": [
    "# All files in a folder\n",
    "bbox = las_utils.get_bbox_from_las_folder('../datasets/pointcloud/', padding=10)"
   ]
  },
  {
   "cell_type": "markdown",
   "id": "later-reader",
   "metadata": {},
   "source": [
    "## Scrape building footprint data from BGT"
   ]
  },
  {
   "cell_type": "code",
   "execution_count": 4,
   "id": "directed-reach",
   "metadata": {},
   "outputs": [],
   "source": [
    "# Output file for the BGT fuser.\n",
    "bgt_data_file = '../datasets/bgt/bgt_buildings_demo.csv'\n",
    "csv_headers = ['building_id', 'polygon', 'x_min', 'y_max', 'x_max',\n",
    "               'y_min']"
   ]
  },
  {
   "cell_type": "code",
   "execution_count": 5,
   "id": "contrary-briefs",
   "metadata": {},
   "outputs": [
    {
     "ename": "TypingError",
     "evalue": "Failed in nopython mode pipeline (step: nopython frontend)\nNo implementation of function Function(<built-in function getitem>) found for signature:\n \n >>> getitem(reflected list(reflected list(float64)<iv=None>)<iv=None>, Tuple(slice<a:b>, Literal[int](0)))\n \nThere are 22 candidate implementations:\n     - Of which 22 did not match due to:\n     Overload of function 'getitem': File: <numerous>: Line N/A.\n       With argument(s): '(reflected list(reflected list(float64)<iv=None>)<iv=None>, Tuple(slice<a:b>, int64))':\n      No match.\n\nDuring: typing of intrinsic-call at /Users/ceijg/Documents/GitHub/Urban_PointCloud_Processing_vis/src/utils/math_utils.py (48)\nDuring: typing of static-get-item at /Users/ceijg/Documents/GitHub/Urban_PointCloud_Processing_vis/src/utils/math_utils.py (48)\n\nFile \"../src/utils/math_utils.py\", line 48:\ndef compute_bounding_box(points):\n    <source elided>\n    \"\"\"\n    min_x = np.min(points[:, 0])\n    ^\n",
     "output_type": "error",
     "traceback": [
      "\u001b[0;31m---------------------------------------------------------------------------\u001b[0m",
      "\u001b[0;31mTypingError\u001b[0m                               Traceback (most recent call last)",
      "\u001b[0;32m<ipython-input-5-062319f60ee3>\u001b[0m in \u001b[0;36m<module>\u001b[0;34m\u001b[0m\n\u001b[1;32m      3\u001b[0m \u001b[0;34m\u001b[0m\u001b[0m\n\u001b[1;32m      4\u001b[0m \u001b[0;31m# Parse the downloaded json response.\u001b[0m\u001b[0;34m\u001b[0m\u001b[0;34m\u001b[0m\u001b[0;34m\u001b[0m\u001b[0m\n\u001b[0;32m----> 5\u001b[0;31m \u001b[0mparsed_content\u001b[0m \u001b[0;34m=\u001b[0m \u001b[0mams_bgt_scraper\u001b[0m\u001b[0;34m.\u001b[0m\u001b[0mparse_buildings\u001b[0m\u001b[0;34m(\u001b[0m\u001b[0mjson_response\u001b[0m\u001b[0;34m,\u001b[0m \u001b[0mprepare_csv\u001b[0m\u001b[0;34m=\u001b[0m\u001b[0;32mTrue\u001b[0m\u001b[0;34m)\u001b[0m\u001b[0;34m\u001b[0m\u001b[0;34m\u001b[0m\u001b[0m\n\u001b[0m\u001b[1;32m      6\u001b[0m \u001b[0;34m\u001b[0m\u001b[0m\n\u001b[1;32m      7\u001b[0m \u001b[0;31m# Write the csv\u001b[0m\u001b[0;34m\u001b[0m\u001b[0;34m\u001b[0m\u001b[0;34m\u001b[0m\u001b[0m\n",
      "\u001b[0;32m~/Documents/GitHub/Urban_PointCloud_Processing_vis/src/scrapers/ams_bgt_scraper.py\u001b[0m in \u001b[0;36mparse_buildings\u001b[0;34m(json_response, prepare_csv)\u001b[0m\n\u001b[1;32m     63\u001b[0m \u001b[0;34m\u001b[0m\u001b[0m\n\u001b[1;32m     64\u001b[0m         \u001b[0;32mif\u001b[0m \u001b[0mprepare_csv\u001b[0m\u001b[0;34m:\u001b[0m\u001b[0;34m\u001b[0m\u001b[0;34m\u001b[0m\u001b[0m\n\u001b[0;32m---> 65\u001b[0;31m             \u001b[0mx_min\u001b[0m\u001b[0;34m,\u001b[0m \u001b[0my_max\u001b[0m\u001b[0;34m,\u001b[0m \u001b[0mx_max\u001b[0m\u001b[0;34m,\u001b[0m \u001b[0my_min\u001b[0m \u001b[0;34m=\u001b[0m \u001b[0mcompute_bounding_box\u001b[0m\u001b[0;34m(\u001b[0m\u001b[0mpand_polygon\u001b[0m\u001b[0;34m)\u001b[0m\u001b[0;34m\u001b[0m\u001b[0;34m\u001b[0m\u001b[0m\n\u001b[0m\u001b[1;32m     66\u001b[0m             parsed_content.append([str(pand_id), pand_polygon, x_min, y_max,\n\u001b[1;32m     67\u001b[0m                                   x_max, y_min])\n",
      "\u001b[0;32m/opt/anaconda3/envs/point_cloud/lib/python3.8/site-packages/numba/core/dispatcher.py\u001b[0m in \u001b[0;36m_compile_for_args\u001b[0;34m(self, *args, **kws)\u001b[0m\n\u001b[1;32m    418\u001b[0m                 \u001b[0me\u001b[0m\u001b[0;34m.\u001b[0m\u001b[0mpatch_message\u001b[0m\u001b[0;34m(\u001b[0m\u001b[0mmsg\u001b[0m\u001b[0;34m)\u001b[0m\u001b[0;34m\u001b[0m\u001b[0;34m\u001b[0m\u001b[0m\n\u001b[1;32m    419\u001b[0m \u001b[0;34m\u001b[0m\u001b[0m\n\u001b[0;32m--> 420\u001b[0;31m             \u001b[0merror_rewrite\u001b[0m\u001b[0;34m(\u001b[0m\u001b[0me\u001b[0m\u001b[0;34m,\u001b[0m \u001b[0;34m'typing'\u001b[0m\u001b[0;34m)\u001b[0m\u001b[0;34m\u001b[0m\u001b[0;34m\u001b[0m\u001b[0m\n\u001b[0m\u001b[1;32m    421\u001b[0m         \u001b[0;32mexcept\u001b[0m \u001b[0merrors\u001b[0m\u001b[0;34m.\u001b[0m\u001b[0mUnsupportedError\u001b[0m \u001b[0;32mas\u001b[0m \u001b[0me\u001b[0m\u001b[0;34m:\u001b[0m\u001b[0;34m\u001b[0m\u001b[0;34m\u001b[0m\u001b[0m\n\u001b[1;32m    422\u001b[0m             \u001b[0;31m# Something unsupported is present in the user code, add help info\u001b[0m\u001b[0;34m\u001b[0m\u001b[0;34m\u001b[0m\u001b[0;34m\u001b[0m\u001b[0m\n",
      "\u001b[0;32m/opt/anaconda3/envs/point_cloud/lib/python3.8/site-packages/numba/core/dispatcher.py\u001b[0m in \u001b[0;36merror_rewrite\u001b[0;34m(e, issue_type)\u001b[0m\n\u001b[1;32m    359\u001b[0m                 \u001b[0;32mraise\u001b[0m \u001b[0me\u001b[0m\u001b[0;34m\u001b[0m\u001b[0;34m\u001b[0m\u001b[0m\n\u001b[1;32m    360\u001b[0m             \u001b[0;32melse\u001b[0m\u001b[0;34m:\u001b[0m\u001b[0;34m\u001b[0m\u001b[0;34m\u001b[0m\u001b[0m\n\u001b[0;32m--> 361\u001b[0;31m                 \u001b[0;32mraise\u001b[0m \u001b[0me\u001b[0m\u001b[0;34m.\u001b[0m\u001b[0mwith_traceback\u001b[0m\u001b[0;34m(\u001b[0m\u001b[0;32mNone\u001b[0m\u001b[0;34m)\u001b[0m\u001b[0;34m\u001b[0m\u001b[0;34m\u001b[0m\u001b[0m\n\u001b[0m\u001b[1;32m    362\u001b[0m \u001b[0;34m\u001b[0m\u001b[0m\n\u001b[1;32m    363\u001b[0m         \u001b[0margtypes\u001b[0m \u001b[0;34m=\u001b[0m \u001b[0;34m[\u001b[0m\u001b[0;34m]\u001b[0m\u001b[0;34m\u001b[0m\u001b[0;34m\u001b[0m\u001b[0m\n",
      "\u001b[0;31mTypingError\u001b[0m: Failed in nopython mode pipeline (step: nopython frontend)\nNo implementation of function Function(<built-in function getitem>) found for signature:\n \n >>> getitem(reflected list(reflected list(float64)<iv=None>)<iv=None>, Tuple(slice<a:b>, Literal[int](0)))\n \nThere are 22 candidate implementations:\n     - Of which 22 did not match due to:\n     Overload of function 'getitem': File: <numerous>: Line N/A.\n       With argument(s): '(reflected list(reflected list(float64)<iv=None>)<iv=None>, Tuple(slice<a:b>, int64))':\n      No match.\n\nDuring: typing of intrinsic-call at /Users/ceijg/Documents/GitHub/Urban_PointCloud_Processing_vis/src/utils/math_utils.py (48)\nDuring: typing of static-get-item at /Users/ceijg/Documents/GitHub/Urban_PointCloud_Processing_vis/src/utils/math_utils.py (48)\n\nFile \"../src/utils/math_utils.py\", line 48:\ndef compute_bounding_box(points):\n    <source elided>\n    \"\"\"\n    min_x = np.min(points[:, 0])\n    ^\n"
     ]
    }
   ],
   "source": [
    "# Scrape data from the Amsterdam WFS, this will return a json response.\n",
    "json_response = ams_bgt_scraper.scrape_amsterdam_bgt('BGT_PND_pand', bbox=bbox)\n",
    "\n",
    "# Parse the downloaded json response.\n",
    "parsed_content = ams_bgt_scraper.parse_buildings(json_response, prepare_csv=True)\n",
    "\n",
    "# Write the csv\n",
    "csv_utils.write_csv(bgt_data_file, parsed_content, csv_headers)"
   ]
  },
  {
   "cell_type": "markdown",
   "id": "utility-termination",
   "metadata": {},
   "source": [
    "## Scrape road information from BGT"
   ]
  },
  {
   "cell_type": "code",
   "execution_count": null,
   "id": "interim-colleague",
   "metadata": {},
   "outputs": [],
   "source": [
    "# Output file for the BGT fuser.\n",
    "bgt_data_file = '../datasets/bgt/bgt_roads_demo.csv'\n",
    "csv_headers = ['bgt_name', 'polygon', 'x_min', 'y_max', 'x_max',\n",
    "               'y_min']\n",
    "    \n",
    "# Road and parking spots layers in BGT\n",
    "bgt_layers = ['BGT_WGL_rijbaan_lokale_weg', 'BGT_WGL_parkeervlak',\n",
    "              'BGT_WGL_rijbaan_autoweg', 'BGT_WGL_rijbaan_autosnelweg',\n",
    "              'BGT_WGL_rijbaan_regionale_weg', 'BGT_WGL_ov-baan']"
   ]
  },
  {
   "cell_type": "code",
   "execution_count": null,
   "id": "renewable-commonwealth",
   "metadata": {},
   "outputs": [],
   "source": [
    "# Scrape data from the Amsterdam WFS and parse the json.\n",
    "bgt_road_polygons_csv = []\n",
    "for layer in bgt_layers:\n",
    "    # Scrape data from the Amsterdam WFS, this will return a json response.\n",
    "    json_content = ams_bgt_scraper.scrape_amsterdam_bgt(layer, bbox=bbox)\n",
    "    \n",
    "    # Parse the downloaded json response.\n",
    "    parsed_content = ams_bgt_scraper.parse_polygons(json_content, prepare_csv=True)\n",
    "    bgt_road_polygons_csv += parsed_content\n",
    "\n",
    "# Write the csv\n",
    "csv_utils.write_csv(bgt_data_file, bgt_road_polygons_csv, csv_headers)"
   ]
  },
  {
   "cell_type": "markdown",
   "id": "diverse-johnson",
   "metadata": {},
   "source": [
    "## Scrape pole-like objects from BGT and NDW"
   ]
  },
  {
   "cell_type": "code",
   "execution_count": null,
   "id": "conditional-rescue",
   "metadata": {},
   "outputs": [],
   "source": [
    "# Output file for the BGT fuser.\n",
    "bgt_data_file = '../datasets/bgt/custom_points_demo.csv'\n",
    "csv_headers = ['Type', 'X', 'Y']"
   ]
  },
  {
   "cell_type": "code",
   "execution_count": null,
   "id": "rough-complement",
   "metadata": {},
   "outputs": [],
   "source": [
    "# Scrape tree and lamp post data from BGT and parse the json.\n",
    "bgt_point_objects_csv = []\n",
    "for layer in ['BGTPLUS_PAL_lichtmast', 'BGTPLUS_VGT_boom']:\n",
    "    # Scrape data from the Amsterdam WFS, this will return a json response.\n",
    "    json_content = ams_bgt_scraper.scrape_amsterdam_bgt(layer, bbox=bbox)\n",
    "    \n",
    "    # Parse the downloaded json response.\n",
    "    parsed_content = ams_bgt_scraper.parse_points_bgtplus(json_content)\n",
    "    bgt_point_objects_csv += parsed_content\n",
    "\n",
    "# Scrape traffic sign data from NDW and parse the json.\n",
    "json_content = ndw_scraper.scrape_ndw()\n",
    "\n",
    "# Parse the downloaded json response.\n",
    "parsed_content = ndw_scraper.parse_traffic_signs(json_content, bbox)\n",
    "bgt_point_objects_csv += parsed_content\n",
    "\n",
    "# Write the csv\n",
    "csv_utils.write_csv(bgt_data_file, bgt_point_objects_csv, csv_headers)"
   ]
  }
 ],
 "metadata": {
  "kernelspec": {
   "display_name": "Python 3",
   "language": "python",
   "name": "python3"
  },
  "language_info": {
   "codemirror_mode": {
    "name": "ipython",
    "version": 3
   },
   "file_extension": ".py",
   "mimetype": "text/x-python",
   "name": "python",
   "nbconvert_exporter": "python",
   "pygments_lexer": "ipython3",
   "version": "3.8.5"
  }
 },
 "nbformat": 4,
 "nbformat_minor": 5
}
