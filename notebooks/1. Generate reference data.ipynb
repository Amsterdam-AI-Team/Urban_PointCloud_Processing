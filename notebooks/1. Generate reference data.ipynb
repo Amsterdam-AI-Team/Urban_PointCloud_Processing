{
 "cells": [
  {
   "cell_type": "markdown",
   "id": "beginning-webcam",
   "metadata": {},
   "source": [
    "# Scrape and parse reference data from public data sources\n",
    "This notebook scrapes data from the Amsterdam BGT API and National Road Traffic Data Portal\n",
    "(NDW). The documentation of both data sources can be found at:\n",
    "- https://www.amsterdam.nl/stelselpedia/bgt-index/producten-bgt/prodspec-bgt-dgn-imgeo/\n",
    "- https://docs.ndw.nu/api/trafficsigns/nl/index.html"
   ]
  },
  {
   "cell_type": "code",
   "execution_count": null,
   "id": "03f66669-5b3f-402e-a9b7-a1279f778fcd",
   "metadata": {},
   "outputs": [],
   "source": [
    "# Uncomment to load the local package rather than the pip-installed version.\n",
    "# Add project src to path.\n",
    "import set_path"
   ]
  },
  {
   "cell_type": "code",
   "execution_count": null,
   "id": "productive-median",
   "metadata": {},
   "outputs": [],
   "source": [
    "import upcp.scrapers.ams_bgt_scraper as ams_bgt_scraper\n",
    "import upcp.scrapers.ndw_scraper as ndw_scraper\n",
    "import upcp.utils.las_utils as las_utils\n",
    "import upcp.utils.csv_utils as csv_utils"
   ]
  },
  {
   "cell_type": "markdown",
   "id": "capital-employee",
   "metadata": {},
   "source": [
    "## Specify the bounding box of the area we want to scrape"
   ]
  },
  {
   "cell_type": "code",
   "execution_count": null,
   "id": "consecutive-latvia",
   "metadata": {},
   "outputs": [],
   "source": [
    "# Single file\n",
    "tilecode = '2386_9702'\n",
    "# tilecode = '2397_9705'\n",
    "bbox = las_utils.get_bbox_from_tile_code(tilecode, padding=5)"
   ]
  },
  {
   "cell_type": "code",
   "execution_count": null,
   "id": "arranged-crossing",
   "metadata": {},
   "outputs": [],
   "source": [
    "# All files in a folder\n",
    "bbox = las_utils.get_bbox_from_las_folder('../datasets/pointcloud/', padding=5)"
   ]
  },
  {
   "cell_type": "markdown",
   "id": "confident-hammer",
   "metadata": {},
   "source": [
    "## Scrape building footprint data from BGT"
   ]
  },
  {
   "cell_type": "code",
   "execution_count": null,
   "id": "duplicate-landscape",
   "metadata": {},
   "outputs": [],
   "source": [
    "# Output file for the BGT fuser.\n",
    "bgt_data_file = '../datasets/bgt/bgt_buildings_demo.csv'\n",
    "csv_headers = ['bgt_type', 'polygon', 'x_min', 'y_max', 'x_max', 'y_min']\n",
    "\n",
    "bgt_layer = 'BGT_PND_pand'"
   ]
  },
  {
   "cell_type": "code",
   "execution_count": null,
   "id": "tough-bradford",
   "metadata": {},
   "outputs": [],
   "source": [
    "# Scrape data from the Amsterdam WFS, this will return a json response.\n",
    "json_response = ams_bgt_scraper.scrape_amsterdam_bgt(bgt_layer, bbox=bbox)\n",
    "\n",
    "# Parse the downloaded json response.\n",
    "parsed_content = ams_bgt_scraper.parse_polygons(json_response)\n",
    "\n",
    "# Write the csv\n",
    "csv_utils.write_csv(bgt_data_file, parsed_content, csv_headers)"
   ]
  },
  {
   "cell_type": "markdown",
   "id": "dietary-wildlife",
   "metadata": {},
   "source": [
    "## Scrape road information from BGT"
   ]
  },
  {
   "cell_type": "code",
   "execution_count": null,
   "id": "handmade-therapist",
   "metadata": {},
   "outputs": [],
   "source": [
    "# Output file for the BGT fuser.\n",
    "bgt_data_file = '../datasets/bgt/bgt_roads_demo.csv'\n",
    "csv_headers = ['bgt_type', 'polygon', 'x_min', 'y_max', 'x_max', 'y_min']\n",
    "    \n",
    "# Road and parking spots layers in BGT\n",
    "bgt_layers = ['BGT_WGL_rijbaan_lokale_weg', 'BGT_WGL_parkeervlak',\n",
    "              'BGT_WGL_rijbaan_autoweg', 'BGT_WGL_rijbaan_autosnelweg',\n",
    "              'BGT_WGL_rijbaan_regionale_weg', 'BGT_WGL_ov-baan',\n",
    "              'BGT_WGL_fietspad']"
   ]
  },
  {
   "cell_type": "code",
   "execution_count": null,
   "id": "mature-chess",
   "metadata": {},
   "outputs": [],
   "source": [
    "# Scrape data from the Amsterdam WFS and parse the json.\n",
    "bgt_road_polygons_csv = []\n",
    "for layer in bgt_layers:\n",
    "    # Scrape data from the Amsterdam WFS, this will return a json response.\n",
    "    json_content = ams_bgt_scraper.scrape_amsterdam_bgt(layer, bbox=bbox)\n",
    "    \n",
    "    # Parse the downloaded json response.\n",
    "    parsed_content = ams_bgt_scraper.parse_polygons(json_content)\n",
    "    bgt_road_polygons_csv += parsed_content\n",
    "\n",
    "# Write the csv\n",
    "csv_utils.write_csv(bgt_data_file, bgt_road_polygons_csv, csv_headers)"
   ]
  },
  {
   "cell_type": "markdown",
   "id": "opened-estate",
   "metadata": {},
   "source": [
    "## Scrape pole-like object locations from BGT and NDW"
   ]
  },
  {
   "cell_type": "code",
   "execution_count": null,
   "id": "federal-negotiation",
   "metadata": {},
   "outputs": [],
   "source": [
    "# Output file for the BGT fuser.\n",
    "bgt_data_file = '../datasets/bgt/custom_poles_demo.csv'\n",
    "csv_headers = ['bgt_type', 'x', 'y']\n",
    "\n",
    "# BGT layers (without the traffic sign layer)\n",
    "bgt_layers = ['BGTPLUS_PAL_lichtmast', 'BGTPLUS_VGT_boom']"
   ]
  },
  {
   "cell_type": "code",
   "execution_count": null,
   "id": "instant-substitute",
   "metadata": {},
   "outputs": [],
   "source": [
    "# Scrape tree and lamp post data from BGT and parse the json.\n",
    "bgt_point_objects_csv = []\n",
    "for layer in bgt_layers:\n",
    "    # Scrape data from the Amsterdam WFS, this will return a json response.\n",
    "    json_content = ams_bgt_scraper.scrape_amsterdam_bgt(layer, bbox=bbox)\n",
    "    \n",
    "    # Parse the downloaded json response.\n",
    "    parsed_content = ams_bgt_scraper.parse_points_bgtplus(json_content)\n",
    "    bgt_point_objects_csv += parsed_content\n",
    "\n",
    "# Scrape traffic sign data from NDW. The municipality code of Amsterdam is GM0363.\n",
    "json_content = ndw_scraper.scrape_ndw(town_code='GM0363')\n",
    "\n",
    "# Parse the downloaded json response.\n",
    "parsed_content = ndw_scraper.parse_traffic_signs(json_content, bbox)\n",
    "bgt_point_objects_csv += parsed_content\n",
    "\n",
    "# Write the csv\n",
    "csv_utils.write_csv(bgt_data_file, bgt_point_objects_csv, csv_headers)"
   ]
  },
  {
   "cell_type": "markdown",
   "id": "charming-danger",
   "metadata": {},
   "source": [
    "## Scrape street furniture object locations from BGT\n",
    "Please note, <x,y> coordinates for the bgt layers \"BGTPLUS_BAK_afvalbak\" and \"BGTPLUS_SMR_bank\" are not available for the example point cloud tiles. Therefore, manually generated data is provided in this repository for demonstration purposes."
   ]
  },
  {
   "cell_type": "code",
   "execution_count": null,
   "id": "modified-productivity",
   "metadata": {},
   "outputs": [],
   "source": [
    "# Output file for the BGT fuser.\n",
    "bgt_data_file = '../datasets/bgt/bgt_street_furniture_demo.csv'\n",
    "csv_headers = ['bgt_type', 'x', 'y']\n",
    "\n",
    "# BGT layers\n",
    "bgt_layers = ['BGTPLUS_BAK_afvalbak', 'BGTPLUS_SMR_bank']"
   ]
  },
  {
   "cell_type": "code",
   "execution_count": null,
   "id": "returning-alexandria",
   "metadata": {},
   "outputs": [],
   "source": [
    "# Scrape street furniture data from BGT and parse the json.\n",
    "bgt_point_objects_csv = []\n",
    "for layer in bgt_layers:\n",
    "    # Scrape data from the Amsterdam WFS, this will return a json response.\n",
    "    json_content = ams_bgt_scraper.scrape_amsterdam_bgt(layer, bbox=bbox)\n",
    "    \n",
    "    # Parse the downloaded json response.\n",
    "    parsed_content = ams_bgt_scraper.parse_points_bgtplus(json_content)\n",
    "    bgt_point_objects_csv += parsed_content\n",
    "\n",
    "# Write the csv (uncomment when data is available)\n",
    "#csv_utils.write_csv(bgt_data_file, bgt_point_objects_csv, csv_headers)"
   ]
  }
 ],
 "metadata": {
  "kernelspec": {
   "display_name": "Python 3 (ipykernel)",
   "language": "python",
   "name": "python3"
  },
  "language_info": {
   "codemirror_mode": {
    "name": "ipython",
    "version": 3
   },
   "file_extension": ".py",
   "mimetype": "text/x-python",
   "name": "python",
   "nbconvert_exporter": "python",
   "pygments_lexer": "ipython3",
   "version": "3.8.12"
  }
 },
 "nbformat": 4,
 "nbformat_minor": 5
}
