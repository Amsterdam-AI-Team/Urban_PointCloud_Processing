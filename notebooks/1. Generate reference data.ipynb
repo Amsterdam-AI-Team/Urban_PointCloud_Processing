{
 "cells": [
  {
   "cell_type": "markdown",
   "id": "beginning-webcam",
   "metadata": {},
   "source": [
    "# Scrape and parse reference data from public data sources\n",
    "This notebook scrapes data from the Amsterdam BGT API and National Road Traffic Data Portal\n",
    "(NDW). The documentation of both data sources can be found at:\n",
    "- https://www.amsterdam.nl/stelselpedia/bgt-index/producten-bgt/prodspec-bgt-dgn-imgeo/\n",
    "- https://docs.ndw.nu/api/trafficsigns/nl/index.html"
   ]
  },
  {
   "cell_type": "code",
   "execution_count": null,
   "id": "productive-median",
   "metadata": {},
   "outputs": [],
   "source": [
    "# Add project src to path.\n",
    "import set_path\n",
    "\n",
    "import src.scrapers.ams_bgt_scraper as ams_bgt_scraper\n",
    "import src.scrapers.ndw_scraper as ndw_scraper\n",
    "import src.utils.las_utils as las_utils\n",
    "import src.utils.csv_utils as csv_utils"
   ]
  },
  {
   "cell_type": "markdown",
   "id": "capital-employee",
   "metadata": {},
   "source": [
    "## Specify the bounding box of the area we want to scrape"
   ]
  },
  {
   "cell_type": "code",
   "execution_count": null,
   "id": "consecutive-latvia",
   "metadata": {},
   "outputs": [],
   "source": [
    "# Single file\n",
    "tilecode = '2386_9702'\n",
    "bbox = las_utils.get_bbox_from_tile_code(tilecode)"
   ]
  },
  {
   "cell_type": "code",
   "execution_count": null,
   "id": "arranged-crossing",
   "metadata": {},
   "outputs": [],
   "source": [
    "# All files in a folder\n",
    "bbox = las_utils.get_bbox_from_las_folder('../datasets/pointcloud/', padding=10)"
   ]
  },
  {
   "cell_type": "markdown",
   "id": "confident-hammer",
   "metadata": {},
   "source": [
    "## Scrape building footprint data from BGT"
   ]
  },
  {
   "cell_type": "code",
   "execution_count": null,
   "id": "duplicate-landscape",
   "metadata": {},
   "outputs": [],
   "source": [
    "# Output file for the BGT fuser.\n",
    "bgt_data_file = '../datasets/bgt/bgt_buildings_demo.csv'\n",
    "csv_headers = ['building_id', 'polygon', 'x_min', 'y_max', 'x_max',\n",
    "               'y_min']"
   ]
  },
  {
   "cell_type": "code",
   "execution_count": null,
   "id": "tough-bradford",
   "metadata": {},
   "outputs": [],
   "source": [
    "# Scrape data from the Amsterdam WFS, this will return a json response.\n",
    "json_response = ams_bgt_scraper.scrape_amsterdam_bgt('BGT_PND_pand', bbox=bbox)\n",
    "\n",
    "# Parse the downloaded json response.\n",
    "parsed_content = ams_bgt_scraper.parse_buildings(json_response, prepare_csv=True)\n",
    "\n",
    "# Write the csv\n",
    "csv_utils.write_csv(bgt_data_file, parsed_content, csv_headers)"
   ]
  },
  {
   "cell_type": "markdown",
   "id": "dietary-wildlife",
   "metadata": {},
   "source": [
    "## Scrape road information from BGT"
   ]
  },
  {
   "cell_type": "code",
   "execution_count": null,
   "id": "handmade-therapist",
   "metadata": {},
   "outputs": [],
   "source": [
    "# Output file for the BGT fuser.\n",
    "bgt_data_file = '../datasets/bgt/bgt_roads_demo.csv'\n",
    "csv_headers = ['bgt_name', 'polygon', 'x_min', 'y_max', 'x_max',\n",
    "               'y_min']\n",
    "    \n",
    "# Road and parking spots layers in BGT\n",
    "bgt_layers = ['BGT_WGL_rijbaan_lokale_weg', 'BGT_WGL_parkeervlak',\n",
    "              'BGT_WGL_rijbaan_autoweg', 'BGT_WGL_rijbaan_autosnelweg',\n",
    "              'BGT_WGL_rijbaan_regionale_weg', 'BGT_WGL_ov-baan']"
   ]
  },
  {
   "cell_type": "code",
   "execution_count": null,
   "id": "mature-chess",
   "metadata": {},
   "outputs": [],
   "source": [
    "# Scrape data from the Amsterdam WFS and parse the json.\n",
    "bgt_road_polygons_csv = []\n",
    "for layer in bgt_layers:\n",
    "    # Scrape data from the Amsterdam WFS, this will return a json response.\n",
    "    json_content = ams_bgt_scraper.scrape_amsterdam_bgt(layer, bbox=bbox)\n",
    "    \n",
    "    # Parse the downloaded json response.\n",
    "    parsed_content = ams_bgt_scraper.parse_polygons(json_content, prepare_csv=True)\n",
    "    bgt_road_polygons_csv += parsed_content\n",
    "\n",
    "# Write the csv\n",
    "csv_utils.write_csv(bgt_data_file, bgt_road_polygons_csv, csv_headers)"
   ]
  },
  {
   "cell_type": "markdown",
   "id": "opened-estate",
   "metadata": {},
   "source": [
    "## Scrape pole-like objects from BGT and NDW"
   ]
  },
  {
   "cell_type": "code",
   "execution_count": null,
   "id": "federal-negotiation",
   "metadata": {},
   "outputs": [],
   "source": [
    "# Output file for the BGT fuser.\n",
    "bgt_data_file = '../datasets/bgt/custom_points_demo.csv'\n",
    "csv_headers = ['Type', 'X', 'Y']"
   ]
  },
  {
   "cell_type": "code",
   "execution_count": null,
   "id": "instant-substitute",
   "metadata": {},
   "outputs": [],
   "source": [
    "# Scrape tree and lamp post data from BGT and parse the json.\n",
    "bgt_point_objects_csv = []\n",
    "for layer in ['BGTPLUS_PAL_lichtmast', 'BGTPLUS_VGT_boom']:\n",
    "    # Scrape data from the Amsterdam WFS, this will return a json response.\n",
    "    json_content = ams_bgt_scraper.scrape_amsterdam_bgt(layer, bbox=bbox)\n",
    "    \n",
    "    # Parse the downloaded json response.\n",
    "    parsed_content = ams_bgt_scraper.parse_points_bgtplus(json_content)\n",
    "    bgt_point_objects_csv += parsed_content\n",
    "\n",
    "# Scrape traffic sign data from NDW and parse the json.\n",
    "json_content = ndw_scraper.scrape_ndw()\n",
    "\n",
    "# Parse the downloaded json response.\n",
    "parsed_content = ndw_scraper.parse_traffic_signs(json_content, bbox)\n",
    "bgt_point_objects_csv += parsed_content\n",
    "\n",
    "# Write the csv\n",
    "csv_utils.write_csv(bgt_data_file, bgt_point_objects_csv, csv_headers)"
   ]
  }
 ],
 "metadata": {
  "kernelspec": {
   "display_name": "Python 3",
   "language": "python",
   "name": "python3"
  },
  "language_info": {
   "codemirror_mode": {
    "name": "ipython",
    "version": 3
   },
   "file_extension": ".py",
   "mimetype": "text/x-python",
   "name": "python",
   "nbconvert_exporter": "python",
   "pygments_lexer": "ipython3",
   "version": "3.8.5"
  }
 },
 "nbformat": 4,
 "nbformat_minor": 5
}
