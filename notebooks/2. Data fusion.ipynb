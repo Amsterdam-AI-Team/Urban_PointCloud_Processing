{
 "cells": [
  {
   "cell_type": "markdown",
   "id": "1077e83e-756f-40aa-b041-c811f0f52ae7",
   "metadata": {},
   "source": [
    "# Automatic labelling of ground and buildings using data fusion\n",
    "\n",
    "We build a `FusionPipeline` with different `DataFusers`, each of which labels a particular type of object. The result is a labelled pointcloud, where labels are stored in the LAS extra_dim `label`.\n",
    "\n",
    "There are different types of data fusers available:\n",
    "- `AHNFuser(..., method='npz')`: use pre-processed AHN data to label ground and building points\n",
    "- `AHNFuser(..., method='geotiff')`: use GeoTIFF data to label only ground points.\n",
    "\n",
    "The `FusionPipeline` supports processing a single file, or batch-processing a folder."
   ]
  },
  {
   "cell_type": "code",
   "execution_count": null,
   "id": "c4489f95-98a5-4ed2-87e7-36a0554960a2",
   "metadata": {},
   "outputs": [],
   "source": [
    "# Add project src to path.\n",
    "import set_path\n",
    "\n",
    "# Import modules.\n",
    "import time\n",
    "\n",
    "import src.fusion as fusion\n",
    "import src.utils.ahn_utils as ahn_utils\n",
    "from src.utils.labels import Labels"
   ]
  },
  {
   "cell_type": "markdown",
   "id": "03d5299a-1ac2-4a63-949a-ff1ce2b77eb2",
   "metadata": {},
   "source": [
    "### Using pre-processed AHN data\n",
    "\n",
    "Prepare data following notebook [1. AHN preprocessing](1.%20AHN%20preprocessing.ipynb)."
   ]
  },
  {
   "cell_type": "code",
   "execution_count": null,
   "id": "92102ce0-e172-4ac0-8b2d-53540df41acc",
   "metadata": {},
   "outputs": [],
   "source": [
    "# Data folder for the fusers.\n",
    "ahn_data_folder = '../datasets/ahn/'\n",
    "\n",
    "# Ground fuser using pre-processed AHN data.\n",
    "npz_ground_fuser = fusion.AHNFuser(Labels.GROUND, ahn_data_folder,\n",
    "                                   method='npz', target='ground', epsilon=0.2)\n",
    "# Building fuser using pre-processed AHN data.\n",
    "npz_building_fuser = fusion.AHNFuser(Labels.BUILDING, ahn_data_folder,\n",
    "                                     method='npz', target='building', epsilon=0.2)\n",
    "\n",
    "# Set-up pipeline.\n",
    "fusers = (npz_ground_fuser, npz_building_fuser)\n",
    "#fusers = (npz_ground_fuser,)\n",
    "pipeline = fusion.FusionPipeline(fusers)"
   ]
  },
  {
   "cell_type": "markdown",
   "id": "ff3cc8fa-6017-4e03-a005-2879a48bf906",
   "metadata": {},
   "source": [
    "### Using GeoTIFF data\n",
    "\n",
    "First, download the required GeoTIFF tile(s). E.g. for our demo point cloud, this is:\n",
    "```sh\n",
    "mkdir -p datasets/ahn\n",
    "cd datasets/ahn/\n",
    "wget https://download.pdok.nl/rws/ahn3/v1_0/05m_dtm/M_25DN2.ZIP\n",
    "unzip M_25DN2.ZIP\n",
    "rm M_25DN2.ZIP\n",
    "```\n",
    "Run the following cell to do this automatically."
   ]
  },
  {
   "cell_type": "code",
   "execution_count": null,
   "id": "25c95221-cb2f-4383-b3ff-d85858529edb",
   "metadata": {},
   "outputs": [],
   "source": [
    "!mkdir -p ../datasets/ahn\n",
    "!wget https://download.pdok.nl/rws/ahn3/v1_0/05m_dtm/M_25DN2.ZIP -P ../datasets/ahn/\n",
    "!unzip ../datasets/ahn/M_25DN2.ZIP -d ../datasets/ahn/\n",
    "!rm ../datasets/ahn/M_25DN2.ZIP"
   ]
  },
  {
   "cell_type": "code",
   "execution_count": null,
   "id": "a3ccb183-9229-4dd2-a0a6-e05a7697ee78",
   "metadata": {},
   "outputs": [],
   "source": [
    "# Data folder for the fusers.\n",
    "ahn_data_folder = '../datasets/ahn/'\n",
    "\n",
    "# Ground fuser using AHN GeoTIFF data.\n",
    "geotiff_ground_fuser = fusion.AHNFuser(Labels.GROUND, ahn_data_folder,\n",
    "                                       method='geotiff', target='ground', epsilon=0.2,\n",
    "                                       fill_gaps=True, max_gap_size=100,\n",
    "                                       smoothen=True, smooth_thickness=2)\n",
    "\n",
    "# Set-up pipeline.\n",
    "fusers = (geotiff_ground_fuser,)\n",
    "pipeline = fusion.FusionPipeline(fusers)"
   ]
  },
  {
   "cell_type": "markdown",
   "id": "9b884b35-c805-4942-b903-58fc4d13ef24",
   "metadata": {},
   "source": [
    "## Process a single file"
   ]
  },
  {
   "cell_type": "code",
   "execution_count": null,
   "id": "d1b2de65-52e9-4bf0-b824-fa639485c82c",
   "metadata": {},
   "outputs": [],
   "source": [
    "# Select the file to process. The outfile can be set to 'None' to overwrite the file.\n",
    "filename = '../datasets/pointcloud/filtered_2386_9702.laz'\n",
    "outfile = '../datasets/pointcloud/labelled_2386_9702.laz'\n",
    "\n",
    "# Process the file.\n",
    "start = time.time()\n",
    "pipeline.process_file(filename, outfile=outfile)\n",
    "end = time.time()\n",
    "print(f'Tile labelled in {end-start:.2f} seconds.')"
   ]
  },
  {
   "cell_type": "markdown",
   "id": "c57e2e7a-a63d-4dfa-83b2-2f825096bcf9",
   "metadata": {},
   "source": [
    "## Process a folder"
   ]
  },
  {
   "cell_type": "code",
   "execution_count": null,
   "id": "9bea136b-8f9b-4335-871a-a106f93a1c55",
   "metadata": {},
   "outputs": [],
   "source": [
    "# Select the folder to process. \n",
    "in_folder = '../datasets/pointcloud/'\n",
    "# Output folder. 'None' uses the input folder.\n",
    "out_folder = None\n",
    "# Suffix to add to the filename of processed files. An empty string indicates \n",
    "# that the same filename is kept; when out_folder=None this means overwriting.\n",
    "suffix = '_labelled'\n",
    "\n",
    "# Process the folder.\n",
    "pipeline.process_folder(in_folder, out_folder=out_folder, suffix=suffix)"
   ]
  }
 ],
 "metadata": {
  "kernelspec": {
   "display_name": "Python 3",
   "language": "python",
   "name": "python3"
  },
  "language_info": {
   "codemirror_mode": {
    "name": "ipython",
    "version": 3
   },
   "file_extension": ".py",
   "mimetype": "text/x-python",
   "name": "python",
   "nbconvert_exporter": "python",
   "pygments_lexer": "ipython3",
   "version": "3.7.10"
  }
 },
 "nbformat": 4,
 "nbformat_minor": 5
}
