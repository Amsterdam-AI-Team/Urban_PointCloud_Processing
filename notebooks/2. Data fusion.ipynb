{
 "cells": [
  {
   "cell_type": "markdown",
   "id": "1077e83e-756f-40aa-b041-c811f0f52ae7",
   "metadata": {},
   "source": [
    "# Automatic labelling of ground and buildings using data fusion\n",
    "\n",
    "We build a `FusionPipeline` with different `DataFusers`, each of which labels a particular type of object. The result is a labelled pointcloud, where labels are stored in the LAS extra_dim `label`.\n",
    "\n",
    "There are different types of data fusers available:\n",
    "- `AHNFuser(..., method='npz')`: use pre-processed AHN data to label ground and building points\n",
    "- `AHNFuser(..., method='geotiff')`: use GeoTIFF data to label only ground points.\n",
    "\n",
    "The `FusionPipeline` supports processing a single file, or batch-processing a folder."
   ]
  },
  {
   "cell_type": "code",
   "execution_count": null,
   "id": "c4489f95-98a5-4ed2-87e7-36a0554960a2",
   "metadata": {},
   "outputs": [],
   "source": [
    "# Add project src to path.\n",
    "import set_path\n",
    "\n",
    "# Import modules.\n",
    "import time\n",
    "\n",
    "import src.fusion as fusion\n",
    "from src.utils.labels import Labels"
   ]
  },
  {
   "cell_type": "code",
   "execution_count": null,
   "id": "92102ce0-e172-4ac0-8b2d-53540df41acc",
   "metadata": {},
   "outputs": [],
   "source": [
    "# Data folder for the fusers.\n",
    "ahn_data_folder = '../datasets/ahn/'\n",
    "\n",
    "# Ground fuser using pre-processed AHN data.\n",
    "ground_fuser = fusion.AHNFuser(Labels.GROUND, ahn_data_folder, method='npz', target='ground', epsilon=0.2)\n",
    "# Building fuser using pre-processed AHN data.\n",
    "building_fuser = fusion.AHNFuser(Labels.BUILDING, ahn_data_folder, method='npz', target='building', epsilon=0.2)\n",
    "\n",
    "# Set-up pipeline.\n",
    "fusers = (ground_fuser, building_fuser)\n",
    "pipeline = fusion.FusionPipeline(fusers)"
   ]
  },
  {
   "cell_type": "markdown",
   "id": "9b884b35-c805-4942-b903-58fc4d13ef24",
   "metadata": {},
   "source": [
    "## Process a single file"
   ]
  },
  {
   "cell_type": "code",
   "execution_count": null,
   "id": "d1b2de65-52e9-4bf0-b824-fa639485c82c",
   "metadata": {},
   "outputs": [],
   "source": [
    "# Select the file to process. The outfile can be set to 'None' to overwrite the file.\n",
    "filename = '../datasets/pointcloud/filtered_2386_9702.laz'\n",
    "outfile = '../datasets/pointcloud/labelled_2386_9702.laz'\n",
    "\n",
    "# Process the file.\n",
    "start = time.time()\n",
    "pipeline.process_file(filename, outfile=outfile)\n",
    "end = time.time()\n",
    "print(f'Tile labelled in {end-start:.2f} seconds.')"
   ]
  },
  {
   "cell_type": "markdown",
   "id": "c57e2e7a-a63d-4dfa-83b2-2f825096bcf9",
   "metadata": {},
   "source": [
    "## Process a folder"
   ]
  },
  {
   "cell_type": "code",
   "execution_count": null,
   "id": "9bea136b-8f9b-4335-871a-a106f93a1c55",
   "metadata": {},
   "outputs": [],
   "source": [
    "# Select the folder to process. \n",
    "in_folder = '../datasets/pointcloud/'\n",
    "# Output folder. 'None' uses the input folder.\n",
    "out_folder = None\n",
    "# Suffix to add to the filename of processed files. An empty string indicates \n",
    "# that the same filename is kept; when out_folder=None this means overwriting.\n",
    "suffix = '_labelled'\n",
    "\n",
    "# Process the folder.\n",
    "pipeline.process_folder(in_folder, out_folder=out_folder, suffix=suffix)"
   ]
  }
 ],
 "metadata": {
  "kernelspec": {
   "display_name": "Python 3",
   "language": "python",
   "name": "python3"
  },
  "language_info": {
   "codemirror_mode": {
    "name": "ipython",
    "version": 3
   },
   "file_extension": ".py",
   "mimetype": "text/x-python",
   "name": "python",
   "nbconvert_exporter": "python",
   "pygments_lexer": "ipython3",
   "version": "3.7.10"
  }
 },
 "nbformat": 4,
 "nbformat_minor": 5
}
