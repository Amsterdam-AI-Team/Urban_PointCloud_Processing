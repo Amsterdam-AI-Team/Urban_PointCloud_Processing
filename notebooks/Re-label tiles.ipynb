{
 "cells": [
  {
   "cell_type": "markdown",
   "id": "110a40cb-d124-46ba-9279-ca3e9ede55b9",
   "metadata": {},
   "source": [
    "# Re-label tiles\n",
    "Re-label tiles that were labelled with v0.1 of UPCP to teh new label definitions."
   ]
  },
  {
   "cell_type": "code",
   "execution_count": null,
   "id": "992c89d9-0285-4310-95a2-98719becf1bc",
   "metadata": {
    "tags": []
   },
   "outputs": [],
   "source": [
    "# Uncomment to load the local package rather than the pip-installed version.\n",
    "# Add project src to path.\n",
    "import set_path"
   ]
  },
  {
   "cell_type": "code",
   "execution_count": null,
   "id": "f3c267c0-a06f-4540-8451-07df6262dba3",
   "metadata": {
    "tags": []
   },
   "outputs": [],
   "source": [
    "import numpy as np\n",
    "import laspy\n",
    "from tqdm.notebook import tqdm\n",
    "\n",
    "from upcp.utils import las_utils\n",
    "from upcp.labels import Labels"
   ]
  },
  {
   "cell_type": "code",
   "execution_count": null,
   "id": "41bf772b-1d21-4639-b2c0-eb119598b265",
   "metadata": {
    "tags": []
   },
   "outputs": [],
   "source": [
    "# Input\n",
    "las_folder_in = '../datasets/pointcloud/'\n",
    "las_prefix_in = 'processed'\n",
    "# Output. Will overwrite files if out is the same as in.\n",
    "las_folder_out = '../datasets/pointcloud/'\n",
    "las_prefix_out = 'relabelled'"
   ]
  },
  {
   "cell_type": "code",
   "execution_count": null,
   "id": "3a730fe1-e589-49b5-b70d-9245c090c2c4",
   "metadata": {
    "tags": []
   },
   "outputs": [],
   "source": [
    "# Choose tile to convert.\n",
    "tilecodes = ['2386_9702']"
   ]
  },
  {
   "cell_type": "code",
   "execution_count": null,
   "id": "1a45d2e4-5be8-4cc4-861f-c8c2ffcef716",
   "metadata": {
    "tags": []
   },
   "outputs": [],
   "source": [
    "# Or: convert all tiles in given folder.\n",
    "tilecodes = list(las_utils.get_tilecodes_from_folder(las_folder_in, las_prefix_in))"
   ]
  },
  {
   "cell_type": "code",
   "execution_count": null,
   "id": "dae9231c-5cdc-464b-a82f-a92badb856b9",
   "metadata": {
    "tags": []
   },
   "outputs": [],
   "source": [
    "tile_tqdm = tqdm(tilecodes, unit='tile', smoothing=0)\n",
    "\n",
    "mapping = Labels.OLD_TO_NEW\n",
    "\n",
    "# From https://stackoverflow.com/a/55950051\n",
    "# Assumes non-negative class labels.\n",
    "k = np.array(list(mapping.keys()))\n",
    "v = np.array(list(mapping.values()))\n",
    "mapping_ar = np.zeros(k.max()+1, dtype=v.dtype)\n",
    "mapping_ar[k] = v\n",
    "\n",
    "for tilecode in tile_tqdm:\n",
    "    tile_tqdm.set_postfix_str(tilecode)\n",
    "    in_file = f'{las_folder_in}{las_prefix_in}_{tilecode}.laz'\n",
    "    out_file = f'{las_folder_out}{las_prefix_out}_{tilecode}.laz'\n",
    "    \n",
    "    las = laspy.read(in_file)\n",
    "    input_arr = las.label\n",
    "    las.label = mapping_ar[las.label]\n",
    "    las.write(out_file)"
   ]
  },
  {
   "cell_type": "code",
   "execution_count": null,
   "id": "b838e254-8237-4edb-b6ea-54f363bb09cb",
   "metadata": {},
   "outputs": [],
   "source": []
  }
 ],
 "metadata": {
  "kernelspec": {
   "display_name": "Python 3 (ipykernel)",
   "language": "python",
   "name": "python3"
  },
  "language_info": {
   "codemirror_mode": {
    "name": "ipython",
    "version": 3
   },
   "file_extension": ".py",
   "mimetype": "text/x-python",
   "name": "python",
   "nbconvert_exporter": "python",
   "pygments_lexer": "ipython3",
   "version": "3.10.9"
  }
 },
 "nbformat": 4,
 "nbformat_minor": 5
}
