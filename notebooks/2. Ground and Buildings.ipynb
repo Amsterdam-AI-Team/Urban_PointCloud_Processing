{
 "cells": [
  {
   "cell_type": "markdown",
   "id": "1077e83e-756f-40aa-b041-c811f0f52ae7",
   "metadata": {},
   "source": [
    "# Automatic labelling of ground and buildings using data fusion\n",
    "\n",
    "We have several options available to label ground and buildings:\n",
    "\n",
    "* Using pre-processed AHN point clouds for ground and buildings.\n",
    "* Using AHN GeoTIFF data for ground.\n",
    "* Using BGT data for buidings (possibly combined with AHN)."
   ]
  },
  {
   "cell_type": "code",
   "execution_count": null,
   "id": "c4489f95-98a5-4ed2-87e7-36a0554960a2",
   "metadata": {},
   "outputs": [],
   "source": [
    "# Add project src to path.\n",
    "import set_path\n",
    "\n",
    "# Import modules.\n",
    "import logging\n",
    "\n",
    "import src.fusion as fusion\n",
    "from src.pipeline import Pipeline\n",
    "import src.region_growing as growing\n",
    "import src.utils.ahn_utils as ahn_utils\n",
    "import src.utils.las_utils as las_utils\n",
    "import src.utils.log_utils as log_utils\n",
    "import src.utils.csv_utils as csv_utils\n",
    "from src.labels import Labels\n",
    "\n",
    "# INFO messages will be printed to console.\n",
    "log_utils.reset_logger()\n",
    "log_utils.add_console_logger(level=logging.DEBUG)"
   ]
  },
  {
   "cell_type": "markdown",
   "id": "03d5299a-1ac2-4a63-949a-ff1ce2b77eb2",
   "metadata": {},
   "source": [
    "### Ground and building fuser using pre-processed AHN data\n",
    "\n",
    "Prepare data following notebook [1. AHN preprocessing](1.%20AHN%20preprocessing.ipynb)."
   ]
  },
  {
   "cell_type": "code",
   "execution_count": null,
   "id": "92102ce0-e172-4ac0-8b2d-53540df41acc",
   "metadata": {},
   "outputs": [],
   "source": [
    "# Data folder and file for the fusers.\n",
    "ahn_data_folder = '../datasets/ahn/'\n",
    "bgt_data_file = '../datasets/bgt/bgt_buildings_demo.csv'\n",
    "\n",
    "# Create the reader for .npz data.\n",
    "npz_reader = ahn_utils.NPZReader(ahn_data_folder)\n",
    "\n",
    "# Ground fuser using pre-processed AHN data.\n",
    "npz_ground_fuser = fusion.AHNFuser(Labels.GROUND, ahn_data_folder, ahn_reader=npz_reader,\n",
    "                                   target='ground', epsilon=0.2)\n",
    "# Building fuser using pre-processed AHN data.\n",
    "npz_building_fuser = fusion.AHNFuser(Labels.BUILDING, ahn_data_folder, ahn_reader=npz_reader,\n",
    "                                     target='building', epsilon=0.2)"
   ]
  },
  {
   "cell_type": "markdown",
   "id": "ff3cc8fa-6017-4e03-a005-2879a48bf906",
   "metadata": {},
   "source": [
    "### [Alternative] Ground fuser using GeoTIFF data\n",
    "\n",
    "First, download the required GeoTIFF tile(s). E.g. for our demo point cloud, this is:\n",
    "```sh\n",
    "mkdir -p datasets/ahn\n",
    "cd datasets/ahn/\n",
    "wget https://download.pdok.nl/rws/ahn3/v1_0/05m_dtm/M_25DN2.ZIP\n",
    "unzip M_25DN2.ZIP\n",
    "rm M_25DN2.ZIP\n",
    "```\n",
    "Run the following cell to do this automatically."
   ]
  },
  {
   "cell_type": "code",
   "execution_count": null,
   "id": "25c95221-cb2f-4383-b3ff-d85858529edb",
   "metadata": {},
   "outputs": [],
   "source": [
    "!mkdir -p ../datasets/ahn\n",
    "!wget https://download.pdok.nl/rws/ahn3/v1_0/05m_dtm/M_25DN2.ZIP -P ../datasets/ahn/\n",
    "!unzip ../datasets/ahn/M_25DN2.ZIP -d ../datasets/ahn/\n",
    "!rm ../datasets/ahn/M_25DN2.ZIP"
   ]
  },
  {
   "cell_type": "code",
   "execution_count": null,
   "id": "a3ccb183-9229-4dd2-a0a6-e05a7697ee78",
   "metadata": {},
   "outputs": [],
   "source": [
    "# Data folder for the AHN fuser.\n",
    "ahn_data_folder = '../datasets/ahn/'\n",
    "\n",
    "# Create the reader for GeoTIFF data. See the class documentation for details on filling gaps and smoothening.\n",
    "geotiff_reader = ahn_utils.GeoTIFFReader(ahn_data_folder,\n",
    "                                         fill_gaps=True, max_gap_size=100,\n",
    "                                         smoothen=True, smooth_thickness=2)\n",
    "\n",
    "# Ground fuser using AHN GeoTIFF data.\n",
    "geotiff_ground_fuser = fusion.AHNFuser(Labels.GROUND, ahn_data_folder, ahn_reader=geotiff_reader,\n",
    "                                       target='ground', epsilon=0.2)"
   ]
  },
  {
   "cell_type": "markdown",
   "id": "fleet-methodology",
   "metadata": {},
   "source": [
    "### [Alternative] Building fuser using BGT data\n",
    "First, download and parse the required BGT data in notebook [1. Generate reference data](1.%20Generate%20reference%20data.ipynb). "
   ]
  },
  {
   "cell_type": "code",
   "execution_count": null,
   "id": "caring-bryan",
   "metadata": {},
   "outputs": [],
   "source": [
    "# Building fuser using BGT building footprint data.\n",
    "bgt_building_fuser = fusion.BGTBuildingFuser(Labels.BUILDING, bgt_file=bgt_data_file, building_offset=1)"
   ]
  },
  {
   "cell_type": "markdown",
   "id": "df9bf256-a553-4f8c-8afe-e4f69e5a3472",
   "metadata": {},
   "source": [
    "### [Alternative] Building fuser using both BGT and AHN data\n",
    "In this case, BGT will be used to define the <x, y> boundaries using the footprint polygon, and AHN data will be used to define the height <z> boundary."
   ]
  },
  {
   "cell_type": "code",
   "execution_count": null,
   "id": "ac63d273-f00c-4ff1-bcd0-9f1d14aeeacf",
   "metadata": {},
   "outputs": [],
   "source": [
    "# Note: this only works with .npz (pre-processed) AHN data, since GeoTIFF does not contain building data.\n",
    "bgt_ahn_building_fuser = fusion.BGTBuildingFuser(Labels.BUILDING, bgt_file=bgt_data_file, \n",
    "                                                 building_offset=0.25, ahn_reader=npz_reader)"
   ]
  },
  {
   "cell_type": "markdown",
   "id": "bc1a861f-a2fb-47e0-8d7e-6f7b56b10607",
   "metadata": {
    "tags": []
   },
   "source": [
    "### Region Growing\n",
    "\n",
    "We use region growing to refine the buildings. This will make sure that protruding elements such as balconies are labelled correctly. For details and other options see notebook [Region growing](Region%20growing.ipynb)."
   ]
  },
  {
   "cell_type": "code",
   "execution_count": null,
   "id": "daf7d638-e3d5-42f2-b2fd-4fbc1c7b2721",
   "metadata": {
    "tags": []
   },
   "outputs": [],
   "source": [
    "# We do this separately for the top and bottom since the best settings for each might differ.\n",
    "building_top = {'bottom': 12., 'grid_size': 0.1, 'threshold': 0.5}\n",
    "building_bottom = {'bottom': 0.5, 'top': 12., 'grid_size': 0.05, 'threshold': 0.5}\n",
    "\n",
    "building_grower = growing.LayerLCC(Labels.BUILDING, npz_reader, \n",
    "                                   params=[building_top, building_bottom])\n",
    "\n",
    "geotiff_building_grower = growing.LayerLCC(Labels.BUILDING, geotiff_reader, \n",
    "                                           params=[building_top, building_bottom])"
   ]
  },
  {
   "cell_type": "markdown",
   "id": "de4fc39f-fd03-47a9-9269-c88706abd5f3",
   "metadata": {},
   "source": [
    "## Process point clouds and save the results\n",
    "\n",
    "The FusionPipeline can now be used to process point clouds. Labels will be written to the LAS file as a new _extended field_ called _label_."
   ]
  },
  {
   "cell_type": "code",
   "execution_count": null,
   "id": "c679f625",
   "metadata": {},
   "outputs": [],
   "source": [
    "# Set-up full AHN pipeline.\n",
    "process_sequence = (npz_ground_fuser, npz_building_fuser, building_grower)\n",
    "pipeline = Pipeline(processors=process_sequence, caching=False)"
   ]
  },
  {
   "cell_type": "code",
   "execution_count": null,
   "id": "2eab2053",
   "metadata": {},
   "outputs": [],
   "source": [
    "# ALTERNATIVE: Set-up AHN GeoTIFF + BGT pipeline.\n",
    "process_sequence = (geotiff_ground_fuser, bgt_building_fuser, geotiff_building_grower)\n",
    "pipeline = Pipeline(processors=process_sequence, caching=False)"
   ]
  },
  {
   "cell_type": "code",
   "execution_count": null,
   "id": "26876fa2-76b5-4c76-94e0-b1aee7de8873",
   "metadata": {},
   "outputs": [],
   "source": [
    "# BEST OPTION: Set-up AHN + BGT pipeline.\n",
    "process_sequence = (npz_ground_fuser, bgt_ahn_building_fuser, building_grower)\n",
    "pipeline = Pipeline(processors=process_sequence, caching=False)"
   ]
  },
  {
   "cell_type": "markdown",
   "id": "69b5febb",
   "metadata": {},
   "source": [
    "### Process a single file"
   ]
  },
  {
   "cell_type": "code",
   "execution_count": null,
   "id": "d1b2de65-52e9-4bf0-b824-fa639485c82c",
   "metadata": {},
   "outputs": [],
   "source": [
    "# Select the file to process. The outfile can be set to 'None' to overwrite the file.\n",
    "tilecode = '2386_9702'\n",
    "\n",
    "in_file = '../datasets/pointcloud/filtered_' + tilecode + '.laz'\n",
    "out_file = '../datasets/pointcloud/labelled_' + tilecode + '.laz'\n",
    "\n",
    "# Process the file.\n",
    "pipeline.process_file(in_file, out_file=out_file)"
   ]
  },
  {
   "cell_type": "code",
   "execution_count": null,
   "id": "649c759e-d645-4c34-959a-a89c395668a3",
   "metadata": {},
   "outputs": [],
   "source": []
  }
 ],
 "metadata": {
  "kernelspec": {
   "display_name": "Python 3",
   "language": "python",
   "name": "python3"
  },
  "language_info": {
   "codemirror_mode": {
    "name": "ipython",
    "version": 3
   },
   "file_extension": ".py",
   "mimetype": "text/x-python",
   "name": "python",
   "nbconvert_exporter": "python",
   "pygments_lexer": "ipython3",
   "version": "3.7.10"
  }
 },
 "nbformat": 4,
 "nbformat_minor": 5
}
