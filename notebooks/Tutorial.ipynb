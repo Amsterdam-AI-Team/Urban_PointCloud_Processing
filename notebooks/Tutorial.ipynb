{
 "cells": [
  {
   "cell_type": "markdown",
   "id": "f6ce9fc9-dd10-4725-8dc3-d363f4b3ef74",
   "metadata": {},
   "source": [
    "# Urban PointCloud Processing\n",
    "\n",
    "This notebook provides a brief tutorial to the various tools available in this repository. More detailed examples are provided in separate notebooks."
   ]
  },
  {
   "cell_type": "code",
   "execution_count": null,
   "id": "ac229113-5968-4f88-a818-38fa0a297f78",
   "metadata": {},
   "outputs": [],
   "source": []
  }
 ],
 "metadata": {
  "kernelspec": {
   "display_name": "Python 3",
   "language": "python",
   "name": "python3"
  },
  "language_info": {
   "codemirror_mode": {
    "name": "ipython",
    "version": 3
   },
   "file_extension": ".py",
   "mimetype": "text/x-python",
   "name": "python",
   "nbconvert_exporter": "python",
   "pygments_lexer": "ipython3",
   "version": "3.7.10"
  }
 },
 "nbformat": 4,
 "nbformat_minor": 5
}
