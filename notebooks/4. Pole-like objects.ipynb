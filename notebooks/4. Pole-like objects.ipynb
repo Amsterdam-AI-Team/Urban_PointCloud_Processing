{
 "cells": [
  {
   "cell_type": "markdown",
   "id": "2372c54d-137c-4e32-89fc-3c334f26bc58",
   "metadata": {},
   "source": [
    "# Labelling of pole-like objects\n",
    "E.g. trees, street lights, traffic signs."
   ]
  },
  {
   "cell_type": "code",
   "execution_count": null,
   "id": "f538d8e7-f542-47cb-ab0a-1b40c6675a0c",
   "metadata": {},
   "outputs": [],
   "source": [
    "# Add project src to path.\n",
    "import set_path\n",
    "\n",
    "# Import modules.\n",
    "import numpy as np\n",
    "import time\n",
    "\n",
    "import src.fusion as fusion\n",
    "import src.scrapers.ams_bgt_scraper as ams_bgt_scraper\n",
    "import src.scrapers.ndw_scraper as ndw_scraper\n",
    "import src.region_growing as growing\n",
    "import src.utils.las_utils as las_utils\n",
    "import src.utils.csv_utils as csv_utils\n",
    "import src.utils.ahn_utils as ahn_utils\n",
    "from src.pipeline import Pipeline\n",
    "from src.utils.labels import Labels"
   ]
  },
  {
   "cell_type": "markdown",
   "id": "99c89a91-153d-4d34-985c-715b4eec9d63",
   "metadata": {},
   "source": [
    "## Set-up"
   ]
  },
  {
   "cell_type": "code",
   "execution_count": null,
   "id": "dcade098-c38f-4bae-a454-667d8596a417",
   "metadata": {},
   "outputs": [],
   "source": [
    "# Select the point cloud file to process.\n",
    "tilecode = '2386_9702'\n",
    "\n",
    "# We need elevation data to determine object height above ground.\n",
    "ahn_data_folder = '../datasets/ahn/'\n",
    "ahn_reader = ahn_utils.NPZReader(data_folder=ahn_data_folder)"
   ]
  },
  {
   "cell_type": "code",
   "execution_count": null,
   "id": "505e8c42-3352-4e6f-98a5-7e1d1f0ee8a1",
   "metadata": {},
   "outputs": [],
   "source": [
    "# Load a (partially labelled) LAS file, e.g. from the previous step.\n",
    "las_file = '../datasets/pointcloud/labelled_' + tilecode + '.laz'\n",
    "las = las_utils.read_las(las_file)\n",
    "\n",
    "labels = las.label\n",
    "points = np.vstack((las.x, las.y, las.z)).T"
   ]
  },
  {
   "cell_type": "markdown",
   "id": "aware-retirement",
   "metadata": {},
   "source": [
    "## Scrape point objects from BGT"
   ]
  },
  {
   "cell_type": "code",
   "execution_count": null,
   "id": "weird-workstation",
   "metadata": {
    "scrolled": true
   },
   "outputs": [],
   "source": [
    "# Specify the bounding box of the area we want to scrape.\n",
    "bbox = las_utils.get_bbox_from_tile_code(tilecode)\n",
    "\n",
    "# The corresponding BGT data file.\n",
    "bgt_data_file = '../datasets/bgt/custom_points_' + tilecode + '.csv'\n",
    "csv_headers = ['Type', 'X', 'Y']\n",
    "\n",
    "bgt_point_objects_csv = []\n",
    "# Scrape tree and lamp post data from BGT and parse the json.\n",
    "for layer in ['BGTPLUS_PAL_lichtmast', 'BGTPLUS_VGT_boom']:\n",
    "    # Scrape data from the Amsterdam WFS, this will return a json response.\n",
    "    json_content = ams_bgt_scraper.scrape_amsterdam_bgt(layer, bbox=bbox)\n",
    "    \n",
    "    # Parse the downloaded json response.\n",
    "    parsed_content = ams_bgt_scraper.parse_points_bgtplus(json_content)\n",
    "    bgt_point_objects_csv += parsed_content\n",
    "\n",
    "# Scrape traffic sign data from NDW and parse the json.\n",
    "json_content = ndw_scraper.scrape_ndw()\n",
    "\n",
    "# Parse the downloaded json response.\n",
    "parsed_content = ndw_scraper.parse_traffic_signs(json_content, bbox)\n",
    "bgt_point_objects_csv += parsed_content\n",
    "\n",
    "# Write the csv\n",
    "csv_utils.write_csv(bgt_data_file, bgt_point_objects_csv, csv_headers)"
   ]
  },
  {
   "cell_type": "markdown",
   "id": "4ca170e6-9d85-4552-b995-828120ef3dc7",
   "metadata": {},
   "source": [
    "## Match point objects with clusters\n",
    "\n",
    "First we try to match all objects in the BGT data with pole-like objects in the point cloud. We look for clusters of points with specific characteristics, such as a minimum height, density, and a maximum radius.\n",
    "\n",
    "We start with trees, since the location data for these is most precise (in Amsterdam)."
   ]
  },
  {
   "cell_type": "code",
   "execution_count": null,
   "id": "7293838a-be2f-47c8-98fc-0959ce9d8ee9",
   "metadata": {},
   "outputs": [],
   "source": [
    "# All possible parameters:\n",
    "# params = {'search_pad': 1.5,   # Specify the padding (in m) around the BGT object in which to search for a match in the point cloud.\n",
    "#           'max_dist': 1.2,     # Maximum distance (in m) between the expected location and the location of a potential match.\n",
    "#           'voxel_res': 0.2,    # Resolution of voxels used when searching for a match.\n",
    "#           'seed_height': 1.75, # Height above ground at which to determine object dimensions.\n",
    "#           'min_height': 2.,    # Minimum hieght for an object to be considered a match.\n",
    "#           'max_r': 0.5,        # Maximum radius for a pole-like object to be considered a match.\n",
    "#           'min_points': 500,   # Minimum number of points for a cluster to be considered.\n",
    "#           'z_min': 0.2,        # Height above ground, above which to search for objects.\n",
    "#           'z_max': 2.7,        # Height above ground, below which to search for objects.\n",
    "#           'r_mult': 1.5,       # Multiplier for radius when performing the initial (cylinder-based) labelling.\n",
    "#           'label_height': 4.}  # Maximum height for initial (cylinder-based) labelling.\n",
    "\n",
    "# Object type-specific parameters.\n",
    "tree_params = {'seed_height': 1.75, 'min_points': 500, 'max_r': 0.5, 'label_height': 5.}\n",
    "light_params = {'seed_height': 2.25, 'min_points': 400, 'max_r': 0.2, 'label_height': 5.}\n",
    "sign_params = {'seed_height': 1.75, 'min_points': 200, 'max_r': 0.2, 'min_height': 1.2, 'z_max': 2., 'label_height': 3.}\n",
    "\n",
    "# Create fusers for BGT point data.\n",
    "tree_fuser = fusion.BGTPointFuser(Labels.TREE, bgt_type='boom', bgt_file=bgt_data_file, ahn_reader=ahn_reader, params=tree_params)\n",
    "light_fuser = fusion.BGTPointFuser(Labels.STREET_LIGHT, bgt_type='lichtmast', bgt_file=bgt_data_file, ahn_reader=ahn_reader, params=light_params)\n",
    "sign_fuser = fusion.BGTPointFuser(Labels.TRAFFIC_SIGN, bgt_type='verkeersbord', bgt_file=bgt_data_file, ahn_reader=ahn_reader, params=sign_params)"
   ]
  },
  {
   "cell_type": "code",
   "execution_count": null,
   "id": "3da03370-80a6-43b2-941a-a9f7db038f86",
   "metadata": {},
   "outputs": [],
   "source": [
    "# Process the point cloud.\n",
    "exclude_labels = (Labels.GROUND, Labels.BUILDING, Labels.CAR)\n",
    "process_sequence = (tree_fuser, light_fuser, sign_fuser)\n",
    "pipeline = Pipeline(process_sequence, exclude_labels, caching=False)\n",
    "\n",
    "start = time.time()\n",
    "labels = pipeline.process_cloud(tilecode, points, labels)\n",
    "end = time.time()\n",
    "print(f'Fusion completed in {end-start:.2f} seconds.\\n')"
   ]
  },
  {
   "cell_type": "markdown",
   "id": "9ad1a048-6541-4df8-a009-18d77e4695d9",
   "metadata": {},
   "source": [
    "## Extend point objects using LCC region growing\n",
    "\n",
    "In the initial labelling phase we only labelled a cylinder-based region of the point cloud at the object's location.\n",
    "\n",
    "We now refine the initial label by adding connected components that overlap with the initial label. This is done in two parts: close to the ground we want to be more careful, since there might be more clutter; while higher above ground we want to label the complete object without missing any part. Therefore, we use different region growing parameters for the top and bottom part of the object.\n",
    "\n",
    "For more details on region growing, see notebook [5. Region growing](5.%20Region%20growing.ipynb)\n",
    "\n",
    "This time we process the trees last, since these are harder to get right."
   ]
  },
  {
   "cell_type": "code",
   "execution_count": null,
   "id": "9271db3b-aae4-4e1d-afeb-482184dfce39",
   "metadata": {},
   "outputs": [],
   "source": [
    "# Each layer has the following (default) parameters:\n",
    "# params = {'bottom': -inf,        # Height above ground at which the layer starts.\n",
    "#           'top': inf,            # Height above ground at which the layer stops.\n",
    "#           'octree_level': 9,     # Octree level for LCC method, higher means more fine-grained.\n",
    "#           'min_comp_size': 100,  # Minimum number of points for a component to be considered.\n",
    "#           'threshold': 0.5}      # Minimum fraction of points in a component that are already labelled initially for the component to be added.\n",
    "\n",
    "# Parameter settings for the different layers.\n",
    "light_top = {'bottom': 1.75, 'octree_level': 9, 'threshold': 0.05}\n",
    "light_bottom = {'top': 1.75, 'octree_level': 10, 'threshold': 0.5}\n",
    "\n",
    "sign_top = {'bottom': 1.5, 'octree_level': 9, 'threshold': 0.05}\n",
    "sign_bottom = {'top': 1.5, 'octree_level': 10, 'threshold': 0.5}\n",
    "\n",
    "tree_top = {'bottom': 1.75, 'octree_level': 9, 'threshold': 0.01}\n",
    "tree_bottom = {'top': 1.75, 'octree_level': 10, 'threshold': 0.8}\n",
    "\n",
    "# Create the region growing objects.\n",
    "light_grower = growing.LayerLCC(Labels.STREET_LIGHT, ahn_reader, \n",
    "                                params=[light_top, light_bottom])\n",
    "sign_grower = growing.LayerLCC(Labels.TRAFFIC_SIGN, ahn_reader, \n",
    "                               params=[sign_top, sign_bottom])\n",
    "tree_grower = growing.LayerLCC(Labels.TREE, ahn_reader, \n",
    "                               params=[tree_top, tree_bottom])"
   ]
  },
  {
   "cell_type": "code",
   "execution_count": null,
   "id": "09db94bd-b4b6-4082-ade4-b15834232492",
   "metadata": {},
   "outputs": [],
   "source": [
    "# Process the point cloud.\n",
    "exclude_labels = (Labels.GROUND, Labels.BUILDING, Labels.CAR, Labels.TREE, Labels.STREET_LIGHT, Labels.TRAFFIC_SIGN)\n",
    "process_sequence = (light_grower, sign_grower, tree_grower)\n",
    "pipeline = Pipeline(process_sequence, exclude_labels, caching=False)\n",
    "\n",
    "start = time.time()\n",
    "labels = pipeline.process_cloud(tilecode, points, labels)\n",
    "end = time.time()\n",
    "print(f'Region growing completed in {end-start:.2f} seconds.\\n')"
   ]
  },
  {
   "cell_type": "markdown",
   "id": "75d68680-387d-4dda-b47a-3d08516d6cfc",
   "metadata": {},
   "source": [
    "### Save LAS file"
   ]
  },
  {
   "cell_type": "code",
   "execution_count": null,
   "id": "e727bbb8-de66-432b-938a-5204ff0dd8a0",
   "metadata": {},
   "outputs": [],
   "source": [
    "# Save the result (this will overwrite the LAS file.)\n",
    "out_file = '../datasets/pointcloud/labelled_' + tilecode + '.laz'\n",
    "las_utils.label_and_save_las(las, labels, out_file)"
   ]
  },
  {
   "cell_type": "code",
   "execution_count": null,
   "id": "c76db512-d90a-4dc9-a30b-a780fb8fb8c0",
   "metadata": {},
   "outputs": [],
   "source": []
  }
 ],
 "metadata": {
  "kernelspec": {
   "display_name": "Python 3",
   "language": "python",
   "name": "python3"
  },
  "language_info": {
   "codemirror_mode": {
    "name": "ipython",
    "version": 3
   },
   "file_extension": ".py",
   "mimetype": "text/x-python",
   "name": "python",
   "nbconvert_exporter": "python",
   "pygments_lexer": "ipython3",
   "version": "3.7.10"
  }
 },
 "nbformat": 4,
 "nbformat_minor": 5
}
