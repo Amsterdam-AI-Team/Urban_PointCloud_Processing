{
 "cells": [
  {
   "cell_type": "code",
   "execution_count": null,
   "id": "e471e61b",
   "metadata": {},
   "outputs": [],
   "source": [
    "# Add project src to path.\n",
    "import set_path\n",
    "\n",
    "import logging\n",
    "import pandas as pd\n",
    "import numpy as np\n",
    "\n",
    "from src.utils.labels import Labels\n",
    "import src.analysis.analysis_tools as analysis_tools\n",
    "import src.utils.ahn_utils as ahn_utils\n",
    "import src.utils.bgt_utils as bgt_utils\n",
    "import src.utils.csv_utils as csv_utils\n",
    "import src.utils.las_utils as las_utils\n",
    "import src.utils.log_utils as log_utils"
   ]
  },
  {
   "cell_type": "code",
   "execution_count": null,
   "id": "b164a417-94f6-45c6-803b-d68dbf23d01c",
   "metadata": {},
   "outputs": [],
   "source": [
    "# Set-up logging.\n",
    "log_utils.reset_logger()\n",
    "# log_utils.add_console_logger(level=logging.ERROR)\n",
    "log_utils.add_console_logger(level=logging.DEBUG)\n",
    "#log_utils.add_file_logger('weesp_merge_log.txt', level=logging.DEBUG, clear_log=True)"
   ]
  },
  {
   "cell_type": "markdown",
   "id": "50c3f703-e288-4bdf-9796-d69ba083bfc8",
   "metadata": {
    "jp-MarkdownHeadingCollapsed": true,
    "tags": []
   },
   "source": [
    "## Demo tiles"
   ]
  },
  {
   "cell_type": "code",
   "execution_count": null,
   "id": "649f1805-5da0-4d4b-8c4c-ae6d11a5692c",
   "metadata": {},
   "outputs": [],
   "source": [
    "# AHN data folder.\n",
    "ahn_data_folder = '../datasets/ahn/'\n",
    "ahn_reader = ahn_utils.NPZReader(ahn_data_folder, caching=False)\n",
    "\n",
    "bgt_building_file = '../datasets/bgt/bgt_buildings_demo.csv'\n",
    "bld_reader = bgt_utils.BGTPolyReader(bgt_building_file, building_offset=0)"
   ]
  },
  {
   "cell_type": "code",
   "execution_count": null,
   "id": "218546c0",
   "metadata": {},
   "outputs": [],
   "source": [
    "# Original pointcloud data folder.\n",
    "cloud_folder = '../datasets/pointcloud/'\n",
    "cloud_prefix = 'processed'\n",
    "# Predicted pointcloud labels data folder.\n",
    "pred_folder = '../datasets/pointcloud/'\n",
    "pred_prefix = 'processed'\n",
    "\n",
    "# File to write pole location to.\n",
    "pole_locations_path = '../datasets/pointcloud/lamp_post_locations.csv'"
   ]
  },
  {
   "cell_type": "code",
   "execution_count": null,
   "id": "9dc2c587-5d64-440f-a84f-452a5b7d7540",
   "metadata": {},
   "outputs": [],
   "source": [
    "min_component_size = 100\n",
    "target_label = Labels.STREET_LIGHT\n",
    "ground_label = Labels.GROUND\n",
    "\n",
    "HEADERS = ['rd_x', 'rd_y', 'z', 'tx', 'ty', 'tz', 'height', 'angle', 'prob', 'n_points', 'in_bld', 'debug', 'tilecode']\n",
    "\n",
    "locations = analysis_tools.get_pole_locations_pred(cloud_folder, pred_folder, target_label, ground_label, \n",
    "                                                   ahn_reader=ahn_reader, bld_reader=bld_reader,\n",
    "                                                   cloud_prefix=cloud_prefix, pred_prefix=pred_prefix,\n",
    "                                                   min_component_size=min_component_size)"
   ]
  },
  {
   "cell_type": "code",
   "execution_count": null,
   "id": "78d7d858-bb3a-4f81-947a-307210f52773",
   "metadata": {},
   "outputs": [],
   "source": [
    "csv_utils.write_csv(pole_locations_path, locations, csv_headers=HEADERS)"
   ]
  },
  {
   "cell_type": "markdown",
   "id": "7fc04e52-e57f-42fd-b520-7bdfdecf5613",
   "metadata": {
    "jp-MarkdownHeadingCollapsed": true,
    "tags": []
   },
   "source": [
    "## Weesp"
   ]
  },
  {
   "cell_type": "code",
   "execution_count": null,
   "id": "8a253164-56b0-4578-9b42-6adc31739eeb",
   "metadata": {},
   "outputs": [],
   "source": [
    "# AHN data folder.\n",
    "ahn_data_folder = '../../datasets/Weesp/ahn_tiles/'\n",
    "ahn_reader = ahn_utils.NPZReader(ahn_data_folder, caching=False)\n",
    "\n",
    "bgt_building_file = '../../datasets/Weesp/bgt/bgt_buildings_weesp.csv'\n",
    "bld_reader = bgt_utils.BGTPolyReader(bgt_building_file, building_offset=0)"
   ]
  },
  {
   "cell_type": "code",
   "execution_count": null,
   "id": "ca06032e-9559-42dc-97a0-c3a824916c3f",
   "metadata": {},
   "outputs": [],
   "source": [
    "# Original pointcloud data folder.\n",
    "orig_folder = '../../datasets/Weesp_test/'\n",
    "orig_prefix = 'merged'\n",
    "# Predicted pointcloud labels data folder.\n",
    "pred_folder = '../../datasets/Weesp_test/'\n",
    "pred_prefix = 'merged'\n",
    "# File to write pole location to.\n",
    "pole_locations_path = 'lamp_posts_weesp_test.csv'"
   ]
  },
  {
   "cell_type": "code",
   "execution_count": null,
   "id": "abba575e-5a0b-4082-8fbb-0cad84186b70",
   "metadata": {},
   "outputs": [],
   "source": [
    "# Original pointcloud data folder.\n",
    "orig_folder = '../../datasets/Weesp/las_processor_bundled_out/'\n",
    "orig_prefix = 'filtered'\n",
    "# Predicted pointcloud labels data folder.\n",
    "pred_folder = '../../datasets/Weesp/pred_rgb/'\n",
    "pred_prefix = 'filtered'\n",
    "# File to write pole location to.\n",
    "pole_locations_path = 'lamp_posts_weesp_complete_rgb.csv'"
   ]
  },
  {
   "cell_type": "code",
   "execution_count": null,
   "id": "c67922e6-22ce-4ad8-a864-905ae56d94a2",
   "metadata": {},
   "outputs": [],
   "source": [
    "# Original pointcloud data folder.\n",
    "orig_folder = '../../datasets/Weesp/predicted_rgbi/'\n",
    "orig_prefix = 'merged'\n",
    "# Predicted pointcloud labels data folder.\n",
    "pred_folder = orig_folder\n",
    "pred_prefix = orig_prefix\n",
    "# File to write pole location to.\n",
    "pole_locations_path = 'lamp_posts_weesp_rgbi_100.csv'"
   ]
  },
  {
   "cell_type": "code",
   "execution_count": null,
   "id": "d7b9f023-6fed-4cfd-9e50-d69af51da509",
   "metadata": {},
   "outputs": [],
   "source": [
    "min_component_size = 100\n",
    "target_label = Labels.STREET_LIGHT\n",
    "ground_label = Labels.GROUND\n",
    "\n",
    "HEADERS = ['rd_x', 'rd_y', 'z', 'tx', 'ty', 'tz', 'height', 'angle', 'prob', 'n_points', 'in_bld', 'debug', 'tilecode']\n",
    "\n",
    "locations = analysis_tools.get_pole_locations_pred(orig_folder, pred_folder, target_label, ground_label, ahn_reader,\n",
    "                                                   cloud_prefix=orig_prefix, pred_prefix=pred_prefix,\n",
    "                                                   min_component_size=min_component_size)"
   ]
  },
  {
   "cell_type": "code",
   "execution_count": null,
   "id": "a7c2c95f-07f0-4a93-a149-9826dda1db3f",
   "metadata": {},
   "outputs": [],
   "source": [
    "csv_utils.write_csv(pole_locations_path, locations, csv_headers=HEADERS)"
   ]
  },
  {
   "cell_type": "markdown",
   "id": "9ebf5463-1711-4590-b8a6-27afc7d49ccd",
   "metadata": {
    "jp-MarkdownHeadingCollapsed": true,
    "tags": []
   },
   "source": [
    "## Analysis of extracted lamp posts"
   ]
  },
  {
   "cell_type": "code",
   "execution_count": null,
   "id": "41cc900c-5e25-46e0-ab45-5c7cc638ea2f",
   "metadata": {},
   "outputs": [],
   "source": [
    "df = pd.read_csv('lamp_posts_weesp_rgbi_100.csv', delimiter=',')"
   ]
  },
  {
   "cell_type": "code",
   "execution_count": null,
   "id": "caf7df43-eb8e-4767-bf6a-8e240ae02b31",
   "metadata": {},
   "outputs": [],
   "source": [
    "len(df)"
   ]
  },
  {
   "cell_type": "code",
   "execution_count": null,
   "id": "312fc4ff-9590-4abf-99a7-382c16e8a69f",
   "metadata": {},
   "outputs": [],
   "source": [
    "len(df[df.n_points < 500])"
   ]
  },
  {
   "cell_type": "code",
   "execution_count": null,
   "id": "ac87b1c6-7d66-4cc6-8953-2308934247ed",
   "metadata": {},
   "outputs": [],
   "source": [
    "len(df[(df.height < 3)])"
   ]
  },
  {
   "cell_type": "code",
   "execution_count": null,
   "id": "53555931-ed77-4f11-97c9-6c61f867dd86",
   "metadata": {},
   "outputs": [],
   "source": [
    "720 / 5286"
   ]
  },
  {
   "cell_type": "code",
   "execution_count": null,
   "id": "e7bc4117-2010-40ea-817e-47ff192dcd17",
   "metadata": {},
   "outputs": [],
   "source": [
    "df = df[(df.height > 0) & (df.height <= 20)]"
   ]
  },
  {
   "cell_type": "code",
   "execution_count": null,
   "id": "e13836ef-5e52-48fe-b2f4-05b6cb676bb7",
   "metadata": {},
   "outputs": [],
   "source": [
    "df = df[(df.height >= 3) & (df.n_points >= 500)]"
   ]
  },
  {
   "cell_type": "code",
   "execution_count": null,
   "id": "c3eacd51-17ea-43b6-89b1-721f88b4d7a1",
   "metadata": {},
   "outputs": [],
   "source": [
    "len(df)"
   ]
  },
  {
   "cell_type": "code",
   "execution_count": null,
   "id": "859ac261-c51b-4937-afd3-0b7a111a6375",
   "metadata": {},
   "outputs": [],
   "source": [
    "df = df[df.n_points >= 500]"
   ]
  },
  {
   "cell_type": "markdown",
   "id": "54b12664-8e75-479f-b9c3-3da8bc36c494",
   "metadata": {
    "tags": []
   },
   "source": [
    "### Height distribution plot"
   ]
  },
  {
   "cell_type": "code",
   "execution_count": null,
   "id": "672ef5fc-daee-45c9-a440-aea7cd5ae1a5",
   "metadata": {},
   "outputs": [],
   "source": [
    "%matplotlib widget\n",
    "import matplotlib.pyplot as plt\n",
    "from matplotlib.colors import LinearSegmentedColormap\n",
    "import numpy as np\n",
    "\n",
    "#heights = [x[3] for x in locations]\n",
    "#counts = [x[4] for x in locations]\n",
    "heights = df.height.values\n",
    "counts = df.n_points.values\n",
    "\n",
    "fig = plt.figure(figsize=(10,2))\n",
    "scat = plt.scatter(heights, np.random.uniform(size=(len(heights,))), \n",
    "                   c=counts, cmap='Blues', vmin=0, vmax=2500,\n",
    "                   marker='.', alpha=0.8, edgecolors='none')\n",
    "ax = plt.gca()\n",
    "ax.yaxis.set_visible(False)\n",
    "ax.xaxis.set_ticks(range(0, 21, 2))\n",
    "ax.set_title('Distribution of pole height (m)')\n",
    "#ax.legend(*scat.legend_elements())\n",
    "#plt.clim(0, 2000)\n",
    "cbar = plt.colorbar(scat, extend=\"max\")\n",
    "cbar.ax.set_ylabel('#points', rotation=270, labelpad=12)\n",
    "plt.show()"
   ]
  },
  {
   "cell_type": "code",
   "execution_count": null,
   "id": "4d3d52ec-08b5-4da1-8b13-f9380d97d8e8",
   "metadata": {},
   "outputs": [],
   "source": [
    "plt.savefig('height_dist_500_rgbi.png')"
   ]
  },
  {
   "cell_type": "markdown",
   "id": "3ca31e61-cbb7-42e1-8c1d-db16d73f1cc3",
   "metadata": {
    "tags": []
   },
   "source": [
    "### Location plot"
   ]
  },
  {
   "cell_type": "code",
   "execution_count": null,
   "id": "d005493f-528d-4e38-a9df-6af0e6c7ff37",
   "metadata": {},
   "outputs": [],
   "source": [
    "df = df[(df.height >= 3) & (df.n_points >= 500)]"
   ]
  },
  {
   "cell_type": "code",
   "execution_count": null,
   "id": "58e0070b-da24-4bee-beba-104c5d36a5fa",
   "metadata": {},
   "outputs": [],
   "source": [
    "import matplotlib\n",
    "\n",
    "def numfmt(x, pos): # your custom formatter function: divide by 100.0\n",
    "    s = f'{x / 1000:.0f}'\n",
    "    return s\n",
    "\n",
    "import matplotlib.ticker as tkr     # has classes for tick-locating and -formatting\n",
    "fmt = tkr.FuncFormatter(numfmt)    # create your custom formatter function\n",
    "\n",
    "cmap = matplotlib.colors.LinearSegmentedColormap.from_list('custom greys', [(.8,.8,.8),(0,0,0)], N=64)\n",
    "\n",
    "fig = plt.figure(figsize=(10,8))\n",
    "scat = plt.scatter(df.rd_x, df.rd_y, c ='black', \n",
    "                   marker='.', alpha=0.8, edgecolors='none')\n",
    "ax = plt.gca()\n",
    "ax.set_title('Located street lights in Weesp')\n",
    "ax.set_xlabel('RD X (km)')\n",
    "ax.set_ylabel('RD Y (km)')\n",
    "ax.xaxis.set_major_formatter(fmt)\n",
    "ax.yaxis.set_major_formatter(fmt)\n",
    "ax.set_aspect('equal', adjustable='box')\n",
    "plt.show()"
   ]
  },
  {
   "cell_type": "code",
   "execution_count": null,
   "id": "ae918134-7847-4795-afe0-95d1ed43fa0a",
   "metadata": {},
   "outputs": [],
   "source": [
    "plt.savefig('weesp_streetlights_500_rgbi.png')"
   ]
  },
  {
   "cell_type": "markdown",
   "id": "e30d61cc-c69a-4498-892f-bf6ac4679eb7",
   "metadata": {
    "jp-MarkdownHeadingCollapsed": true,
    "tags": []
   },
   "source": [
    "## Dataset map plot"
   ]
  },
  {
   "cell_type": "code",
   "execution_count": null,
   "id": "f5eea764-73f8-44fd-ac7b-0ba59b775af8",
   "metadata": {},
   "outputs": [],
   "source": [
    "from src.utils import plot_utils\n",
    "tile_folder = '../../datasets/Weesp/pred_rgbi/'\n",
    "train_folder = '../../datasets/Weesp_train/all/'\n",
    "\n",
    "tiles = las_utils.get_tilecodes_from_folder(tile_folder)\n",
    "train_tiles = las_utils.get_tilecodes_from_folder(train_folder)\n",
    "\n",
    "tiles_map = plot_utils.plot_tiles_map(tiles, train_tiles, zoom_control=False, opacity=0.25)\n",
    "tiles_map"
   ]
  },
  {
   "cell_type": "code",
   "execution_count": null,
   "id": "9057fbe6-6d38-430f-8246-e48f7bd6da21",
   "metadata": {},
   "outputs": [],
   "source": [
    "plot_utils.save_tiles_map(tiles_map, 'weesp_tiles.png')"
   ]
  },
  {
   "cell_type": "code",
   "execution_count": null,
   "id": "e06daff1-e748-4e95-ab86-1b92500c9f70",
   "metadata": {},
   "outputs": [],
   "source": [
    "tiles_map.save('weesp_tiles.html')"
   ]
  },
  {
   "cell_type": "markdown",
   "id": "4105049c-907a-4359-b976-82e434f74bca",
   "metadata": {
    "jp-MarkdownHeadingCollapsed": true,
    "tags": []
   },
   "source": [
    "## Create LAS with extracted poles"
   ]
  },
  {
   "cell_type": "code",
   "execution_count": null,
   "id": "c8a18173-8d60-4fa1-88bd-f8566bc56fcb",
   "metadata": {},
   "outputs": [],
   "source": [
    "df = pd.read_csv('lamp_posts_weesp_test.csv')"
   ]
  },
  {
   "cell_type": "code",
   "execution_count": null,
   "id": "c6182008-da17-4f9b-8ef1-9cc8a6bc356e",
   "metadata": {},
   "outputs": [],
   "source": [
    "tilecode = '2623_9621'\n",
    "locations_df = df[df.tilecode == tilecode]\n",
    "locations_df"
   ]
  },
  {
   "cell_type": "code",
   "execution_count": null,
   "id": "58e0181a-5649-4db3-8d85-189a440ddac5",
   "metadata": {},
   "outputs": [],
   "source": [
    "# locations = locations_df[['rd_x','rd_y','z','height']].values\n",
    "locations = [[(x, y, z), (x2, y2, z2)] for x, y, z, x2, y2, z2 in locations_df.iloc[:,0:6].values]\n",
    "target_label = Labels.STREET_LIGHT"
   ]
  },
  {
   "cell_type": "code",
   "execution_count": null,
   "id": "acf29a9a-3d0a-4dd2-85b9-180b312ead78",
   "metadata": {},
   "outputs": [],
   "source": [
    "las_utils.create_pole_las(f'dummy_{tilecode}.laz', locations, target_label)"
   ]
  },
  {
   "cell_type": "code",
   "execution_count": null,
   "id": "9e052549-df2c-4c3c-8bb7-8631c4d86b6c",
   "metadata": {},
   "outputs": [],
   "source": [
    "df = pd.read_csv('lamp_posts_weesp_test.csv')\n",
    "target_label = Labels.STREET_LIGHT\n",
    "for tilecode in df.tilecode:\n",
    "    locations_df = df[df.tilecode == tilecode]\n",
    "    locations = [[(x, y, z), (x2, y2, z2)] for x, y, z, x2, y2, z2 in locations_df.iloc[:,0:6].values]\n",
    "    las_utils.create_pole_las(f'lampposts_{tilecode}.laz', locations, target_label)"
   ]
  },
  {
   "cell_type": "markdown",
   "id": "c3688152-91a8-4184-a7e3-7a2f492451f2",
   "metadata": {
    "jp-MarkdownHeadingCollapsed": true,
    "tags": []
   },
   "source": [
    "## Merge predictions into LAS files"
   ]
  },
  {
   "cell_type": "code",
   "execution_count": null,
   "id": "7ebeaaa7-7dd3-466a-aaf8-74b66787c77e",
   "metadata": {},
   "outputs": [],
   "source": [
    "cloud_folder = '../../datasets/Weesp/las_processor_bundled_out/'\n",
    "pred_folder = '../../datasets/Weesp/pred_rgbi/'\n",
    "out_folder = '../../datasets/Weesp/predicted_rgbi/'\n",
    "cloud_prefix = 'filtered'\n",
    "pred_prefix = 'filtered'\n",
    "out_prefix = 'merged'\n",
    "#label_dict = {Labels.UNLABELLED: Labels.CAR}\n",
    "label_dict = None\n",
    "\n",
    "las_utils.merge_cloud_pred_folder(cloud_folder, pred_folder, out_folder,\n",
    "                                  cloud_prefix=cloud_prefix, pred_prefix=pred_prefix,\n",
    "                                  out_prefix=out_prefix, label_dict=label_dict,\n",
    "                                  resume=True)"
   ]
  },
  {
   "cell_type": "markdown",
   "id": "fe11a493-56e3-4ba9-b432-a71b9dd77c61",
   "metadata": {
    "jp-MarkdownHeadingCollapsed": true,
    "tags": []
   },
   "source": [
    "## Dataset statistics"
   ]
  },
  {
   "cell_type": "code",
   "execution_count": null,
   "id": "bf85e1cf-5edb-45bd-b89c-86e5e88798e7",
   "metadata": {},
   "outputs": [],
   "source": [
    "import laspy\n",
    "import pathlib"
   ]
  },
  {
   "cell_type": "code",
   "execution_count": null,
   "id": "15a261d7-7dd2-401d-8305-29365609c809",
   "metadata": {},
   "outputs": [],
   "source": [
    "folder = '../../datasets/Weesp/predicted_rgbi/'\n",
    "counts = []\n",
    "for file in pathlib.Path(folder).glob('*.laz'):\n",
    "    with laspy.open(file.as_posix()) as f:\n",
    "        counts.append(f.header.point_count)"
   ]
  },
  {
   "cell_type": "code",
   "execution_count": null,
   "id": "0000c30b-511e-4998-a3ab-3a557f93e7d5",
   "metadata": {},
   "outputs": [],
   "source": [
    "len(counts)"
   ]
  },
  {
   "cell_type": "code",
   "execution_count": null,
   "id": "3d74ecd9-3c63-40c1-8e71-3cbb42038ba2",
   "metadata": {},
   "outputs": [],
   "source": [
    "sum(counts)"
   ]
  },
  {
   "cell_type": "markdown",
   "id": "f1f092ec-0739-499a-8fb2-6fe264d2f6ab",
   "metadata": {
    "jp-MarkdownHeadingCollapsed": true,
    "tags": []
   },
   "source": [
    "## Move LAS files based on number of points"
   ]
  },
  {
   "cell_type": "code",
   "execution_count": null,
   "id": "843ef314-4938-4ad4-a432-e1f85b1154f6",
   "metadata": {},
   "outputs": [],
   "source": [
    "import glob, os, shutil\n",
    "import laspy\n",
    "from lazrs.lazrs import LazrsError\n",
    "\n",
    "las_folder = '../../datasets/Weesp/las_processor_bundled_out/'\n",
    "empty_folder = '../../datasets/Weesp/las_processor_bundled_out/empty/'\n",
    "small_folder = '../../datasets/Weesp/las_processor_bundled_out/10k/'\n",
    "files = glob.glob(os.path.join(las_folder, '*.laz'))\n",
    "\n",
    "for i, file in enumerate(files):\n",
    "    filename = file.split('/')[-1]\n",
    "    try:\n",
    "        with laspy.open(file) as fh:\n",
    "            if fh.header.point_count < 10000:\n",
    "                print(f'Moving {filename} to 10k [{i}]')\n",
    "                shutil.move(file, os.path.join(small_folder, filename))\n",
    "    except LazrsError:\n",
    "        print(f'Moving {filename} to empty [{i}]')\n",
    "        shutil.move(file, os.path.join(empty_folder, filename))"
   ]
  },
  {
   "cell_type": "code",
   "execution_count": null,
   "id": "1101d0af-8bf8-4d7c-9258-bc0e10097e89",
   "metadata": {},
   "outputs": [],
   "source": [
    "files = glob.glob(os.path.join(las_folder, '*.laz'))\n",
    "print(f'Total left: {len(files)}')\n",
    "files = glob.glob(os.path.join(empty_folder, '*.laz'))\n",
    "print(f'Empty: {len(files)}')\n",
    "files = glob.glob(os.path.join(small_folder, '*.laz'))\n",
    "print(f'Smaller than 10k: {len(files)}')"
   ]
  },
  {
   "cell_type": "markdown",
   "id": "206fdbd2-ffa3-4891-ae43-70b694040d08",
   "metadata": {
    "tags": []
   },
   "source": [
    "## Visualise individual lamp posts"
   ]
  },
  {
   "cell_type": "code",
   "execution_count": null,
   "id": "1703636c-800e-4a69-ab99-dc6ca2470186",
   "metadata": {},
   "outputs": [],
   "source": [
    "import laspy\n",
    "from src.utils import clip_utils\n",
    "\n",
    "HEADERS = ['rd_x', 'rd_y', 'z', 'tx', 'ty', 'tz', 'height', 'angle', 'prob', 'n_points', 'in_bld', 'debug', 'tilecode']\n",
    "\n",
    "# las = laspy.read('../datasets/pointcloud/processed_2397_9705.laz')\n",
    "las = laspy.read('../../datasets/Weesp/predicted_rgbi/merged_2621_9612.laz')\n",
    "points = np.vstack((las.x, las.y, las.z)).T\n",
    "labels = las.label\n",
    "# probabilities = las.probability\n",
    "probabilities = np.zeros((len(labels,)))"
   ]
  },
  {
   "cell_type": "code",
   "execution_count": null,
   "id": "b9320f93-3870-4f34-9430-6bbf8c6a4b72",
   "metadata": {},
   "outputs": [],
   "source": [
    "poles = analysis_tools.get_pole_locations(points, labels, probabilities,\n",
    "                                          Labels.STREET_LIGHT, Labels.GROUND)\n",
    "df = pd.DataFrame(poles, columns=HEADERS)\n",
    "df"
   ]
  },
  {
   "cell_type": "code",
   "execution_count": null,
   "id": "85ca3557-9668-4e04-a6ea-15f35818508d",
   "metadata": {},
   "outputs": [],
   "source": [
    "from sklearn.decomposition import PCA\n",
    "import src.utils.math_utils as math_utils\n",
    "\n",
    "def get_xyzr(points, z, margin):\n",
    "    clip_mask = (points[:, 2] >= z - margin) & (points[:, 2] < z + margin)\n",
    "    if np.count_nonzero(clip_mask) > 0:\n",
    "        x_mean = np.mean(points[clip_mask, 0])\n",
    "        y_mean = np.mean(points[clip_mask, 1])\n",
    "        x_r = (np.max(points[clip_mask, 0]) - np.min(points[clip_mask, 0])) / 2.\n",
    "        y_r = (np.max(points[clip_mask, 0]) - np.min(points[clip_mask, 0])) / 2.\n",
    "        r = x_r if x_r > y_r else y_r\n",
    "        return x_mean, y_mean, z, r\n",
    "    else:\n",
    "        return np.nan, np.nan, z, np.nan\n",
    "\n",
    "\n",
    "def extract_pole(points, ground_est=None, step=0.1):\n",
    "    debug = 0\n",
    "    z_min = np.min(points[:, 2])\n",
    "    z_max = np.max(points[:, 2])\n",
    "    if ground_est is None:\n",
    "        ground_est = z_min\n",
    "    xyzr = np.array([[*get_xyzr(points, z, step)]\n",
    "                     for z in np.arange(z_min + step, z_max, 2*step)])\n",
    "    valid_mask = xyzr[:, 3] <= 0.15\n",
    "    if np.count_nonzero(valid_mask) == 0:\n",
    "        logger.debug('Not enough data to extract pole.')\n",
    "        debug = 4\n",
    "        origin = np.mean(points, axis=0)\n",
    "        direction_vector = np.array([0, 0, 1])\n",
    "    elif np.count_nonzero(valid_mask) == 1:\n",
    "        logger.debug('Not enough data to determine slope.')\n",
    "        debug = 3\n",
    "        origin = xyzr[valid_mask, 0:3][0]\n",
    "        direction_vector = np.array([0, 0, 1])\n",
    "    else:\n",
    "        pca = PCA(n_components=1).fit(xyzr[valid_mask, 0:3])\n",
    "        origin = pca.mean_\n",
    "        direction_vector = pca.components_[0]\n",
    "        if direction_vector[2] < 0:\n",
    "            direction_vector *= -1\n",
    "    extent = (origin[2] - ground_est, z_max - origin[2])\n",
    "    multiplier = np.sum(np.linalg.norm(direction_vector, 2))\n",
    "    x, y, z = origin - direction_vector * extent[0] * multiplier\n",
    "    x2, y2, z2 = origin + direction_vector * extent[1] * multiplier\n",
    "    height = np.sum(extent) * multiplier\n",
    "    angle = math_utils.vector_angle(direction_vector)\n",
    "    return (x, y, z, x2, y2, z2, height, angle), debug"
   ]
  },
  {
   "cell_type": "raw",
   "id": "469e3b90-f276-4ad2-836d-5ac5b2b85760",
   "metadata": {},
   "source": [
    "from sklearn.decomposition import PCA\n",
    "\n",
    "def get_pc(points, ground_est):\n",
    "    z_min = np.min(points[:, 2])\n",
    "    z_max = np.max(points[:, 2])\n",
    "    pca = PCA(n_components=2).fit(points)\n",
    "    origin = pca.mean_\n",
    "    direction_vector = pca.components_[0]\n",
    "    if direction_vector[2] < 0:\n",
    "        direction_vector *= -1\n",
    "    extent = (origin[2] - ground_est, z_max - origin[2])\n",
    "    multiplier = np.sum(np.linalg.norm(direction_vector, 2))\n",
    "    x, y, z = origin - direction_vector * extent[0] * multiplier\n",
    "    x2, y2, z2 = origin + direction_vector * extent[1] * multiplier\n",
    "    return [[x, y, z], [x2, y2, z2]]\n",
    "\n",
    "line3 = np.array(get_pc(light, z_ground))"
   ]
  },
  {
   "cell_type": "code",
   "execution_count": null,
   "id": "ac296c95-ccf8-4e54-9f1d-1da94aafd912",
   "metadata": {},
   "outputs": [],
   "source": [
    "pole_id = 3\n",
    "\n",
    "location = df.loc[pole_id, ['rd_x', 'rd_y', 'z']].values\n",
    "top = df.loc[pole_id, ['tx', 'ty', 'tz']].values\n",
    "z_ground = df.loc[pole_id, 'z']\n",
    "\n",
    "clip_mask = clip_utils.circle_clip(points, (location[0], location[1]), 2.)\n",
    "label_mask = labels == Labels.STREET_LIGHT\n",
    "light = points[label_mask & clip_mask]\n",
    "light_sign = points[clip_mask & ((labels == Labels.TRAFFIC_SIGN) | label_mask)]\n",
    "light = light_sign"
   ]
  },
  {
   "cell_type": "raw",
   "id": "791d2e59-aac2-4259-a316-818f564e4b80",
   "metadata": {},
   "source": [
    "offset = np.max(np.abs(location - top)[0:2])\n",
    "ctr_mask = clip_utils.circle_clip(light, (location[0], location[1]), offset + 0.1)\n",
    "new_pole = analysis_tools.extract_pole(light[ctr_mask], z_ground, step=0.05)[0]"
   ]
  },
  {
   "cell_type": "code",
   "execution_count": null,
   "id": "b7a05b50-4dc4-4cad-af2c-56dbb2852c46",
   "metadata": {},
   "outputs": [],
   "source": [
    "new_pole = extract_pole(light, z_ground, step=0.05)[0]"
   ]
  },
  {
   "cell_type": "code",
   "execution_count": null,
   "id": "905ec669-d711-4483-a1f6-18757b9552aa",
   "metadata": {},
   "outputs": [],
   "source": [
    "%matplotlib widget\n",
    "import matplotlib.pyplot as plt\n",
    "from mpl_toolkits.mplot3d import Axes3D\n",
    "\n",
    "xs = light[:, 0]\n",
    "ys = light[:, 1]\n",
    "zs = light[:, 2]\n",
    "\n",
    "line = np.vstack((location, top))\n",
    "line2 = np.vstack((new_pole[0:3], new_pole[3:6]))\n",
    "\n",
    "fig = plt.figure()\n",
    "ax = fig.add_subplot(111, projection='3d')\n",
    "ax.scatter(xs, ys, zs, alpha=0.05, marker='.')\n",
    "ax.plot(line[:, 0], line[:, 1], line[:, 2], 'r', linewidth=3)\n",
    "ax.plot(line2[:, 0], line2[:, 1], line2[:, 2], 'orange', linewidth=3)\n",
    "# ax.plot(line3[:, 0], line3[:, 1], line3[:, 2], 'orange', linewidth=3)\n",
    "ax.set_box_aspect((np.ptp(xs), np.ptp(ys), np.ptp(zs)))\n",
    "\n",
    "plt.show()"
   ]
  },
  {
   "cell_type": "code",
   "execution_count": null,
   "id": "9872c34e-2ddf-4e39-995c-da7ac365a24d",
   "metadata": {},
   "outputs": [],
   "source": [
    "z_min = np.min(light[:,2])\n",
    "z_max = np.max(light[:,2])\n",
    "step = 0.1\n",
    "\n",
    "xyzstd = np.array([[*analysis_tools.get_xystd(light, z, step)]\n",
    "                   for z in np.arange(z_min + step, z_max, 2*step)])\n",
    "xyzr = np.array([[*get_xyzr(light, z, step)]\n",
    "                 for z in np.arange(z_min + step, z_max, 2*step)])"
   ]
  },
  {
   "cell_type": "code",
   "execution_count": null,
   "id": "e1267432-8e15-4e17-8e2c-4ef87425dfa6",
   "metadata": {},
   "outputs": [],
   "source": [
    "pd.DataFrame(xyzr)"
   ]
  },
  {
   "cell_type": "code",
   "execution_count": null,
   "id": "2b0d0283-5b52-4152-8fb8-4efe8b3d9ff4",
   "metadata": {},
   "outputs": [],
   "source": [
    "np.nanpercentile(xyzstd[:, 3], 20)"
   ]
  },
  {
   "cell_type": "code",
   "execution_count": null,
   "id": "1715cbb6-395b-43c5-8b62-448be6ef3ad0",
   "metadata": {},
   "outputs": [],
   "source": [
    "valid_mask = xyzstd[:, 3] <= np.nanpercentile(xyzstd[:, 3], 20)\n",
    "np.count_nonzero(valid_mask)"
   ]
  },
  {
   "cell_type": "code",
   "execution_count": null,
   "id": "b5fd0659-88ef-4173-871d-1a656aa96962",
   "metadata": {},
   "outputs": [],
   "source": [
    "pd.DataFrame(xyzstd[valid_mask])"
   ]
  },
  {
   "cell_type": "code",
   "execution_count": null,
   "id": "0e675c67-3008-4dcc-bf35-5c26a3b5815b",
   "metadata": {},
   "outputs": [],
   "source": [
    "valid_mask = xyzr[:, 3] <= 0.20\n",
    "pd.DataFrame(xyzr[valid_mask])"
   ]
  },
  {
   "cell_type": "code",
   "execution_count": null,
   "id": "f956c56c-64fe-4865-9bed-e4a61513bbb9",
   "metadata": {},
   "outputs": [],
   "source": []
  }
 ],
 "metadata": {
  "kernelspec": {
   "display_name": "Python 3 (ipykernel)",
   "language": "python",
   "name": "python3"
  },
  "language_info": {
   "codemirror_mode": {
    "name": "ipython",
    "version": 3
   },
   "file_extension": ".py",
   "mimetype": "text/x-python",
   "name": "python",
   "nbconvert_exporter": "python",
   "pygments_lexer": "ipython3",
   "version": "3.8.11"
  }
 },
 "nbformat": 4,
 "nbformat_minor": 5
}
