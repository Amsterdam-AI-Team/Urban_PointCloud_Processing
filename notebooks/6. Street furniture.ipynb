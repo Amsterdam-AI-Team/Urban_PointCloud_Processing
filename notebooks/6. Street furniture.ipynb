{
 "cells": [
  {
   "cell_type": "markdown",
   "id": "653c69d9-86f2-4669-bcd7-3716eac6ee52",
   "metadata": {
    "tags": []
   },
   "source": [
    "# Labelling street furniture\n",
    "\n",
    "E.g. runnish bins and city benches."
   ]
  },
  {
   "cell_type": "code",
   "execution_count": null,
   "id": "41f21ddc-b8d8-4de9-aa8f-54ec6cfde498",
   "metadata": {},
   "outputs": [],
   "source": [
    "# Uncomment to load the local package rather than the pip-installed version.\n",
    "# Add project src to path.\n",
    "import set_path"
   ]
  },
  {
   "cell_type": "code",
   "execution_count": null,
   "id": "f6d01928",
   "metadata": {},
   "outputs": [],
   "source": [
    "# Import modules.\n",
    "import numpy as np\n",
    "import time\n",
    "import logging\n",
    "\n",
    "import upcp.utils.las_utils as las_utils\n",
    "import upcp.utils.log_utils as log_utils\n",
    "import upcp.utils.csv_utils as csv_utils\n",
    "import upcp.utils.ahn_utils as ahn_utils\n",
    "import upcp.utils.bgt_utils as bgt_utils\n",
    "import upcp.fusion as fusion\n",
    "from upcp.labels import Labels\n",
    "from upcp.pipeline import Pipeline\n",
    "\n",
    "# INFO messages will be printed to console.\n",
    "log_utils.reset_logger()\n",
    "log_utils.add_console_logger(level=logging.DEBUG)"
   ]
  },
  {
   "cell_type": "markdown",
   "id": "bdbe7291",
   "metadata": {},
   "source": [
    "## Street furniture fuser based on cluster dimensions and BGT reference data\n",
    "First, download and parse the required BGT data in notebook [1. Generate reference data](1.%20Generate%20reference%20data.ipynb)."
   ]
  },
  {
   "cell_type": "code",
   "execution_count": null,
   "id": "89a24ba1",
   "metadata": {},
   "outputs": [],
   "source": [
    "# The already labelled points must be removed.\n",
    "exclude_labels = (Labels.GROUND, Labels.ROAD, Labels.BUILDING, Labels.TREE, Labels.STREET_LIGHT,\n",
    "                  Labels.TRAFFIC_SIGN, Labels.CAR, Labels.NOISE)"
   ]
  },
  {
   "cell_type": "code",
   "execution_count": null,
   "id": "c181f794",
   "metadata": {},
   "outputs": [],
   "source": [
    "# Select the file to process.\n",
    "tilecode = '2386_9702'\n",
    "\n",
    "in_file = '../datasets/pointcloud/labelled_' + tilecode + '.laz'\n",
    "out_file = '../datasets/pointcloud/labelled_' + tilecode + '.laz'\n",
    "\n",
    "# Data folder for the fusers.\n",
    "bgt_data_file = '../datasets/bgt/bgt_street_furniture_demo.csv'\n",
    "bgt_street_furniture_reader = bgt_utils.BGTPointReader(bgt_file=bgt_data_file)\n",
    "\n",
    "# We need elevation data to determine object height above ground.\n",
    "ahn_data_folder = '../datasets/ahn/'\n",
    "ahn_reader = ahn_utils.NPZReader(ahn_data_folder)"
   ]
  },
  {
   "cell_type": "code",
   "execution_count": null,
   "id": "1c9aac1b-57a7-4663-b51b-8d117b2a0e51",
   "metadata": {},
   "outputs": [],
   "source": [
    "# Object type-specific parameters.\n",
    "rubbish_bin_params = {'min_height': 0.5, 'max_height': 1.5, 'min_width': 0.3, 'max_width': 1.5, 'min_length': 0.3, 'max_length': 1.5}\n",
    "city_bench_params = {'min_height': 0.5, 'max_height': 1.5, 'min_width': 0.3, 'max_width': 2.0, 'min_length': 1.0, 'max_length': 3.5}\n",
    "\n",
    "# Create fusers for BGT point data.\n",
    "rubbish_bin_fuser = fusion.BGTStreetFurnitureFuser(Labels.RUBBISH_BIN, bgt_type='afvalbak', bgt_reader=bgt_street_furniture_reader,\n",
    "                                                   ahn_reader=ahn_reader, params=rubbish_bin_params)\n",
    "city_bench_fuser = fusion.BGTStreetFurnitureFuser(Labels.CITY_BENCH, bgt_type='bank', bgt_reader=bgt_street_furniture_reader,\n",
    "                                                  ahn_reader=ahn_reader, params=city_bench_params)"
   ]
  },
  {
   "cell_type": "markdown",
   "id": "6b96cd6f",
   "metadata": {},
   "source": [
    "## Process point clouds and save the results\n",
    "The pipeline can now be used to process point clouds. Labels will be written to the LAS file as a new extended field called label."
   ]
  },
  {
   "cell_type": "code",
   "execution_count": null,
   "id": "e9c5e2ab",
   "metadata": {},
   "outputs": [],
   "source": [
    "# Set-up the order in how we want to label.\n",
    "process_sequence = (rubbish_bin_fuser, city_bench_fuser)\n",
    "pipeline = Pipeline(processors=process_sequence, exclude_labels=exclude_labels, caching=False)"
   ]
  },
  {
   "cell_type": "markdown",
   "id": "a38e12ad",
   "metadata": {},
   "source": [
    "## Process a single file"
   ]
  },
  {
   "cell_type": "code",
   "execution_count": null,
   "id": "448516f0",
   "metadata": {},
   "outputs": [],
   "source": [
    "# Process the file.\n",
    "pipeline.process_file(in_file, out_file=out_file)"
   ]
  },
  {
   "cell_type": "code",
   "execution_count": null,
   "id": "f41fb3fe",
   "metadata": {},
   "outputs": [],
   "source": []
  }
 ],
 "metadata": {
  "kernelspec": {
   "display_name": "Python 3 (ipykernel)",
   "language": "python",
   "name": "python3"
  },
  "language_info": {
   "codemirror_mode": {
    "name": "ipython",
    "version": 3
   },
   "file_extension": ".py",
   "mimetype": "text/x-python",
   "name": "python",
   "nbconvert_exporter": "python",
   "pygments_lexer": "ipython3",
   "version": "3.10.8"
  }
 },
 "nbformat": 4,
 "nbformat_minor": 5
}
