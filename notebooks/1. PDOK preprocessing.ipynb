{
 "cells": [
  {
   "cell_type": "markdown",
   "id": "c2673449-5a17-413f-844b-d986268a1a21",
   "metadata": {},
   "source": [
    "# Pre-processing of BGT data from PDOK"
   ]
  },
  {
   "cell_type": "code",
   "execution_count": null,
   "id": "c4c70725-cf4c-4f7f-9a7e-ab112ee339d7",
   "metadata": {},
   "outputs": [],
   "source": [
    "# Helper script to allow importing from parent folder.\n",
    "import set_path\n",
    "\n",
    "import src.utils.las_utils as las_utils\n",
    "import src.utils.pdok_utils as pdok_utils"
   ]
  },
  {
   "cell_type": "code",
   "execution_count": null,
   "id": "b4b04aab-3b2a-47d8-80b7-be1deebb4dfd",
   "metadata": {},
   "outputs": [],
   "source": [
    "# Specify the bounding box of the area we want to scrape.\n",
    "# For example, we can find the bounding box of a folder of LAS files.\n",
    "bbox_padded = las_utils.get_bbox_from_las_folder('../datasets/pointcloud/', padding=10)\n",
    "\n",
    "# Specify the tight bounding box. For some reason, the PDOK scraper returns a bigger area than the one requested, \n",
    "# so we use this one later to precisely select the desired objects.\n",
    "bbox = las_utils.get_bbox_from_las_folder('../datasets/pointcloud/', padding=0)\n",
    "\n",
    "# Output folder to store the files.\n",
    "bgt_data_folder = '../datasets/bgt/'"
   ]
  },
  {
   "cell_type": "code",
   "execution_count": null,
   "id": "ed421792-9849-43df-8295-164fc9c41914",
   "metadata": {},
   "outputs": [],
   "source": [
    "# Scrape data from PDOK, this will return a download link.\n",
    "download_url = pdok_utils.scrape_pdok_bgt(bbox=bbox_padded, bgt_layers=[\"paal\", \"pand\", \"vegetatieobject\"])"
   ]
  },
  {
   "cell_type": "code",
   "execution_count": null,
   "id": "33f9c48c-1598-4b41-bccd-598487f17b46",
   "metadata": {},
   "outputs": [],
   "source": [
    "# Extract the downloaded archive.\n",
    "local_filename = download_url.split('/')[-1]\n",
    "\n",
    "!mkdir -p {bgt_data_folder}\n",
    "!wget {download_url} -P {bgt_data_folder}\n",
    "!unzip -o {bgt_data_folder + local_filename} -d {bgt_data_folder}\n",
    "!rm {bgt_data_folder + local_filename}"
   ]
  },
  {
   "cell_type": "code",
   "execution_count": null,
   "id": "ea102128-cced-48e7-829e-f5d06dadd45d",
   "metadata": {},
   "outputs": [],
   "source": [
    "# The vegetation_file, pole_file, and building_file are those we just downloaded.\n",
    "vegetation_file = bgt_data_folder + 'bgt_vegetatieobject.gml'\n",
    "pole_file = bgt_data_folder + 'bgt_paal.gml'\n",
    "building_file = bgt_data_folder + 'bgt_pand.gml'\n",
    "\n",
    "# Parse the downloaded CityGML files.\n",
    "tree_point_file = pdok_utils.parse_vegetation(vegetation_file, bbox=bbox, out_folder=bgt_data_folder)\n",
    "pole_point_file = pdok_utils.parse_poles(pole_file, bbox=bbox, out_folder=bgt_data_folder)\n",
    "building_shape_file = pdok_utils.parse_buildings(building_file, bbox=bbox, out_folder=bgt_data_folder)\n",
    "\n",
    "# Merge the point objects to a single csv file.\n",
    "point_file = pdok_utils.merge_point_files((tree_point_file, pole_point_file), out_folder=bgt_data_folder)\n",
    "\n",
    "# Clean-up\n",
    "!rm {vegetation_file} {pole_file} {building_file} {tree_point_file} {pole_point_file}\n",
    "del [vegetation_file, pole_file, building_file, tree_point_file, pole_point_file]"
   ]
  },
  {
   "cell_type": "code",
   "execution_count": null,
   "id": "b5f489fa-ad00-4925-9232-a1e1a3d44e7c",
   "metadata": {},
   "outputs": [],
   "source": [
    "# Load the data for visualization.\n",
    "import csv\n",
    "import ast\n",
    "\n",
    "buildings = []\n",
    "\n",
    "with open(bgt_data_folder + 'bgt_buildings.csv', 'r', newline='') as csvfile:\n",
    "    reader = csv.DictReader(csvfile)\n",
    "    for row in reader:\n",
    "        buildings.append(ast.literal_eval(row['Polygon']))\n",
    "        \n",
    "trees = []\n",
    "poles = []\n",
    "\n",
    "with open(bgt_data_folder + 'bgt_points.csv', 'r', newline='') as csvfile:\n",
    "    reader = csv.DictReader(csvfile)\n",
    "    for row in reader:\n",
    "        if row['Type'] == 'boom':\n",
    "            trees.append((float(row['X']), float(row['Y'])))\n",
    "        else:\n",
    "            poles.append((float(row['X']), float(row['Y'])))"
   ]
  },
  {
   "cell_type": "code",
   "execution_count": null,
   "id": "f0b99902-916e-4946-a38e-850d3d0faaed",
   "metadata": {},
   "outputs": [],
   "source": [
    "# Plot the data.\n",
    "%matplotlib widget\n",
    "from matplotlib import pyplot as plt\n",
    "import matplotlib.patches as patches\n",
    "\n",
    "from shapely.geometry import Polygon\n",
    "polygons = [Polygon(poly) for poly in buildings]\n",
    "\n",
    "fig, ax = plt.subplots(1)\n",
    "\n",
    "for polygon in polygons:\n",
    "    x, y = polygon.exterior.xy\n",
    "    plt.fill(x, y, edgecolor='red', facecolor='lightgrey')\n",
    "\n",
    "for tree in trees:\n",
    "    plt.scatter(tree[0], tree[1], c='green')\n",
    "\n",
    "for pole in poles:\n",
    "    plt.scatter(pole[0], pole[1], c='purple', marker='x')\n",
    "\n",
    "((x_min, y_max), (x_max, y_min)) = bbox\n",
    "box = patches.Rectangle((x_min, y_min), x_max-x_min, y_max-y_min, linewidth=1, linestyle='--', edgecolor='k', fill=False)\n",
    "ax.add_patch(box)\n",
    "\n",
    "plt.axis('equal')\n",
    "plt.show()"
   ]
  },
  {
   "cell_type": "code",
   "execution_count": null,
   "id": "a70ac77b-ae70-4d8c-a70d-ce7678373120",
   "metadata": {},
   "outputs": [],
   "source": []
  }
 ],
 "metadata": {
  "kernelspec": {
   "display_name": "Python 3",
   "language": "python",
   "name": "python3"
  },
  "language_info": {
   "codemirror_mode": {
    "name": "ipython",
    "version": 3
   },
   "file_extension": ".py",
   "mimetype": "text/x-python",
   "name": "python",
   "nbconvert_exporter": "python",
   "pygments_lexer": "ipython3",
   "version": "3.7.10"
  }
 },
 "nbformat": 4,
 "nbformat_minor": 5
}
