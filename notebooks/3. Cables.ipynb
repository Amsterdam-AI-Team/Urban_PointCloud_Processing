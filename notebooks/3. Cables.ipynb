{
 "cells": [
  {
   "cell_type": "markdown",
   "id": "d70114bf-67b2-4a07-80c9-a518609ed99c",
   "metadata": {},
   "source": [
    "# Labelling of cables and suspended streetlights\n",
    "\n",
    "We label cables by locating 'linear point' clusters above ground."
   ]
  },
  {
   "cell_type": "code",
   "execution_count": null,
   "id": "989afa0d-3b10-4b71-a3c2-38f85e4df708",
   "metadata": {},
   "outputs": [],
   "source": [
    "# Uncomment to load the local package rather than the pip-installed version.\n",
    "# Add project src to path.\n",
    "import set_path"
   ]
  },
  {
   "cell_type": "code",
   "execution_count": null,
   "id": "f6d01928",
   "metadata": {},
   "outputs": [],
   "source": [
    "# Import modules.\n",
    "import numpy as np\n",
    "import logging\n",
    "\n",
    "import upcp.utils.log_utils as log_utils\n",
    "import upcp.utils.ahn_utils as ahn_utils\n",
    "import upcp.utils.bgt_utils as bgt_utils\n",
    "import upcp.fusion as fusion\n",
    "from upcp.labels import Labels\n",
    "from upcp.pipeline import Pipeline\n",
    "\n",
    "# INFO messages will be printed to console.\n",
    "log_utils.reset_logger()\n",
    "log_utils.add_console_logger(level=logging.DEBUG)"
   ]
  },
  {
   "cell_type": "markdown",
   "id": "bdbe7291",
   "metadata": {},
   "source": [
    "## Cable fuser based on point neighbourhood.\n",
    "First, download and parse the required BGT and BAG data in notebook [1. Generate reference data](1.%20Generate%20reference%20data.ipynb)."
   ]
  },
  {
   "cell_type": "code",
   "execution_count": null,
   "id": "89a24ba1",
   "metadata": {},
   "outputs": [],
   "source": [
    "# The already labelled ground and building points must be removed.\n",
    "exclude_labels = (Labels.GROUND, Labels.ROAD, Labels.BUILDING)"
   ]
  },
  {
   "cell_type": "code",
   "execution_count": null,
   "id": "c181f794",
   "metadata": {},
   "outputs": [],
   "source": [
    "# Select the file to process.\n",
    "tilecode = '2386_9702'\n",
    "# tilecode = '2397_9705'\n",
    "\n",
    "in_file = '../datasets/pointcloud/labelled_' + tilecode + '.laz'\n",
    "out_file = '../datasets/pointcloud/labelled_' + tilecode + '.laz'\n",
    "\n",
    "# Data folder for the fusers.\n",
    "ahn_data_folder = '../datasets/ahn/'\n",
    "pc_data_folder = '../datasets/pointcloud/'\n",
    "bag_building_file = '../datasets/bag/bag_buildings_demo.csv'\n",
    "bgt_tramtrack_file = '../datasets/bgt/bgt_tramtracks_demo.csv'\n",
    "\n",
    "# We need elevation data to determine object height above ground.\n",
    "ahn_reader = ahn_utils.NPZReader(ahn_data_folder)\n",
    "\n",
    "# Create reader for BAG outlines.\n",
    "bag_building_reader = bgt_utils.BGTPolyReader(bgt_file=bag_building_file)\n",
    "\n",
    "# Create reader for BGT road part polygons.\n",
    "bgt_tramtrack_reader = bgt_utils.BGTLineReader(bgt_file=bgt_tramtrack_file)"
   ]
  },
  {
   "cell_type": "markdown",
   "id": "d65a242a-eb1d-4554-87aa-c839a5756cbc",
   "metadata": {},
   "source": [
    "For Cable fuser parameters, see [cable_fuser.py](https://github.com/Amsterdam-AI-Team/Urban_PointCloud_Processing/blob/main/src/upcp/fusion/cable_fuser.py)"
   ]
  },
  {
   "cell_type": "code",
   "execution_count": null,
   "id": "89f27453-61a9-4295-87c3-15ca5b665604",
   "metadata": {},
   "outputs": [],
   "source": [
    "# Car fuser using a clustering algorithm and BGT road data.\n",
    "cable_fuser = fusion.CableFuser(Labels.CABLE, Labels.CABLE, Labels.TRAM_CABLE, Labels.ARMATUUR, ahn_reader, bag_reader=bag_building_reader, bgt_tram_reader=bgt_tramtrack_reader)"
   ]
  },
  {
   "cell_type": "markdown",
   "id": "6b96cd6f",
   "metadata": {},
   "source": [
    "## Process point clouds and save the results\n",
    "The pipeline can now be used to process point clouds. Labels will be written to the LAS file as a new extended field called label."
   ]
  },
  {
   "cell_type": "code",
   "execution_count": null,
   "id": "e9c5e2ab",
   "metadata": {},
   "outputs": [],
   "source": [
    "# Set-up the order in how we want to label.\n",
    "process_sequence = (cable_fuser,)\n",
    "pipeline = Pipeline(processors=process_sequence, exclude_labels=exclude_labels, caching=False)"
   ]
  },
  {
   "cell_type": "markdown",
   "id": "a38e12ad",
   "metadata": {},
   "source": [
    "## Process a single file"
   ]
  },
  {
   "cell_type": "code",
   "execution_count": null,
   "id": "448516f0",
   "metadata": {},
   "outputs": [],
   "source": [
    "# Process the file.\n",
    "pipeline.process_file(in_file, out_file=out_file)"
   ]
  }
 ],
 "metadata": {
  "kernelspec": {
   "display_name": "Python 3 (ipykernel)",
   "language": "python",
   "name": "python3"
  },
  "language_info": {
   "codemirror_mode": {
    "name": "ipython",
    "version": 3
   },
   "file_extension": ".py",
   "mimetype": "text/x-python",
   "name": "python",
   "nbconvert_exporter": "python",
   "pygments_lexer": "ipython3",
   "version": "3.10.8"
  },
  "vscode": {
   "interpreter": {
    "hash": "aee8b7b246df8f9039afb4144a1f6fd8d2ca17a180786b69acc140d282b71a49"
   }
  }
 },
 "nbformat": 4,
 "nbformat_minor": 5
}
