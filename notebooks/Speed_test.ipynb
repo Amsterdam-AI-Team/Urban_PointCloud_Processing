{
 "cells": [
  {
   "cell_type": "code",
   "execution_count": 1,
   "id": "e165b7f4-76b1-428c-897a-0b4abe4499b4",
   "metadata": {},
   "outputs": [],
   "source": [
    "import set_path\n",
    "\n",
    "import numpy as np\n",
    "from numba import jit, njit, vectorize, bool_, float64\n",
    "import numba\n",
    "import ast\n",
    "import csv\n",
    "import time\n",
    "import pylas\n",
    "import src.utils.clip_utils as clip_utils"
   ]
  },
  {
   "cell_type": "code",
   "execution_count": 2,
   "id": "9b1097a9-b243-49ad-8c5b-20729906fb74",
   "metadata": {},
   "outputs": [],
   "source": [
    "buildings = []\n",
    "bgt_file = '../datasets/bgt/pand_scrape_119300,485150,119350,485100.csv'\n",
    "\n",
    "with open(bgt_file, 'r', newline='') as csvfile:\n",
    "    reader = csv.DictReader(csvfile)\n",
    "    for row in reader:\n",
    "        buildings.append(ast.literal_eval(row['pand_polygon']))"
   ]
  },
  {
   "cell_type": "code",
   "execution_count": 3,
   "id": "c422eafd-fecd-4696-b959-9079d84d849e",
   "metadata": {},
   "outputs": [],
   "source": [
    "las = pylas.read('../datasets/pointcloud/filtered_2386_9702.laz')\n",
    "xy_points = {'x': las.x, 'y': las.y}"
   ]
  },
  {
   "cell_type": "code",
   "execution_count": 4,
   "id": "1f6b6101-2d18-41d0-b608-6c916c51c4f8",
   "metadata": {},
   "outputs": [
    {
     "name": "stdout",
     "output_type": "stream",
     "text": [
      "ray_trace finished in 2.0636019706726074 seconds.\n",
      "sm_parallel finished in 0.2504231929779053 seconds.\n",
      "sm_single finished in 0.2989022731781006 seconds.\n"
     ]
    }
   ],
   "source": [
    "start = time.time()\n",
    "ray_building_mask = []\n",
    "for polygon in buildings:\n",
    "    ray_building_mask.extend(clip_utils.poly_clip(xy_points, polygon, method='ray'))\n",
    "end = time.time()\n",
    "print(f'ray_trace finished in {end-start} seconds.')\n",
    "\n",
    "\n",
    "# warmup\n",
    "clip_utils.poly_clip(xy_points, buildings[0], method='sm')\n",
    "\n",
    "start = time.time()\n",
    "sm_building_mask = []\n",
    "for polygon in buildings:\n",
    "    sm_building_mask.extend(clip_utils.poly_clip(xy_points, polygon, method='sm'))\n",
    "end = time.time()\n",
    "print(f'sm_parallel finished in {end-start} seconds.')\n",
    "\n",
    "\n",
    "# warmup\n",
    "clip_utils.poly_clip(xy_points, buildings[0], method='sm_single')\n",
    "\n",
    "start = time.time()\n",
    "sms_building_mask = []\n",
    "for polygon in buildings:\n",
    "    sms_building_mask.extend(clip_utils.poly_clip(xy_points, polygon, method='sm_single'))\n",
    "end = time.time()\n",
    "print(f'sm_single finished in {end-start} seconds.')"
   ]
  },
  {
   "cell_type": "code",
   "execution_count": 9,
   "id": "1016f61d-780b-46fb-826f-b28f021775ce",
   "metadata": {},
   "outputs": [
    {
     "name": "stdout",
     "output_type": "stream",
     "text": [
      "1.82 s ± 5.82 ms per loop (mean ± std. dev. of 7 runs, 1 loop each)\n"
     ]
    }
   ],
   "source": [
    "%%timeit\n",
    "ray_building_mask = []\n",
    "for polygon in buildings:\n",
    "    ray_building_mask.extend(clip_utils.poly_clip(xy_points, polygon, method='ray'))"
   ]
  },
  {
   "cell_type": "code",
   "execution_count": 15,
   "id": "d570e2b9-72dd-45ee-a3f4-e8e39f67bdf4",
   "metadata": {},
   "outputs": [
    {
     "name": "stdout",
     "output_type": "stream",
     "text": [
      "237 ms ± 900 µs per loop (mean ± std. dev. of 7 runs, 10 loops each)\n"
     ]
    }
   ],
   "source": [
    "%%timeit -n10 -r7\n",
    "sm_building_mask = []\n",
    "for polygon in buildings:\n",
    "    sm_building_mask.extend(clip_utils.poly_clip(xy_points, polygon, method='sm'))"
   ]
  },
  {
   "cell_type": "code",
   "execution_count": 14,
   "id": "5a98452b-d306-4d65-b148-61ddfa319e07",
   "metadata": {},
   "outputs": [
    {
     "name": "stdout",
     "output_type": "stream",
     "text": [
      "287 ms ± 1.38 ms per loop (mean ± std. dev. of 7 runs, 10 loops each)\n"
     ]
    }
   ],
   "source": [
    "%%timeit -n10 -r7\n",
    "sms_building_mask = []\n",
    "for polygon in buildings:\n",
    "    sms_building_mask.extend(clip_utils.poly_clip(xy_points, polygon, method='sm_single'))"
   ]
  },
  {
   "cell_type": "code",
   "execution_count": 5,
   "id": "e5ec5537-2fde-419b-bced-77083c8ea547",
   "metadata": {},
   "outputs": [
    {
     "data": {
      "text/plain": [
       "True"
      ]
     },
     "execution_count": 5,
     "metadata": {},
     "output_type": "execute_result"
    }
   ],
   "source": [
    "ray_building_mask == sm_building_mask"
   ]
  },
  {
   "cell_type": "code",
   "execution_count": 6,
   "id": "49f7a1f0-ae71-4d68-a673-cc6b7015b645",
   "metadata": {},
   "outputs": [
    {
     "data": {
      "text/plain": [
       "True"
      ]
     },
     "execution_count": 6,
     "metadata": {},
     "output_type": "execute_result"
    }
   ],
   "source": [
    "sms_building_mask == ray_building_mask"
   ]
  },
  {
   "cell_type": "code",
   "execution_count": null,
   "id": "1d33e26f-2fcc-4587-8c2c-cd9cd87116e0",
   "metadata": {},
   "outputs": [],
   "source": []
  }
 ],
 "metadata": {
  "kernelspec": {
   "display_name": "Python 3",
   "language": "python",
   "name": "python3"
  },
  "language_info": {
   "codemirror_mode": {
    "name": "ipython",
    "version": 3
   },
   "file_extension": ".py",
   "mimetype": "text/x-python",
   "name": "python",
   "nbconvert_exporter": "python",
   "pygments_lexer": "ipython3",
   "version": "3.7.10"
  }
 },
 "nbformat": 4,
 "nbformat_minor": 5
}
