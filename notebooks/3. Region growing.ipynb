{
 "cells": [
  {
   "cell_type": "markdown",
   "id": "promotional-porter",
   "metadata": {},
   "source": [
    "# Region growing segmentation\n",
    "Starting from seed points, the region-growing algorithm is used to decide whether a point should be included in a region or not.\n",
    "\n",
    "### Algorithm explained\n",
    "Based on: https://pcl.readthedocs.io/projects/tutorials/en/latest/region_growing_segmentation.html\n",
    "\n",
    "With the PCL implementation, a point is picked with minimum curvature value and the region growth process is started. In our implementation, we start from initial seed points that are considered to be inside the object to be segmented. \n",
    "\n",
    "For every point in the seed list, the algorithm finds neighboring points. Every neighbor is tested for the angle between its normal and normal of the current seed point. If the angle is less than the threshold value then current point is added to the current region."
   ]
  },
  {
   "cell_type": "code",
   "execution_count": null,
   "id": "funky-debate",
   "metadata": {},
   "outputs": [],
   "source": [
    "# Add project src to path.\n",
    "import set_path\n",
    "\n",
    "# Import modules.\n",
    "import numpy as np\n",
    "import pylas\n",
    "\n",
    "from src.cluster.region_growing import RegionGrowing\n",
    "from src.utils.labels import Labels\n",
    "from src.utils.las_utils import label_and_save_las"
   ]
  },
  {
   "cell_type": "markdown",
   "id": "attended-worry",
   "metadata": {},
   "source": [
    "### Process a single file"
   ]
  },
  {
   "cell_type": "code",
   "execution_count": null,
   "id": "rubber-frank",
   "metadata": {},
   "outputs": [],
   "source": [
    "# In this example we want to grow the building points, the initial seed points.\n",
    "# The ground points must be removed to fast and properly cluster the cloud\n",
    "seed_point_label = Labels.BUILDING\n",
    "exclude_label = Labels.GROUND\n",
    "\n",
    "# Select the file to process.\n",
    "in_file = '../datasets/pointcloud/labelled_2386_9702.laz'\n",
    "out_file = '../datasets/pointcloud/grown_2386_9702.laz'\n",
    "\n",
    "# Read LiDAR point cloud\n",
    "las = pylas.read(in_file)\n",
    "# Configure the points that we want to perform region growing on \n",
    "mask = (las.label != exclude_label)\n",
    "# Initialize region growing class\n",
    "reg = RegionGrowing()\n",
    "# Process the file\n",
    "reg.set_input_cloud(las, seed_point_label, mask)\n",
    "regions = reg.region_growing(seed_point_label, las.label)"
   ]
  },
  {
   "cell_type": "code",
   "execution_count": null,
   "id": "elect-riding",
   "metadata": {},
   "outputs": [],
   "source": [
    "# Save classification labels to .laz file\n",
    "label_and_save_las(las, regions, out_file)"
   ]
  },
  {
   "cell_type": "code",
   "execution_count": null,
   "id": "actual-barbados",
   "metadata": {},
   "outputs": [],
   "source": []
  }
 ],
 "metadata": {
  "kernelspec": {
   "display_name": "Python 3",
   "language": "python",
   "name": "python3"
  },
  "language_info": {
   "codemirror_mode": {
    "name": "ipython",
    "version": 3
   },
   "file_extension": ".py",
   "mimetype": "text/x-python",
   "name": "python",
   "nbconvert_exporter": "python",
   "pygments_lexer": "ipython3",
   "version": "3.8.5"
  }
 },
 "nbformat": 4,
 "nbformat_minor": 5
}
