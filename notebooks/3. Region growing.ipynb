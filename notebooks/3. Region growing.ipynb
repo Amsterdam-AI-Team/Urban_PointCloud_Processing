{
 "cells": [
  {
   "cell_type": "markdown",
   "metadata": {},
   "source": [
    "# Region Growing\n",
    "\n",
    "Starting from seed points, the region-growing algorithm is used to decide whether a point should be included in a region or not. Two diffenerent implemenations are explained in this notebook:\n",
    "- Region growing based on the Point Cloud Library (PCL) implementation\n",
    "- Clustering based region growing using \"Label Connected Components\"\n"
   ]
  },
  {
   "cell_type": "code",
   "execution_count": null,
   "metadata": {},
   "outputs": [],
   "source": [
    "# Add project src to path.\n",
    "import set_path\n",
    "\n",
    "import numpy as np\n",
    "import pylas\n",
    "import time\n",
    "\n",
    "from src.utils.las_utils import label_and_save_las\n",
    "from src.utils.labels import Labels"
   ]
  },
  {
   "cell_type": "code",
   "execution_count": null,
   "metadata": {
    "tags": []
   },
   "outputs": [],
   "source": [
    "# In this example we want to grow the building points, the initial seed points.\n",
    "# The ground points must be removed to fast and properly cluster the cloud\n",
    "seed_point_label = Labels.BUILDING\n",
    "exclude_label = Labels.GROUND\n",
    "\n",
    "# Select the file to process.\n",
    "in_file = \"../datasets/pointcloud/labelled_2386_9702.laz\"\n",
    "out_file = \"../datasets/pointcloud/grown_2386_9702.laz\"\n",
    "\n",
    "# Read LiDAR point cloud\n",
    "las = pylas.read(in_file)\n",
    "# Configure the points that we want to perform region growing on \n",
    "mask = (las.label != exclude_label)"
   ]
  },
  {
   "cell_type": "markdown",
   "metadata": {},
   "source": [
    "## Region growing segmentation\n",
    "\n",
    "### Algorithm explained\n",
    "Based on: https://pcl.readthedocs.io/projects/tutorials/en/latest/region_growing_segmentation.html\n",
    "\n",
    "With the PCL implementation, a point is picked with minimum curvature value and the region growth process is started. In our implementation, we start from initial seed points that are considered to be inside the object to be segmented. \n",
    "\n",
    "For every point in the seed list, the algorithm finds neighboring points. Every neighbor is tested for the angle between its normal and normal of the current seed point. If the angle is less than the threshold value then current point is added to the current region."
   ]
  },
  {
   "cell_type": "code",
   "execution_count": null,
   "metadata": {},
   "outputs": [],
   "source": [
    "from src.cluster.region_growing import RegionGrowing"
   ]
  },
  {
   "cell_type": "code",
   "execution_count": null,
   "metadata": {},
   "outputs": [],
   "source": [
    "start = time.time()\n",
    "\n",
    "# Initialize region growing class\n",
    "reg = RegionGrowing()\n",
    "# Process the file\n",
    "reg.set_input_cloud(las, seed_point_label, mask)\n",
    "regions = reg.region_growing(seed_point_label, las.label)\n",
    "\n",
    "end = time.time()\n",
    "print(f'Finished in {end-start:.2f} seconds.')"
   ]
  },
  {
   "cell_type": "markdown",
   "metadata": {},
   "source": [
    "## Clustering based region growing segmentation\n",
    "\n",
    "### Algorithm explained\n",
    "This code performs clustering based region growing segmentation. The main tasks include: \n",
    "- The [Label Connected Components Segmentation](https://www.cloudcompare.org/doc/wiki/index.php?title=Label_Connected_Components) algorithm clusters the selected cloud(s) in smaller parts separated by a minimum distance.\n",
    "- Next, our code grows regions, or in this case all points inside a clusters, based on a percentage of initial seed points inside a cluster. \n",
    "\n",
    "### Installation instructions\n",
    "A Python wrapper provided for CloudCompare allows to use “Label Connected Components”. The Python wrapper works on **linux only**. This wrapper and all the dependencies can be installed using the build and installation instructions in the README at [CloudCompare-PythonPlugin.](https://github.com/tmontaigu/CloudCompare-PythonPlugin.git)"
   ]
  },
  {
   "cell_type": "code",
   "execution_count": null,
   "metadata": {},
   "outputs": [],
   "source": [
    "from src.cluster.label_connected_comp import LabelConnectedComp"
   ]
  },
  {
   "cell_type": "code",
   "execution_count": null,
   "metadata": {},
   "outputs": [],
   "source": [
    "start = time.time()\n",
    "\n",
    "# Initialize clustering based region growing class\n",
    "lcc = LabelConnectedComp(octree_level=10, min_component_size=100)\n",
    "# Process the file\n",
    "lcc.set_input_cloud(las, mask)\n",
    "lcc.label_connected_comp()\n",
    "regions = lcc.fill_components(las.label, seed_point_label, mask, threshold=0.1)\n",
    "\n",
    "end = time.time()\n",
    "print(f'Finished in {end-start:.2f} seconds.')"
   ]
  },
  {
   "cell_type": "code",
   "execution_count": null,
   "metadata": {},
   "outputs": [],
   "source": [
    "# Save labelled point cloud\n",
    "label_and_save_las(las, regions, out_file)"
   ]
  },
  {
   "cell_type": "code",
   "execution_count": null,
   "metadata": {},
   "outputs": [],
   "source": []
  }
 ],
 "metadata": {
  "kernelspec": {
   "display_name": "Python 3",
   "language": "python",
   "name": "python3"
  },
  "language_info": {
   "codemirror_mode": {
    "name": "ipython",
    "version": 3
   },
   "file_extension": ".py",
   "mimetype": "text/x-python",
   "name": "python",
   "nbconvert_exporter": "python",
   "pygments_lexer": "ipython3",
   "version": "3.8.5"
  }
 },
 "nbformat": 4,
 "nbformat_minor": 4
}
