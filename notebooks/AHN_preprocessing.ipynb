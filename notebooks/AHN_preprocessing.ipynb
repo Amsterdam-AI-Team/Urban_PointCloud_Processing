{
 "cells": [
  {
   "cell_type": "markdown",
   "id": "c3fd9730-0dc5-4520-a485-b2445c984820",
   "metadata": {},
   "source": [
    "# Pre-processing of LAS tiles\n",
    "\n",
    "Pre-processing consists of two parts:\n",
    "1. Clipping of AHN point clouds to match target point clouds;\n",
    "2. Ground and building surface extraction."
   ]
  },
  {
   "cell_type": "code",
   "execution_count": null,
   "id": "8adb4173-257d-49f2-9b20-c5af54f642b5",
   "metadata": {},
   "outputs": [],
   "source": [
    "%config Completer.use_jedi = False\n",
    "\n",
    "# Add project src to path.\n",
    "import set_path\n",
    "\n",
    "# Import modules.\n",
    "import numpy as np\n",
    "import re\n",
    "import pylas\n",
    "import time\n",
    "\n",
    "import src.preprocessing.ahn_preprocessing as ahn_preprocessing\n",
    "import src.utils.las_utils as las_utils"
   ]
  },
  {
   "cell_type": "markdown",
   "id": "de6d646d-51ab-49ac-9555-9a74138ce08d",
   "metadata": {},
   "source": [
    "## 1a. Clip a single file"
   ]
  },
  {
   "cell_type": "code",
   "execution_count": null,
   "id": "6cbcb896-ef19-4c14-9b9b-6f84bb999a94",
   "metadata": {},
   "outputs": [],
   "source": [
    "# The point cloud tile for which a corresponding AHN tile should be created.\n",
    "filename = '../datasets/pointcloud/filtered_2386_9702.laz'\n",
    "tile_code = re.match(r'.*(\\d{4}_\\d{4}).*', filename)[1]"
   ]
  },
  {
   "cell_type": "code",
   "execution_count": null,
   "id": "4deb32af-cb1d-4856-857a-d16ef6d2215e",
   "metadata": {},
   "outputs": [],
   "source": [
    "# Download the corresponding AHN cloud from \n",
    "# https://www.arcgis.com/apps/Embed/index.html?appid=a3dfa5a818174aa787392e461c80f781\n",
    "!wget https://download.pdok.nl/rws/ahn3/v1_0/laz/C_25DN2.LAZ -P ../datasets/"
   ]
  },
  {
   "cell_type": "code",
   "execution_count": null,
   "id": "05d4ee80-dd40-4796-a650-9745959412da",
   "metadata": {},
   "outputs": [],
   "source": [
    "# Load the AHN point cloud.\n",
    "# WARNING: this may require 16+ GB of RAM, depending on the size of the cloud.\n",
    "ahn_cloud_file = '../datasets/C_25DN2.LAZ'\n",
    "ahn_cloud = pylas.read(ahn_cloud_file)"
   ]
  },
  {
   "cell_type": "code",
   "execution_count": null,
   "id": "4a115c01-bd26-4648-932d-8ca4f5289aa5",
   "metadata": {},
   "outputs": [],
   "source": [
    "# Clip the corresponding AHN point cloud tile.\n",
    "start = time.time()\n",
    "ahn_preprocessing.clip_ahn_las_tile(ahn_cloud, filename, out_folder='../datasets/ahn/', buffer=1)\n",
    "end = time.time()\n",
    "print(f'Tile clipped in {end-start} seconds.')"
   ]
  },
  {
   "cell_type": "markdown",
   "id": "56a36c6c-fd39-478c-8b08-dfcb7622aad9",
   "metadata": {},
   "source": [
    "## 1b. Clip all files in a folder\n",
    "\n",
    "Note: we only provide one file, so this serves mainly as a howto rather than a real demonstration."
   ]
  },
  {
   "cell_type": "code",
   "execution_count": null,
   "id": "90e42e65-7096-439f-94c6-2dbad3fa6743",
   "metadata": {},
   "outputs": [],
   "source": [
    "las_folder = '../datasets/pointcloud/'\n",
    "out_folder = '../datasets/ahn/'\n",
    "\n",
    "# Set resume=True to skip existing files in the out_folder.\n",
    "ahn_preprocessing.clip_ahn_las_folder(ahn_cloud, las_folder, out_folder=out_folder, buffer=1, resume=False)"
   ]
  },
  {
   "cell_type": "markdown",
   "id": "369980ec-43b0-4817-b80f-f005c20ba978",
   "metadata": {},
   "source": [
    "## 2a. Surface extraction for a single file"
   ]
  },
  {
   "cell_type": "code",
   "execution_count": null,
   "id": "63abda59-af1e-43ce-9414-f1df601ff089",
   "metadata": {},
   "outputs": [],
   "source": [
    "# Load the clipped tile that we have just created.\n",
    "ahn_las_file = '../datasets/ahn/ahn_2386_9702.laz'\n",
    "\n",
    "start = time.time()\n",
    "# This will create the AHN ground and building surfaces, with a 0.1m resolution, and save them as an .npz file.\n",
    "_file = ahn_preprocessing.process_ahn_las_tile(ahn_las_file, out_folder='../datasets/ahn/')\n",
    "end = time.time()\n",
    "print(f'Processed LAS tile in {end-start}s.')\n",
    "\n",
    "# Load the result.\n",
    "ahn_tile = ahn_preprocessing.load_ahn_tile(_file)"
   ]
  },
  {
   "cell_type": "code",
   "execution_count": null,
   "id": "86a5b5c4-4412-4e6c-ba9d-800610d14043",
   "metadata": {},
   "outputs": [],
   "source": [
    "# Optional: plot the resulting surfaces.\n",
    "\n",
    "import matplotlib.pyplot as plt\n",
    "\n",
    "fig, (ax1, ax2) = plt.subplots(1, 2, figsize=(10,6))\n",
    "im1 = ax1.imshow(ahn_tile['ground_surface'].astype('float64'), interpolation='none')\n",
    "im2 = ax2.imshow(ahn_tile['building_surface'].astype('float64'), interpolation='none')\n",
    "ax1.set_title('Ground surface')\n",
    "ax1.set_xticks(range(0, 501, 100))\n",
    "ax1.set_xticklabels(np.arange(ahn_tile['x'][0], ahn_tile['x'][-1]+1, 10, dtype=int))\n",
    "ax1.set_yticks(range(501, 0, -100))\n",
    "ax1.set_yticklabels(np.arange(ahn_tile['y'][-1], ahn_tile['y'][0]+1, 10, dtype=int))\n",
    "ax2.set_title('Building surface')\n",
    "ax2.set_xticks(range(0, 501, 100))\n",
    "ax2.set_xticklabels(np.arange(ahn_tile['x'][0], ahn_tile['x'][-1]+1, 10, dtype=int))\n",
    "ax2.set_yticks([])\n",
    "plt.colorbar(im1, ax=ax1, fraction=0.046, pad=0.04)\n",
    "plt.colorbar(im2, ax=ax2, fraction=0.046, pad=0.04)\n",
    "plt.show()"
   ]
  },
  {
   "cell_type": "markdown",
   "id": "ce1793e2-878e-4224-becb-37476e3e25a1",
   "metadata": {},
   "source": [
    "## 2b. Surface extraction for a folder of ahn cloud tiles"
   ]
  },
  {
   "cell_type": "markdown",
   "id": "889ab9b4-a304-4afa-a715-7b783aa9ad2b",
   "metadata": {},
   "source": [
    "We have a batch script to do this, it allows using multiple CPU threads to speed things up.\n",
    "\n",
    "    cd ../scripts\n",
    "    python ahn_batch_processor.py --in_folder ../datasets/ahn/ --out_folder ../datasets/ahn/ --resume --workers 4"
   ]
  },
  {
   "cell_type": "code",
   "execution_count": null,
   "id": "927c31d9-08a6-4b7a-8bb3-aefc7ccfd2fc",
   "metadata": {},
   "outputs": [],
   "source": []
  }
 ],
 "metadata": {
  "kernelspec": {
   "display_name": "Python 3",
   "language": "python",
   "name": "python3"
  },
  "language_info": {
   "codemirror_mode": {
    "name": "ipython",
    "version": 3
   },
   "file_extension": ".py",
   "mimetype": "text/x-python",
   "name": "python",
   "nbconvert_exporter": "python",
   "pygments_lexer": "ipython3",
   "version": "3.7.10"
  }
 },
 "nbformat": 4,
 "nbformat_minor": 5
}
