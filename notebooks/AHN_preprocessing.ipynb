{
 "cells": [
  {
   "cell_type": "markdown",
   "id": "c3fd9730-0dc5-4520-a485-b2445c984820",
   "metadata": {},
   "source": [
    "# Pre-processing of LAS tiles"
   ]
  },
  {
   "cell_type": "code",
   "execution_count": null,
   "id": "8adb4173-257d-49f2-9b20-c5af54f642b5",
   "metadata": {},
   "outputs": [],
   "source": [
    "%config Completer.use_jedi = False\n",
    "\n",
    "# Add project src to path.\n",
    "import set_path\n",
    "\n",
    "# Import modules.\n",
    "import numpy as np\n",
    "import re\n",
    "import pylas\n",
    "\n",
    "import src.preprocessing.ahn_preprocessing as ahn_preprocessing\n",
    "import src.utils.las_utils as las_utils"
   ]
  },
  {
   "cell_type": "markdown",
   "id": "de6d646d-51ab-49ac-9555-9a74138ce08d",
   "metadata": {},
   "source": [
    "## Process a single file"
   ]
  },
  {
   "cell_type": "code",
   "execution_count": null,
   "id": "6cbcb896-ef19-4c14-9b9b-6f84bb999a94",
   "metadata": {},
   "outputs": [],
   "source": [
    "# The point cloud tile for which a corresponding AHN tile should be created.\n",
    "filename = '../datasets/pointcloud/filtered_2386_9702.laz'\n",
    "tile_code = re.match(r'.*(\\d{4}_\\d{4}).*', filename)[1]"
   ]
  },
  {
   "cell_type": "code",
   "execution_count": null,
   "id": "4deb32af-cb1d-4856-857a-d16ef6d2215e",
   "metadata": {},
   "outputs": [],
   "source": [
    "# Download the corresponding AHN cloud from \n",
    "# https://www.arcgis.com/apps/Embed/index.html?appid=a3dfa5a818174aa787392e461c80f781\n",
    "!wget https://download.pdok.nl/rws/ahn3/v1_0/laz/C_25DN2.LAZ -P ../datasets/"
   ]
  },
  {
   "cell_type": "code",
   "execution_count": null,
   "id": "05d4ee80-dd40-4796-a650-9745959412da",
   "metadata": {},
   "outputs": [],
   "source": [
    "# Load the AHN point cloud.\n",
    "# WARNING: this may require 16+ GB of RAM, depending on the size of the cloud.\n",
    "ahn_cloud_file = '../datasets/C_25DN2.LAZ'\n",
    "ahn_cloud = pylas.read(ahn_cloud_file)"
   ]
  },
  {
   "cell_type": "code",
   "execution_count": null,
   "id": "4a115c01-bd26-4648-932d-8ca4f5289aa5",
   "metadata": {},
   "outputs": [],
   "source": [
    "# Clip the corresponding AHN point cloud tile.\n",
    "ahn_preprocessing.clip_ahn_las_tile(ahn_cloud, filename, out_folder='../datasets/ahn/', buffer=1)"
   ]
  },
  {
   "cell_type": "markdown",
   "id": "56a36c6c-fd39-478c-8b08-dfcb7622aad9",
   "metadata": {},
   "source": [
    "## Process a folder\n",
    "\n",
    "Note: we only provide one file, so this serves mainly as a howto rather than a real demonstration."
   ]
  },
  {
   "cell_type": "code",
   "execution_count": null,
   "id": "90e42e65-7096-439f-94c6-2dbad3fa6743",
   "metadata": {},
   "outputs": [],
   "source": [
    "las_folder = '../datasets/pointcloud/'\n",
    "out_folder = '../datasets/ahn/'\n",
    "\n",
    "# Set resume=True to skip existing files in the out_folder.\n",
    "ahn_preprocessing.clip_ahn_las_folder(ahn_cloud, las_folder, out_folder=out_folder, buffer=1, resume=False)"
   ]
  },
  {
   "cell_type": "code",
   "execution_count": null,
   "id": "5b0f7df1-d43b-4730-b5df-47740d4f56ad",
   "metadata": {},
   "outputs": [],
   "source": []
  }
 ],
 "metadata": {
  "kernelspec": {
   "display_name": "Python 3",
   "language": "python",
   "name": "python3"
  },
  "language_info": {
   "codemirror_mode": {
    "name": "ipython",
    "version": 3
   },
   "file_extension": ".py",
   "mimetype": "text/x-python",
   "name": "python",
   "nbconvert_exporter": "python",
   "pygments_lexer": "ipython3",
   "version": "3.7.10"
  }
 },
 "nbformat": 4,
 "nbformat_minor": 5
}
