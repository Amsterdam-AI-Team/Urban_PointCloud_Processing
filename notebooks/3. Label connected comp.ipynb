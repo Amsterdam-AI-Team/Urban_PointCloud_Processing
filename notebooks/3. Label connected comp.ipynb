{
 "cells": [
  {
   "cell_type": "markdown",
   "metadata": {},
   "source": [
    "## Label Connected Components \n",
    "\n",
    "CloudCompare Python wrapper, works on **linux only**.\n",
    "This code performs [Label Connected Components Segmentation](https://www.cloudcompare.org/doc/wiki/index.php?title=Label_Connected_Components).\n",
    "\n",
    "### Installation instructions\n",
    "This CloudCompare Python wrapper requires the following prerequisites in order to function correctly.\n",
    "- pybind11\n",
    "- libqt5svg5-dev\n",
    "- qt5-default\n",
    "\n",
    "Now clone the following repo:\n",
    "\n",
    "`git clone https://github.com/tmontaigu/CloudCompare-PythonPlugin.git`\n",
    "\n",
    "Install the pycc and cccorelib Python package from the GitHub repo:\n",
    "\n",
    "`cd [directory-of-the-repo]/wrapper/pycc` and `cd [directory-of-the-repo]/wrapper/cccorelib`\n",
    "\n",
    "`pip install .`"
   ]
  },
  {
   "cell_type": "code",
   "execution_count": null,
   "metadata": {},
   "outputs": [],
   "source": [
    "# Add project src to path.\n",
    "import set_path\n",
    "\n",
    "import pylas\n",
    "import time\n",
    "\n",
    "from src.cluster.label_connected_comp import LabelConnectedComp\n",
    "from src.utils.las_utils import label_and_save_las\n",
    "from src.utils.labels import Labels"
   ]
  },
  {
   "cell_type": "markdown",
   "metadata": {},
   "source": [
    "### Process a single file"
   ]
  },
  {
   "cell_type": "code",
   "execution_count": null,
   "metadata": {
    "tags": []
   },
   "outputs": [],
   "source": [
    "# Define labels to use\n",
    "seed_point_label = Labels.BUILDING\n",
    "noise_label = Labels.NOISE\n",
    "unlabelled_label = Labels.UNLABELLED\n",
    "exclude_label = Labels.GROUND\n",
    "\n",
    "# Select the file to process.\n",
    "in_file = \"../datasets/pointcloud/labelled_2386_9702.laz\"\n",
    "out_file = \"../datasets/pointcloud/grown_2386_9702.las\"\n",
    "\n",
    "start = time.time()\n",
    "\n",
    "# This example shows how to create a ccPointCloud from your custom data\n",
    "# here, we will load data from a las file using pylas.\n",
    "las = pylas.read(in_file)\n",
    "# Configure the points that we want to perform region growing on \n",
    "mask = (las.label != exclude_label)\n",
    "# Initialize region growing class\n",
    "lcc = LabelConnectedComp(octree_level=10, min_points=100)\n",
    "# Process the file\n",
    "lcc.set_input_cloud(las, mask)\n",
    "lcc.label_connected_comp()\n",
    "# (Optional) Noise filter\n",
    "# lcc.min_points_per_component(noise_label, min_component_size=100)\n",
    "#regions = lcc.fill_components(las.label, unlabelled_label, seed_point_label, mask)\n",
    "regions = lcc.fill_components_2(las.label, unlabelled_label, seed_point_label, mask, threshold=0.1)\n",
    "\n",
    "end = time.time()\n",
    "print(f'Finished in {end-start:.2f} seconds.')"
   ]
  },
  {
   "cell_type": "code",
   "execution_count": null,
   "metadata": {},
   "outputs": [],
   "source": [
    "# Save labelled point cloud\n",
    "label_and_save_las(las, regions, out_file)"
   ]
  },
  {
   "cell_type": "code",
   "execution_count": null,
   "metadata": {},
   "outputs": [],
   "source": []
  }
 ],
 "metadata": {
  "kernelspec": {
   "display_name": "Python 3",
   "language": "python",
   "name": "python3"
  },
  "language_info": {
   "codemirror_mode": {
    "name": "ipython",
    "version": 3
   },
   "file_extension": ".py",
   "mimetype": "text/x-python",
   "name": "python",
   "nbconvert_exporter": "python",
   "pygments_lexer": "ipython3",
   "version": "3.7.10"
  }
 },
 "nbformat": 4,
 "nbformat_minor": 4
}
